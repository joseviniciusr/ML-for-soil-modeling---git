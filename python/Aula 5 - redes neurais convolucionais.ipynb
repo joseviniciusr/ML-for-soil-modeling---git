{
 "cells": [
  {
   "cell_type": "code",
   "execution_count": 2,
   "id": "05c14932",
   "metadata": {},
   "outputs": [],
   "source": [
    "#!pip install numpy\n",
    "#!pip install pandas\n",
    "#!pip install plotly\n",
    "#!pip install chemotools\n",
    "#!pip install scipy\n",
    "#!pip install scikit-learn\n",
    "#!pip install Tensorflow\n",
    "#!pip install Keras"
   ]
  },
  {
   "cell_type": "code",
   "execution_count": 1,
   "id": "f3838932",
   "metadata": {},
   "outputs": [],
   "source": [
    "def resumo(Ref_cal, Pred_cal, Ref_val, Pred_val):\n",
    "    \"\"\"\n",
    "    Função para calcular as métricas de desempenho do modelo de regressão linear.\n",
    "    Args:\n",
    "        Ref_cal (array): Valores reais de calibração.\n",
    "        Pred_cal (array): Valores previstos de calibração.\n",
    "        Ref_val (array): Valores reais de validação.\n",
    "        Pred_val (array): Valores previstos de validação.\n",
    "    Returns:\n",
    "        pd.DataFrame: DataFrame com as métricas de desempenho.\n",
    "    \"\"\"\n",
    "    import pandas as pd\n",
    "    import numpy as np\n",
    "    from sklearn.metrics import mean_squared_error, r2_score\n",
    "    from scipy.stats import iqr\n",
    "\n",
    "\n",
    "    # Calculando R²\n",
    "    R2_cal = r2_score(Ref_cal, Pred_cal)\n",
    "    R2_val = r2_score(Ref_val, Pred_val)\n",
    "\n",
    "    # Calculando RMMSE\n",
    "    rmsec = np.sqrt(mean_squared_error(Ref_cal, Pred_cal))\n",
    "    rmsep = np.sqrt(mean_squared_error(Ref_val, Pred_val))\n",
    "\n",
    "    #Calculando rpd\n",
    "    rpd = np.std(Ref_cal)/rmsep\n",
    "\n",
    "    #Calculando RPIQ\n",
    "    rpiq = iqr(Ref_val, rng=(25,75))/rmsep\n",
    "\n",
    "    # Calculando Bias\n",
    "    bias_pred = sum(Ref_val - Pred_val) / len(Pred_val)\n",
    "\n",
    "    # Resumo do modelo\n",
    "    resumo = pd.DataFrame([R2_cal, R2_val, rmsec, rmsep, rpd, rpiq, bias_pred]).T\n",
    "    resumo.columns = ['R2_cal', 'R2_pred', 'RMSEC', 'RMSEP','RPD', 'RPIQ', 'Bias_pred']\n",
    "    return resumo.round(3)"
   ]
  },
  {
   "cell_type": "markdown",
   "id": "e5bd3072",
   "metadata": {},
   "source": [
    "## **importando dados .csv com o pandas.read_csv**"
   ]
  },
  {
   "cell_type": "code",
   "execution_count": 4,
   "id": "460b2cb5",
   "metadata": {},
   "outputs": [],
   "source": [
    "import pandas as pd\n",
    "Dataset = pd.read_csv('Dataset.csv', header=0, sep=';') #importando os dados"
   ]
  },
  {
   "cell_type": "code",
   "execution_count": 5,
   "id": "b04644cd",
   "metadata": {},
   "outputs": [
    {
     "data": {
      "application/vnd.microsoft.datawrangler.viewer.v0+json": {
       "columns": [
        {
         "name": "index",
         "rawType": "int64",
         "type": "integer"
        },
        {
         "name": "SOC",
         "rawType": "float64",
         "type": "float"
        },
        {
         "name": "CEC",
         "rawType": "float64",
         "type": "float"
        },
        {
         "name": "pH",
         "rawType": "float64",
         "type": "float"
        },
        {
         "name": "exMg",
         "rawType": "float64",
         "type": "float"
        },
        {
         "name": "exP",
         "rawType": "float64",
         "type": "float"
        },
        {
         "name": "exK",
         "rawType": "float64",
         "type": "float"
        },
        {
         "name": "exCa",
         "rawType": "float64",
         "type": "float"
        }
       ],
       "conversionMethod": "pd.DataFrame",
       "ref": "6d7b7528-7065-4f27-9e7f-ff28ce4de018",
       "rows": [
        [
         "0",
         "18.89",
         "11.9",
         "5.2",
         "1.68",
         "24.2",
         "0.56",
         "4.32"
        ],
        [
         "1",
         "16.24",
         "11.76",
         "5.6",
         "2.01",
         "12.1",
         "0.38",
         "5.1"
        ],
        [
         "2",
         "23.18",
         "13.28",
         "5.5",
         "2.3",
         "17.7",
         "0.2",
         "5.82"
        ],
        [
         "3",
         "14.64",
         "10.71",
         "5.2",
         "1.6",
         "5.5",
         "0.1",
         "3.67"
        ],
        [
         "4",
         "22.98",
         "13.13",
         "4.6",
         "1.48",
         "21.6",
         "0.3",
         "3.6"
        ],
        [
         "5",
         "15.38",
         "11.15",
         "4.4",
         "0.94",
         "11.8",
         "0.14",
         "2.87"
        ],
        [
         "6",
         "26.72",
         "14.59",
         "5.4",
         "2.96",
         "27.2",
         "0.35",
         "6.32"
        ],
        [
         "7",
         "14.99",
         "11.59",
         "4.9",
         "1.93",
         "9.7",
         "0.1",
         "3.8"
        ],
        [
         "8",
         "23.41",
         "14.09",
         "4.7",
         "2.17",
         "39.9",
         "0.3",
         "4.42"
        ],
        [
         "9",
         "14.84",
         "12.1",
         "4.5",
         "1.43",
         "9.0",
         "0.12",
         "3.35"
        ]
       ],
       "shape": {
        "columns": 7,
        "rows": 10
       }
      },
      "text/html": [
       "<div>\n",
       "<style scoped>\n",
       "    .dataframe tbody tr th:only-of-type {\n",
       "        vertical-align: middle;\n",
       "    }\n",
       "\n",
       "    .dataframe tbody tr th {\n",
       "        vertical-align: top;\n",
       "    }\n",
       "\n",
       "    .dataframe thead th {\n",
       "        text-align: right;\n",
       "    }\n",
       "</style>\n",
       "<table border=\"1\" class=\"dataframe\">\n",
       "  <thead>\n",
       "    <tr style=\"text-align: right;\">\n",
       "      <th></th>\n",
       "      <th>SOC</th>\n",
       "      <th>CEC</th>\n",
       "      <th>pH</th>\n",
       "      <th>exMg</th>\n",
       "      <th>exP</th>\n",
       "      <th>exK</th>\n",
       "      <th>exCa</th>\n",
       "    </tr>\n",
       "  </thead>\n",
       "  <tbody>\n",
       "    <tr>\n",
       "      <th>0</th>\n",
       "      <td>18.89</td>\n",
       "      <td>11.90</td>\n",
       "      <td>5.2</td>\n",
       "      <td>1.68</td>\n",
       "      <td>24.2</td>\n",
       "      <td>0.56</td>\n",
       "      <td>4.32</td>\n",
       "    </tr>\n",
       "    <tr>\n",
       "      <th>1</th>\n",
       "      <td>16.24</td>\n",
       "      <td>11.76</td>\n",
       "      <td>5.6</td>\n",
       "      <td>2.01</td>\n",
       "      <td>12.1</td>\n",
       "      <td>0.38</td>\n",
       "      <td>5.10</td>\n",
       "    </tr>\n",
       "    <tr>\n",
       "      <th>2</th>\n",
       "      <td>23.18</td>\n",
       "      <td>13.28</td>\n",
       "      <td>5.5</td>\n",
       "      <td>2.30</td>\n",
       "      <td>17.7</td>\n",
       "      <td>0.20</td>\n",
       "      <td>5.82</td>\n",
       "    </tr>\n",
       "    <tr>\n",
       "      <th>3</th>\n",
       "      <td>14.64</td>\n",
       "      <td>10.71</td>\n",
       "      <td>5.2</td>\n",
       "      <td>1.60</td>\n",
       "      <td>5.5</td>\n",
       "      <td>0.10</td>\n",
       "      <td>3.67</td>\n",
       "    </tr>\n",
       "    <tr>\n",
       "      <th>4</th>\n",
       "      <td>22.98</td>\n",
       "      <td>13.13</td>\n",
       "      <td>4.6</td>\n",
       "      <td>1.48</td>\n",
       "      <td>21.6</td>\n",
       "      <td>0.30</td>\n",
       "      <td>3.60</td>\n",
       "    </tr>\n",
       "    <tr>\n",
       "      <th>5</th>\n",
       "      <td>15.38</td>\n",
       "      <td>11.15</td>\n",
       "      <td>4.4</td>\n",
       "      <td>0.94</td>\n",
       "      <td>11.8</td>\n",
       "      <td>0.14</td>\n",
       "      <td>2.87</td>\n",
       "    </tr>\n",
       "    <tr>\n",
       "      <th>6</th>\n",
       "      <td>26.72</td>\n",
       "      <td>14.59</td>\n",
       "      <td>5.4</td>\n",
       "      <td>2.96</td>\n",
       "      <td>27.2</td>\n",
       "      <td>0.35</td>\n",
       "      <td>6.32</td>\n",
       "    </tr>\n",
       "    <tr>\n",
       "      <th>7</th>\n",
       "      <td>14.99</td>\n",
       "      <td>11.59</td>\n",
       "      <td>4.9</td>\n",
       "      <td>1.93</td>\n",
       "      <td>9.7</td>\n",
       "      <td>0.10</td>\n",
       "      <td>3.80</td>\n",
       "    </tr>\n",
       "    <tr>\n",
       "      <th>8</th>\n",
       "      <td>23.41</td>\n",
       "      <td>14.09</td>\n",
       "      <td>4.7</td>\n",
       "      <td>2.17</td>\n",
       "      <td>39.9</td>\n",
       "      <td>0.30</td>\n",
       "      <td>4.42</td>\n",
       "    </tr>\n",
       "    <tr>\n",
       "      <th>9</th>\n",
       "      <td>14.84</td>\n",
       "      <td>12.10</td>\n",
       "      <td>4.5</td>\n",
       "      <td>1.43</td>\n",
       "      <td>9.0</td>\n",
       "      <td>0.12</td>\n",
       "      <td>3.35</td>\n",
       "    </tr>\n",
       "  </tbody>\n",
       "</table>\n",
       "</div>"
      ],
      "text/plain": [
       "     SOC    CEC   pH  exMg   exP   exK  exCa\n",
       "0  18.89  11.90  5.2  1.68  24.2  0.56  4.32\n",
       "1  16.24  11.76  5.6  2.01  12.1  0.38  5.10\n",
       "2  23.18  13.28  5.5  2.30  17.7  0.20  5.82\n",
       "3  14.64  10.71  5.2  1.60   5.5  0.10  3.67\n",
       "4  22.98  13.13  4.6  1.48  21.6  0.30  3.60\n",
       "5  15.38  11.15  4.4  0.94  11.8  0.14  2.87\n",
       "6  26.72  14.59  5.4  2.96  27.2  0.35  6.32\n",
       "7  14.99  11.59  4.9  1.93   9.7  0.10  3.80\n",
       "8  23.41  14.09  4.7  2.17  39.9  0.30  4.42\n",
       "9  14.84  12.10  4.5  1.43   9.0  0.12  3.35"
      ]
     },
     "execution_count": 5,
     "metadata": {},
     "output_type": "execute_result"
    }
   ],
   "source": [
    "Atributos = Dataset.loc[:, ['SOC', 'CEC', 'pH', 'exMg', 'exP', 'exK', 'exCa']] #extraindo os atributos\n",
    "Atributos.head(n=10) # mostra as 5 primeiras linhas do dataframe Y"
   ]
  },
  {
   "cell_type": "markdown",
   "id": "bfcc1a9e",
   "metadata": {},
   "source": [
    "## **kennard-stone**"
   ]
  },
  {
   "cell_type": "code",
   "execution_count": 6,
   "id": "9afa1a01",
   "metadata": {},
   "outputs": [
    {
     "name": "stderr",
     "output_type": "stream",
     "text": [
      "C:\\Users\\Usuario\\AppData\\Roaming\\Python\\Python39\\site-packages\\sklearn\\utils\\deprecation.py:151: FutureWarning: 'force_all_finite' was renamed to 'ensure_all_finite' in 1.6 and will be removed in 1.8.\n",
      "  warnings.warn(\n",
      "2025-05-19 12:31:15,420 - kennard_stone.utils._pairwise:109[INFO] - Calculating pairwise distances using scikit-learn.\n",
      "\n",
      "C:\\Users\\Usuario\\AppData\\Roaming\\Python\\Python39\\site-packages\\sklearn\\utils\\deprecation.py:151: FutureWarning: 'force_all_finite' was renamed to 'ensure_all_finite' in 1.6 and will be removed in 1.8.\n",
      "  warnings.warn(\n",
      "2025-05-19 12:31:15,429 - kennard_stone.utils._pairwise:109[INFO] - Calculating pairwise distances using scikit-learn.\n",
      "\n",
      "C:\\Users\\Usuario\\AppData\\Roaming\\Python\\Python39\\site-packages\\sklearn\\utils\\deprecation.py:151: FutureWarning: 'force_all_finite' was renamed to 'ensure_all_finite' in 1.6 and will be removed in 1.8.\n",
      "  warnings.warn(\n"
     ]
    }
   ],
   "source": [
    "# dividindo os dados via kennard-stone (mais recomendado)\n",
    "import kennard_stone as ks\n",
    "\n",
    "Ycal, Yval = ks.train_test_split(Atributos, test_size=0.3) # divide o dataframe Y em 70% para treino e 30% para teste"
   ]
  },
  {
   "cell_type": "code",
   "execution_count": 7,
   "id": "332b66ee",
   "metadata": {},
   "outputs": [],
   "source": [
    "# antes de começar, vamos utilizar os dados espectrais (com muitas variaveis) para fazer uma regressão PLS\n",
    "pd.options.plotting.backend = 'plotly'\n",
    "\n",
    "XRF = Dataset.loc[:,'1':'15'] \n",
    "\n",
    "# vamos utilizar a mesma separação de dados gerada no KS anterior para separar os espectros cal e val\n",
    "\n",
    "XRFcal = XRF.loc[Ycal.index, :] # seleciona as linhas correspondentes as amostras de calibração\n",
    "XRFval = XRF.loc[Yval.index, :] # seleciona os dados de validação\n",
    "\n",
    "Ycal = Ycal.reset_index(drop=True) # reseta o índice do dataframe\n",
    "Yval = Yval.reset_index(drop=True) # reseta o índice do dataframe "
   ]
  },
  {
   "cell_type": "code",
   "execution_count": 8,
   "id": "797bfef2",
   "metadata": {},
   "outputs": [],
   "source": [
    "# vamos pre-processar os dados com poisson scale + mean centering\n",
    "import preprocessings as prepr\n",
    "import numpy as np\n",
    "\n",
    "XRFcal_prep, meanXRF, meanpoisson = prepr.poisson(XRFcal, mc=True) # aplica o preprocessamento \n",
    "XRFval_prep = (XRFval / np.sqrt(meanXRF)) - meanpoisson # aplica o mesmo preprocessamento nos dados de validação"
   ]
  },
  {
   "cell_type": "code",
   "execution_count": 9,
   "id": "bb090750",
   "metadata": {},
   "outputs": [],
   "source": [
    "#reprodutibilidade pelo TF\n",
    "import os\n",
    "import random\n",
    "import tensorflow as tf\n",
    "\n",
    "# Define um valor fixo para a semente\n",
    "seed_value = 1\n",
    "\n",
    "# 1. Configura a semente para o Python\n",
    "os.environ['PYTHONHASHSEED'] = str(seed_value)\n",
    "random.seed(seed_value)\n",
    "\n",
    "# 2. Configura a semente para o NumPy\n",
    "np.random.seed(seed_value)\n",
    "\n",
    "# 3. Configura a semente para o TensorFlow\n",
    "tf.random.set_seed(seed_value)\n"
   ]
  },
  {
   "cell_type": "markdown",
   "id": "6a8a0508",
   "metadata": {},
   "source": [
    "## **Tensorflow (API Funcional)**\n",
    "Pela API funcional vamos usar a estrategia de atribuir camadas a variaveis para construir arquiteturas personalizadas <br>\n",
    "Ex:<br> \n",
    "**inputs** = keras.Input(shape=(37,)) <br>\n",
    "**x** = keras.layers.Dense(32, activation=\"relu\")**(inputs)** <br>\n",
    "**outputs** = keras.layers.Dense(5, activation=\"softmax\")**(x)** <br>\n",
    "model = keras.Model(inputs=**inputs**, outputs=**outputs**)<br>\n",
    "**Documentação**<br>\n",
    "[API model class](https://keras.io/api/models/model/)<br>\n",
    "[Camadas](https://keras.io/api/layers/)"
   ]
  },
  {
   "cell_type": "code",
   "execution_count": 10,
   "id": "ffe76f94",
   "metadata": {},
   "outputs": [
    {
     "name": "stderr",
     "output_type": "stream",
     "text": [
      "C:\\Users\\Usuario\\AppData\\Roaming\\Python\\Python39\\site-packages\\keras\\src\\layers\\core\\dense.py:87: UserWarning: Do not pass an `input_shape`/`input_dim` argument to a layer. When using Sequential models, prefer using an `Input(shape)` object as the first layer in the model instead.\n",
      "  super().__init__(activity_regularizer=activity_regularizer, **kwargs)\n"
     ]
    },
    {
     "data": {
      "text/html": [
       "<pre style=\"white-space:pre;overflow-x:auto;line-height:normal;font-family:Menlo,'DejaVu Sans Mono',consolas,'Courier New',monospace\"><span style=\"font-weight: bold\">Model: \"functional\"</span>\n",
       "</pre>\n"
      ],
      "text/plain": [
       "\u001b[1mModel: \"functional\"\u001b[0m\n"
      ]
     },
     "metadata": {},
     "output_type": "display_data"
    },
    {
     "data": {
      "text/html": [
       "<pre style=\"white-space:pre;overflow-x:auto;line-height:normal;font-family:Menlo,'DejaVu Sans Mono',consolas,'Courier New',monospace\">┏━━━━━━━━━━━━━━━━━━━━━━━━━━━━━━━━━┳━━━━━━━━━━━━━━━━━━━━━━━━┳━━━━━━━━━━━━━━━┓\n",
       "┃<span style=\"font-weight: bold\"> Layer (type)                    </span>┃<span style=\"font-weight: bold\"> Output Shape           </span>┃<span style=\"font-weight: bold\">       Param # </span>┃\n",
       "┡━━━━━━━━━━━━━━━━━━━━━━━━━━━━━━━━━╇━━━━━━━━━━━━━━━━━━━━━━━━╇━━━━━━━━━━━━━━━┩\n",
       "│ Input (<span style=\"color: #0087ff; text-decoration-color: #0087ff\">InputLayer</span>)              │ (<span style=\"color: #00d7ff; text-decoration-color: #00d7ff\">None</span>, <span style=\"color: #00af00; text-decoration-color: #00af00\">701</span>)            │             <span style=\"color: #00af00; text-decoration-color: #00af00\">0</span> │\n",
       "├─────────────────────────────────┼────────────────────────┼───────────────┤\n",
       "│ dense (<span style=\"color: #0087ff; text-decoration-color: #0087ff\">Dense</span>)                   │ (<span style=\"color: #00d7ff; text-decoration-color: #00d7ff\">None</span>, <span style=\"color: #00af00; text-decoration-color: #00af00\">150</span>)            │       <span style=\"color: #00af00; text-decoration-color: #00af00\">105,300</span> │\n",
       "├─────────────────────────────────┼────────────────────────┼───────────────┤\n",
       "│ dropout (<span style=\"color: #0087ff; text-decoration-color: #0087ff\">Dropout</span>)               │ (<span style=\"color: #00d7ff; text-decoration-color: #00d7ff\">None</span>, <span style=\"color: #00af00; text-decoration-color: #00af00\">150</span>)            │             <span style=\"color: #00af00; text-decoration-color: #00af00\">0</span> │\n",
       "├─────────────────────────────────┼────────────────────────┼───────────────┤\n",
       "│ dense_1 (<span style=\"color: #0087ff; text-decoration-color: #0087ff\">Dense</span>)                 │ (<span style=\"color: #00d7ff; text-decoration-color: #00d7ff\">None</span>, <span style=\"color: #00af00; text-decoration-color: #00af00\">130</span>)            │        <span style=\"color: #00af00; text-decoration-color: #00af00\">19,630</span> │\n",
       "├─────────────────────────────────┼────────────────────────┼───────────────┤\n",
       "│ dropout_1 (<span style=\"color: #0087ff; text-decoration-color: #0087ff\">Dropout</span>)             │ (<span style=\"color: #00d7ff; text-decoration-color: #00d7ff\">None</span>, <span style=\"color: #00af00; text-decoration-color: #00af00\">130</span>)            │             <span style=\"color: #00af00; text-decoration-color: #00af00\">0</span> │\n",
       "├─────────────────────────────────┼────────────────────────┼───────────────┤\n",
       "│ dense_2 (<span style=\"color: #0087ff; text-decoration-color: #0087ff\">Dense</span>)                 │ (<span style=\"color: #00d7ff; text-decoration-color: #00d7ff\">None</span>, <span style=\"color: #00af00; text-decoration-color: #00af00\">110</span>)            │        <span style=\"color: #00af00; text-decoration-color: #00af00\">14,410</span> │\n",
       "├─────────────────────────────────┼────────────────────────┼───────────────┤\n",
       "│ dropout_2 (<span style=\"color: #0087ff; text-decoration-color: #0087ff\">Dropout</span>)             │ (<span style=\"color: #00d7ff; text-decoration-color: #00d7ff\">None</span>, <span style=\"color: #00af00; text-decoration-color: #00af00\">110</span>)            │             <span style=\"color: #00af00; text-decoration-color: #00af00\">0</span> │\n",
       "├─────────────────────────────────┼────────────────────────┼───────────────┤\n",
       "│ dense_3 (<span style=\"color: #0087ff; text-decoration-color: #0087ff\">Dense</span>)                 │ (<span style=\"color: #00d7ff; text-decoration-color: #00d7ff\">None</span>, <span style=\"color: #00af00; text-decoration-color: #00af00\">90</span>)             │         <span style=\"color: #00af00; text-decoration-color: #00af00\">9,990</span> │\n",
       "├─────────────────────────────────┼────────────────────────┼───────────────┤\n",
       "│ dropout_3 (<span style=\"color: #0087ff; text-decoration-color: #0087ff\">Dropout</span>)             │ (<span style=\"color: #00d7ff; text-decoration-color: #00d7ff\">None</span>, <span style=\"color: #00af00; text-decoration-color: #00af00\">90</span>)             │             <span style=\"color: #00af00; text-decoration-color: #00af00\">0</span> │\n",
       "├─────────────────────────────────┼────────────────────────┼───────────────┤\n",
       "│ dense_4 (<span style=\"color: #0087ff; text-decoration-color: #0087ff\">Dense</span>)                 │ (<span style=\"color: #00d7ff; text-decoration-color: #00d7ff\">None</span>, <span style=\"color: #00af00; text-decoration-color: #00af00\">70</span>)             │         <span style=\"color: #00af00; text-decoration-color: #00af00\">6,370</span> │\n",
       "├─────────────────────────────────┼────────────────────────┼───────────────┤\n",
       "│ dense_5 (<span style=\"color: #0087ff; text-decoration-color: #0087ff\">Dense</span>)                 │ (<span style=\"color: #00d7ff; text-decoration-color: #00d7ff\">None</span>, <span style=\"color: #00af00; text-decoration-color: #00af00\">50</span>)             │         <span style=\"color: #00af00; text-decoration-color: #00af00\">3,550</span> │\n",
       "├─────────────────────────────────┼────────────────────────┼───────────────┤\n",
       "│ dense_6 (<span style=\"color: #0087ff; text-decoration-color: #0087ff\">Dense</span>)                 │ (<span style=\"color: #00d7ff; text-decoration-color: #00d7ff\">None</span>, <span style=\"color: #00af00; text-decoration-color: #00af00\">30</span>)             │         <span style=\"color: #00af00; text-decoration-color: #00af00\">1,530</span> │\n",
       "├─────────────────────────────────┼────────────────────────┼───────────────┤\n",
       "│ dense_7 (<span style=\"color: #0087ff; text-decoration-color: #0087ff\">Dense</span>)                 │ (<span style=\"color: #00d7ff; text-decoration-color: #00d7ff\">None</span>, <span style=\"color: #00af00; text-decoration-color: #00af00\">10</span>)             │           <span style=\"color: #00af00; text-decoration-color: #00af00\">310</span> │\n",
       "├─────────────────────────────────┼────────────────────────┼───────────────┤\n",
       "│ dense_8 (<span style=\"color: #0087ff; text-decoration-color: #0087ff\">Dense</span>)                 │ (<span style=\"color: #00d7ff; text-decoration-color: #00d7ff\">None</span>, <span style=\"color: #00af00; text-decoration-color: #00af00\">1</span>)              │            <span style=\"color: #00af00; text-decoration-color: #00af00\">11</span> │\n",
       "└─────────────────────────────────┴────────────────────────┴───────────────┘\n",
       "</pre>\n"
      ],
      "text/plain": [
       "┏━━━━━━━━━━━━━━━━━━━━━━━━━━━━━━━━━┳━━━━━━━━━━━━━━━━━━━━━━━━┳━━━━━━━━━━━━━━━┓\n",
       "┃\u001b[1m \u001b[0m\u001b[1mLayer (type)                   \u001b[0m\u001b[1m \u001b[0m┃\u001b[1m \u001b[0m\u001b[1mOutput Shape          \u001b[0m\u001b[1m \u001b[0m┃\u001b[1m \u001b[0m\u001b[1m      Param #\u001b[0m\u001b[1m \u001b[0m┃\n",
       "┡━━━━━━━━━━━━━━━━━━━━━━━━━━━━━━━━━╇━━━━━━━━━━━━━━━━━━━━━━━━╇━━━━━━━━━━━━━━━┩\n",
       "│ Input (\u001b[38;5;33mInputLayer\u001b[0m)              │ (\u001b[38;5;45mNone\u001b[0m, \u001b[38;5;34m701\u001b[0m)            │             \u001b[38;5;34m0\u001b[0m │\n",
       "├─────────────────────────────────┼────────────────────────┼───────────────┤\n",
       "│ dense (\u001b[38;5;33mDense\u001b[0m)                   │ (\u001b[38;5;45mNone\u001b[0m, \u001b[38;5;34m150\u001b[0m)            │       \u001b[38;5;34m105,300\u001b[0m │\n",
       "├─────────────────────────────────┼────────────────────────┼───────────────┤\n",
       "│ dropout (\u001b[38;5;33mDropout\u001b[0m)               │ (\u001b[38;5;45mNone\u001b[0m, \u001b[38;5;34m150\u001b[0m)            │             \u001b[38;5;34m0\u001b[0m │\n",
       "├─────────────────────────────────┼────────────────────────┼───────────────┤\n",
       "│ dense_1 (\u001b[38;5;33mDense\u001b[0m)                 │ (\u001b[38;5;45mNone\u001b[0m, \u001b[38;5;34m130\u001b[0m)            │        \u001b[38;5;34m19,630\u001b[0m │\n",
       "├─────────────────────────────────┼────────────────────────┼───────────────┤\n",
       "│ dropout_1 (\u001b[38;5;33mDropout\u001b[0m)             │ (\u001b[38;5;45mNone\u001b[0m, \u001b[38;5;34m130\u001b[0m)            │             \u001b[38;5;34m0\u001b[0m │\n",
       "├─────────────────────────────────┼────────────────────────┼───────────────┤\n",
       "│ dense_2 (\u001b[38;5;33mDense\u001b[0m)                 │ (\u001b[38;5;45mNone\u001b[0m, \u001b[38;5;34m110\u001b[0m)            │        \u001b[38;5;34m14,410\u001b[0m │\n",
       "├─────────────────────────────────┼────────────────────────┼───────────────┤\n",
       "│ dropout_2 (\u001b[38;5;33mDropout\u001b[0m)             │ (\u001b[38;5;45mNone\u001b[0m, \u001b[38;5;34m110\u001b[0m)            │             \u001b[38;5;34m0\u001b[0m │\n",
       "├─────────────────────────────────┼────────────────────────┼───────────────┤\n",
       "│ dense_3 (\u001b[38;5;33mDense\u001b[0m)                 │ (\u001b[38;5;45mNone\u001b[0m, \u001b[38;5;34m90\u001b[0m)             │         \u001b[38;5;34m9,990\u001b[0m │\n",
       "├─────────────────────────────────┼────────────────────────┼───────────────┤\n",
       "│ dropout_3 (\u001b[38;5;33mDropout\u001b[0m)             │ (\u001b[38;5;45mNone\u001b[0m, \u001b[38;5;34m90\u001b[0m)             │             \u001b[38;5;34m0\u001b[0m │\n",
       "├─────────────────────────────────┼────────────────────────┼───────────────┤\n",
       "│ dense_4 (\u001b[38;5;33mDense\u001b[0m)                 │ (\u001b[38;5;45mNone\u001b[0m, \u001b[38;5;34m70\u001b[0m)             │         \u001b[38;5;34m6,370\u001b[0m │\n",
       "├─────────────────────────────────┼────────────────────────┼───────────────┤\n",
       "│ dense_5 (\u001b[38;5;33mDense\u001b[0m)                 │ (\u001b[38;5;45mNone\u001b[0m, \u001b[38;5;34m50\u001b[0m)             │         \u001b[38;5;34m3,550\u001b[0m │\n",
       "├─────────────────────────────────┼────────────────────────┼───────────────┤\n",
       "│ dense_6 (\u001b[38;5;33mDense\u001b[0m)                 │ (\u001b[38;5;45mNone\u001b[0m, \u001b[38;5;34m30\u001b[0m)             │         \u001b[38;5;34m1,530\u001b[0m │\n",
       "├─────────────────────────────────┼────────────────────────┼───────────────┤\n",
       "│ dense_7 (\u001b[38;5;33mDense\u001b[0m)                 │ (\u001b[38;5;45mNone\u001b[0m, \u001b[38;5;34m10\u001b[0m)             │           \u001b[38;5;34m310\u001b[0m │\n",
       "├─────────────────────────────────┼────────────────────────┼───────────────┤\n",
       "│ dense_8 (\u001b[38;5;33mDense\u001b[0m)                 │ (\u001b[38;5;45mNone\u001b[0m, \u001b[38;5;34m1\u001b[0m)              │            \u001b[38;5;34m11\u001b[0m │\n",
       "└─────────────────────────────────┴────────────────────────┴───────────────┘\n"
      ]
     },
     "metadata": {},
     "output_type": "display_data"
    },
    {
     "data": {
      "text/html": [
       "<pre style=\"white-space:pre;overflow-x:auto;line-height:normal;font-family:Menlo,'DejaVu Sans Mono',consolas,'Courier New',monospace\"><span style=\"font-weight: bold\"> Total params: </span><span style=\"color: #00af00; text-decoration-color: #00af00\">161,101</span> (629.30 KB)\n",
       "</pre>\n"
      ],
      "text/plain": [
       "\u001b[1m Total params: \u001b[0m\u001b[38;5;34m161,101\u001b[0m (629.30 KB)\n"
      ]
     },
     "metadata": {},
     "output_type": "display_data"
    },
    {
     "data": {
      "text/html": [
       "<pre style=\"white-space:pre;overflow-x:auto;line-height:normal;font-family:Menlo,'DejaVu Sans Mono',consolas,'Courier New',monospace\"><span style=\"font-weight: bold\"> Trainable params: </span><span style=\"color: #00af00; text-decoration-color: #00af00\">161,101</span> (629.30 KB)\n",
       "</pre>\n"
      ],
      "text/plain": [
       "\u001b[1m Trainable params: \u001b[0m\u001b[38;5;34m161,101\u001b[0m (629.30 KB)\n"
      ]
     },
     "metadata": {},
     "output_type": "display_data"
    },
    {
     "data": {
      "text/html": [
       "<pre style=\"white-space:pre;overflow-x:auto;line-height:normal;font-family:Menlo,'DejaVu Sans Mono',consolas,'Courier New',monospace\"><span style=\"font-weight: bold\"> Non-trainable params: </span><span style=\"color: #00af00; text-decoration-color: #00af00\">0</span> (0.00 B)\n",
       "</pre>\n"
      ],
      "text/plain": [
       "\u001b[1m Non-trainable params: \u001b[0m\u001b[38;5;34m0\u001b[0m (0.00 B)\n"
      ]
     },
     "metadata": {},
     "output_type": "display_data"
    }
   ],
   "source": [
    "#%pip install tensorflow\n",
    "from tensorflow.keras.models import Model\n",
    "from tensorflow.keras.layers import Input, Dense, Dropout\n",
    "import tensorflow as tf\n",
    "import keras\n",
    "\n",
    "input_size = XRFcal_prep.shape[1] # extraindo dimensão dos dados de entrada (número de variáveis espectrais)\n",
    "\n",
    "# montando o modelo (ou empilhando as camadas)\n",
    "input_layer = Input(shape=(input_size,), name='Input')\n",
    "Dense1 = Dense(units=150, activation='relu', input_shape=(input_size,))(input_layer) # a primeira camada deve conter o input shape, que indica o número de variáveis espectrais\n",
    "Drop1 = Dropout(0.25)(Dense1) # Dropout layer para prevenir overfitting trocar para 0.3 dps para ser didatico\n",
    "Dense2 = Dense(units=130, activation='relu')(Drop1)\n",
    "Drop2 = Dropout(0.25)(Dense2) # Dropout layer para prevenir overfitting\n",
    "Dense3 = Dense(units=110, activation='relu')(Drop2)\n",
    "Drop3 = Dropout(0.2)(Dense3) # Dropout layer para prevenir overfitting\n",
    "Dense4 = Dense(units=90, activation='relu')(Drop3)\n",
    "Drop4 = Dropout(0.2)(Dense4) # Dropout layer para prevenir overfitting\n",
    "Dense5 = Dense(units=70, activation='relu')(Drop4)\n",
    "Dense6 = Dense(units=50, activation='relu')(Dense5)\n",
    "Dense7 = Dense(units=30, activation='relu')(Dense6)\n",
    "Dense8 = Dense(units=10, activation='relu')(Dense7)\n",
    "Output = Dense(units=1, activation='linear')(Dense8) # a última camada deve conter o número de variáveis de resposta\n",
    "\n",
    "# montando o modelo através da API funcional do Keras\n",
    "mlptf = Model(inputs=input_layer, outputs=Output) \n",
    "mlptf.summary()"
   ]
  },
  {
   "cell_type": "markdown",
   "id": "d44dec68",
   "metadata": {},
   "source": [
    "O processo de treino e predição continua o mesmo <br> \n",
    "Compila o modelo antes do treino, configurando **loss**, **optimizer** e **metrics** em **model.compile()**<br>\n",
    "Depois faz o **.fit()** e, por fim, o **.predict()** se quiser prever novos dados<br>\n",
    "OBS: tem como incorporar a validação já dentro do **.fit** (facilita)<br>\n",
    "Documentação<br>\n",
    "[Compile](https://keras.io/api/models/model_training_apis/)<br>\n",
    "[Funções de Loss](https://keras.io/api/losses/)<br>\n",
    "[Metricas](https://keras.io/api/metrics/)<br>\n",
    "[Otimizadores](https://keras.io/api/optimizers/)\n",
    "[fit](https://keras.io/api/models/model_training_apis/)"
   ]
  },
  {
   "cell_type": "markdown",
   "id": "f7280912",
   "metadata": {},
   "source": [
    "## **Early stopping**\n",
    "---\n",
    "**keras**.**callbacks**.**EarlyStopping**(**monitor**=\"val_loss\",\n",
    "    **min_delta**=0,\n",
    "    **patience**=0,\n",
    "    **verbose**=0,\n",
    "    **mode**=\"auto\",\n",
    "    **baseline**=None,\n",
    "    **restore_best_weights**=False,\n",
    "    start_from_epoch=0,\n",
    ")<br>\n",
    "\n",
    "**Argumentos**<br>\n",
    "<br>\n",
    "**monitor**: Quantidade a ser monitorada. O padrão é \"val_loss\" <br>\n",
    "**min_delta**: Alteração mínima na quantidade monitorada para se qualificar como uma melhoria, ou seja, uma alteração absoluta menor que min_delta, contará como nenhuma melhoria. O padrão é 0. <br>\n",
    "**patience**: Número de épocas sem melhoria após os quais o treinamento será interrompido. O padrão é 0. <br>\n",
    "**verbose**: Modo de verbosidade, 0 ou 1. O modo 0 é silencioso e o modo 1 exibe mensagens quando o retorno de chamada realiza uma ação. O padrão é 0. <br>\n",
    "**mode**: {\"auto\", \"min\", \"max\"}. No modo min, o treinamento será interrompido quando a quantidade monitorada parar de diminuir; no modo \"max\", ele será interrompido quando a quantidade monitorada parar de aumentar; no modo \"auto\", a direção é inferida automaticamente a partir do nome da quantidade monitorada. O padrão é \"auto\".<br>\n",
    "**baseline**: Valor da linha de base para a quantidade monitorada. Caso contrário, o treinamento será interrompido se o modelo não apresentar melhoria em relação à linha de base. O padrão é Nenhum.<br>\n",
    "**restore_best_weights**: Se os pesos do modelo devem ser restaurados da época com o melhor valor da quantidade monitorada. Se Falso, os pesos do modelo obtidos na última etapa do treinamento são usados. Uma época será restaurada independentemente do desempenho em relação à linha de base. Se nenhuma época melhorar em relação à linha de base, o treinamento será executado para épocas de paciência e restaurará os pesos da melhor época naquele conjunto. O padrão é Falso.<br>\n",
    "**start_from_epoch**: Número de épocas a aguardar antes de começar a monitorar a melhoria. Isso permite um período de aquecimento no qual nenhuma melhoria é esperada e, portanto, o treinamento não será interrompido. O padrão é 0."
   ]
  },
  {
   "cell_type": "markdown",
   "id": "3c964f24",
   "metadata": {},
   "source": [
    "Quando você chama **model.fit(...)**, o Keras automaticamente registra um **callback History** que armazena, a cada época, valores de loss e métricas (incluindo validação, se houver) num dicionário history.history. Podemos usa-lo para monitorar o modelo. "
   ]
  },
  {
   "cell_type": "code",
   "execution_count": 11,
   "id": "74e6eaff",
   "metadata": {},
   "outputs": [
    {
     "name": "stdout",
     "output_type": "stream",
     "text": [
      "Epoch 1/50\n",
      "\u001b[1m61/61\u001b[0m \u001b[32m━━━━━━━━━━━━━━━━━━━━\u001b[0m\u001b[37m\u001b[0m \u001b[1m3s\u001b[0m 9ms/step - loss: 4.3790 - r2_score: -5.1334 - val_loss: 1.2895 - val_r2_score: 0.4959\n",
      "Epoch 2/50\n",
      "\u001b[1m61/61\u001b[0m \u001b[32m━━━━━━━━━━━━━━━━━━━━\u001b[0m\u001b[37m\u001b[0m \u001b[1m0s\u001b[0m 6ms/step - loss: 2.0009 - r2_score: -0.2421 - val_loss: 0.9019 - val_r2_score: 0.7587\n",
      "Epoch 3/50\n",
      "\u001b[1m61/61\u001b[0m \u001b[32m━━━━━━━━━━━━━━━━━━━━\u001b[0m\u001b[37m\u001b[0m \u001b[1m0s\u001b[0m 5ms/step - loss: 1.5797 - r2_score: 0.1986 - val_loss: 1.0687 - val_r2_score: 0.6660\n",
      "Epoch 4/50\n",
      "\u001b[1m61/61\u001b[0m \u001b[32m━━━━━━━━━━━━━━━━━━━━\u001b[0m\u001b[37m\u001b[0m \u001b[1m0s\u001b[0m 6ms/step - loss: 1.3510 - r2_score: 0.4588 - val_loss: 1.1008 - val_r2_score: 0.6454\n",
      "Epoch 5/50\n",
      "\u001b[1m61/61\u001b[0m \u001b[32m━━━━━━━━━━━━━━━━━━━━\u001b[0m\u001b[37m\u001b[0m \u001b[1m0s\u001b[0m 5ms/step - loss: 1.2781 - r2_score: 0.4925 - val_loss: 0.8495 - val_r2_score: 0.7864\n",
      "Epoch 6/50\n",
      "\u001b[1m61/61\u001b[0m \u001b[32m━━━━━━━━━━━━━━━━━━━━\u001b[0m\u001b[37m\u001b[0m \u001b[1m0s\u001b[0m 5ms/step - loss: 1.1676 - r2_score: 0.5842 - val_loss: 0.8709 - val_r2_score: 0.7749\n",
      "Epoch 7/50\n",
      "\u001b[1m61/61\u001b[0m \u001b[32m━━━━━━━━━━━━━━━━━━━━\u001b[0m\u001b[37m\u001b[0m \u001b[1m0s\u001b[0m 6ms/step - loss: 1.1745 - r2_score: 0.5784 - val_loss: 0.9502 - val_r2_score: 0.7365\n",
      "Epoch 8/50\n",
      "\u001b[1m61/61\u001b[0m \u001b[32m━━━━━━━━━━━━━━━━━━━━\u001b[0m\u001b[37m\u001b[0m \u001b[1m0s\u001b[0m 5ms/step - loss: 1.0444 - r2_score: 0.6455 - val_loss: 0.9625 - val_r2_score: 0.7305\n",
      "Epoch 9/50\n",
      "\u001b[1m61/61\u001b[0m \u001b[32m━━━━━━━━━━━━━━━━━━━━\u001b[0m\u001b[37m\u001b[0m \u001b[1m0s\u001b[0m 5ms/step - loss: 1.1182 - r2_score: 0.5948 - val_loss: 0.7197 - val_r2_score: 0.8457\n",
      "Epoch 10/50\n",
      "\u001b[1m61/61\u001b[0m \u001b[32m━━━━━━━━━━━━━━━━━━━━\u001b[0m\u001b[37m\u001b[0m \u001b[1m0s\u001b[0m 5ms/step - loss: 1.0776 - r2_score: 0.6365 - val_loss: 0.8837 - val_r2_score: 0.7725\n",
      "Epoch 11/50\n",
      "\u001b[1m61/61\u001b[0m \u001b[32m━━━━━━━━━━━━━━━━━━━━\u001b[0m\u001b[37m\u001b[0m \u001b[1m0s\u001b[0m 5ms/step - loss: 1.0619 - r2_score: 0.6607 - val_loss: 0.8275 - val_r2_score: 0.8003\n",
      "Epoch 12/50\n",
      "\u001b[1m61/61\u001b[0m \u001b[32m━━━━━━━━━━━━━━━━━━━━\u001b[0m\u001b[37m\u001b[0m \u001b[1m0s\u001b[0m 5ms/step - loss: 1.0036 - r2_score: 0.6813 - val_loss: 0.7901 - val_r2_score: 0.8140\n",
      "Epoch 13/50\n",
      "\u001b[1m61/61\u001b[0m \u001b[32m━━━━━━━━━━━━━━━━━━━━\u001b[0m\u001b[37m\u001b[0m \u001b[1m0s\u001b[0m 6ms/step - loss: 0.9528 - r2_score: 0.7147 - val_loss: 0.7647 - val_r2_score: 0.8284\n",
      "Epoch 14/50\n",
      "\u001b[1m61/61\u001b[0m \u001b[32m━━━━━━━━━━━━━━━━━━━━\u001b[0m\u001b[37m\u001b[0m \u001b[1m0s\u001b[0m 5ms/step - loss: 1.0248 - r2_score: 0.6733 - val_loss: 0.6662 - val_r2_score: 0.8699\n",
      "Epoch 15/50\n",
      "\u001b[1m61/61\u001b[0m \u001b[32m━━━━━━━━━━━━━━━━━━━━\u001b[0m\u001b[37m\u001b[0m \u001b[1m0s\u001b[0m 5ms/step - loss: 0.9673 - r2_score: 0.7154 - val_loss: 0.7365 - val_r2_score: 0.8423\n",
      "Epoch 16/50\n",
      "\u001b[1m61/61\u001b[0m \u001b[32m━━━━━━━━━━━━━━━━━━━━\u001b[0m\u001b[37m\u001b[0m \u001b[1m0s\u001b[0m 6ms/step - loss: 0.8695 - r2_score: 0.7685 - val_loss: 0.7945 - val_r2_score: 0.8147\n",
      "Epoch 17/50\n",
      "\u001b[1m61/61\u001b[0m \u001b[32m━━━━━━━━━━━━━━━━━━━━\u001b[0m\u001b[37m\u001b[0m \u001b[1m0s\u001b[0m 5ms/step - loss: 0.8929 - r2_score: 0.7528 - val_loss: 0.7026 - val_r2_score: 0.8554\n",
      "Epoch 18/50\n",
      "\u001b[1m61/61\u001b[0m \u001b[32m━━━━━━━━━━━━━━━━━━━━\u001b[0m\u001b[37m\u001b[0m \u001b[1m0s\u001b[0m 5ms/step - loss: 0.8480 - r2_score: 0.7829 - val_loss: 0.8742 - val_r2_score: 0.7772\n",
      "Epoch 19/50\n",
      "\u001b[1m61/61\u001b[0m \u001b[32m━━━━━━━━━━━━━━━━━━━━\u001b[0m\u001b[37m\u001b[0m \u001b[1m0s\u001b[0m 5ms/step - loss: 0.8995 - r2_score: 0.7393 - val_loss: 0.7440 - val_r2_score: 0.8380\n",
      "Epoch 20/50\n",
      "\u001b[1m61/61\u001b[0m \u001b[32m━━━━━━━━━━━━━━━━━━━━\u001b[0m\u001b[37m\u001b[0m \u001b[1m0s\u001b[0m 5ms/step - loss: 0.8690 - r2_score: 0.7758 - val_loss: 0.8936 - val_r2_score: 0.7704\n",
      "Epoch 21/50\n",
      "\u001b[1m61/61\u001b[0m \u001b[32m━━━━━━━━━━━━━━━━━━━━\u001b[0m\u001b[37m\u001b[0m \u001b[1m0s\u001b[0m 5ms/step - loss: 0.9082 - r2_score: 0.7329 - val_loss: 0.9822 - val_r2_score: 0.7236\n",
      "Epoch 22/50\n",
      "\u001b[1m61/61\u001b[0m \u001b[32m━━━━━━━━━━━━━━━━━━━━\u001b[0m\u001b[37m\u001b[0m \u001b[1m0s\u001b[0m 6ms/step - loss: 0.8159 - r2_score: 0.7882 - val_loss: 0.8424 - val_r2_score: 0.7959\n",
      "Epoch 23/50\n",
      "\u001b[1m61/61\u001b[0m \u001b[32m━━━━━━━━━━━━━━━━━━━━\u001b[0m\u001b[37m\u001b[0m \u001b[1m0s\u001b[0m 5ms/step - loss: 0.7783 - r2_score: 0.8136 - val_loss: 0.7709 - val_r2_score: 0.8282\n",
      "Epoch 24/50\n",
      "\u001b[1m61/61\u001b[0m \u001b[32m━━━━━━━━━━━━━━━━━━━━\u001b[0m\u001b[37m\u001b[0m \u001b[1m0s\u001b[0m 5ms/step - loss: 0.8279 - r2_score: 0.7890 - val_loss: 1.0670 - val_r2_score: 0.6738\n",
      "Epoch 25/50\n",
      "\u001b[1m61/61\u001b[0m \u001b[32m━━━━━━━━━━━━━━━━━━━━\u001b[0m\u001b[37m\u001b[0m \u001b[1m0s\u001b[0m 5ms/step - loss: 0.8138 - r2_score: 0.8011 - val_loss: 0.7305 - val_r2_score: 0.8464\n",
      "Epoch 26/50\n",
      "\u001b[1m61/61\u001b[0m \u001b[32m━━━━━━━━━━━━━━━━━━━━\u001b[0m\u001b[37m\u001b[0m \u001b[1m0s\u001b[0m 5ms/step - loss: 0.8196 - r2_score: 0.7743 - val_loss: 0.8214 - val_r2_score: 0.8076\n",
      "Epoch 27/50\n",
      "\u001b[1m61/61\u001b[0m \u001b[32m━━━━━━━━━━━━━━━━━━━━\u001b[0m\u001b[37m\u001b[0m \u001b[1m0s\u001b[0m 5ms/step - loss: 0.7601 - r2_score: 0.8187 - val_loss: 0.9417 - val_r2_score: 0.7467\n",
      "Epoch 28/50\n",
      "\u001b[1m61/61\u001b[0m \u001b[32m━━━━━━━━━━━━━━━━━━━━\u001b[0m\u001b[37m\u001b[0m \u001b[1m0s\u001b[0m 5ms/step - loss: 0.7832 - r2_score: 0.8120 - val_loss: 0.7497 - val_r2_score: 0.8386\n",
      "Epoch 29/50\n",
      "\u001b[1m61/61\u001b[0m \u001b[32m━━━━━━━━━━━━━━━━━━━━\u001b[0m\u001b[37m\u001b[0m \u001b[1m0s\u001b[0m 5ms/step - loss: 0.8081 - r2_score: 0.8000 - val_loss: 0.9329 - val_r2_score: 0.7515\n",
      "Epoch 30/50\n",
      "\u001b[1m61/61\u001b[0m \u001b[32m━━━━━━━━━━━━━━━━━━━━\u001b[0m\u001b[37m\u001b[0m \u001b[1m0s\u001b[0m 6ms/step - loss: 0.6583 - r2_score: 0.8669 - val_loss: 0.7202 - val_r2_score: 0.8492\n",
      "Epoch 31/50\n",
      "\u001b[1m61/61\u001b[0m \u001b[32m━━━━━━━━━━━━━━━━━━━━\u001b[0m\u001b[37m\u001b[0m \u001b[1m0s\u001b[0m 5ms/step - loss: 0.7340 - r2_score: 0.8332 - val_loss: 0.9517 - val_r2_score: 0.7418\n",
      "Epoch 32/50\n",
      "\u001b[1m61/61\u001b[0m \u001b[32m━━━━━━━━━━━━━━━━━━━━\u001b[0m\u001b[37m\u001b[0m \u001b[1m0s\u001b[0m 4ms/step - loss: 0.6640 - r2_score: 0.8647 - val_loss: 0.9484 - val_r2_score: 0.7426\n",
      "Epoch 33/50\n",
      "\u001b[1m61/61\u001b[0m \u001b[32m━━━━━━━━━━━━━━━━━━━━\u001b[0m\u001b[37m\u001b[0m \u001b[1m0s\u001b[0m 5ms/step - loss: 0.6518 - r2_score: 0.8722 - val_loss: 0.7587 - val_r2_score: 0.8329\n",
      "Epoch 34/50\n",
      "\u001b[1m61/61\u001b[0m \u001b[32m━━━━━━━━━━━━━━━━━━━━\u001b[0m\u001b[37m\u001b[0m \u001b[1m0s\u001b[0m 5ms/step - loss: 0.6608 - r2_score: 0.8614 - val_loss: 0.6415 - val_r2_score: 0.8792\n",
      "Epoch 35/50\n",
      "\u001b[1m61/61\u001b[0m \u001b[32m━━━━━━━━━━━━━━━━━━━━\u001b[0m\u001b[37m\u001b[0m \u001b[1m0s\u001b[0m 5ms/step - loss: 0.6633 - r2_score: 0.8653 - val_loss: 0.7150 - val_r2_score: 0.8527\n",
      "Epoch 36/50\n",
      "\u001b[1m61/61\u001b[0m \u001b[32m━━━━━━━━━━━━━━━━━━━━\u001b[0m\u001b[37m\u001b[0m \u001b[1m0s\u001b[0m 5ms/step - loss: 0.6604 - r2_score: 0.8576 - val_loss: 0.9109 - val_r2_score: 0.7636\n",
      "Epoch 37/50\n",
      "\u001b[1m61/61\u001b[0m \u001b[32m━━━━━━━━━━━━━━━━━━━━\u001b[0m\u001b[37m\u001b[0m \u001b[1m0s\u001b[0m 6ms/step - loss: 0.6475 - r2_score: 0.8722 - val_loss: 0.6652 - val_r2_score: 0.8692\n",
      "Epoch 38/50\n",
      "\u001b[1m61/61\u001b[0m \u001b[32m━━━━━━━━━━━━━━━━━━━━\u001b[0m\u001b[37m\u001b[0m \u001b[1m0s\u001b[0m 4ms/step - loss: 0.7325 - r2_score: 0.8275 - val_loss: 0.8418 - val_r2_score: 0.7972\n",
      "Epoch 39/50\n",
      "\u001b[1m61/61\u001b[0m \u001b[32m━━━━━━━━━━━━━━━━━━━━\u001b[0m\u001b[37m\u001b[0m \u001b[1m0s\u001b[0m 5ms/step - loss: 0.6384 - r2_score: 0.8721 - val_loss: 0.6909 - val_r2_score: 0.8611\n",
      "Epoch 40/50\n",
      "\u001b[1m61/61\u001b[0m \u001b[32m━━━━━━━━━━━━━━━━━━━━\u001b[0m\u001b[37m\u001b[0m \u001b[1m0s\u001b[0m 5ms/step - loss: 0.6731 - r2_score: 0.8606 - val_loss: 1.0612 - val_r2_score: 0.6789\n",
      "Epoch 41/50\n",
      "\u001b[1m61/61\u001b[0m \u001b[32m━━━━━━━━━━━━━━━━━━━━\u001b[0m\u001b[37m\u001b[0m \u001b[1m0s\u001b[0m 4ms/step - loss: 0.6821 - r2_score: 0.8597 - val_loss: 0.7746 - val_r2_score: 0.8268\n",
      "Epoch 42/50\n",
      "\u001b[1m61/61\u001b[0m \u001b[32m━━━━━━━━━━━━━━━━━━━━\u001b[0m\u001b[37m\u001b[0m \u001b[1m0s\u001b[0m 5ms/step - loss: 0.6580 - r2_score: 0.8680 - val_loss: 0.6900 - val_r2_score: 0.8603\n",
      "Epoch 43/50\n",
      "\u001b[1m61/61\u001b[0m \u001b[32m━━━━━━━━━━━━━━━━━━━━\u001b[0m\u001b[37m\u001b[0m \u001b[1m0s\u001b[0m 5ms/step - loss: 0.6300 - r2_score: 0.8697 - val_loss: 0.9702 - val_r2_score: 0.7299\n",
      "Epoch 44/50\n",
      "\u001b[1m61/61\u001b[0m \u001b[32m━━━━━━━━━━━━━━━━━━━━\u001b[0m\u001b[37m\u001b[0m \u001b[1m0s\u001b[0m 5ms/step - loss: 0.6533 - r2_score: 0.8724 - val_loss: 1.0977 - val_r2_score: 0.6567\n",
      "Epoch 45/50\n",
      "\u001b[1m61/61\u001b[0m \u001b[32m━━━━━━━━━━━━━━━━━━━━\u001b[0m\u001b[37m\u001b[0m \u001b[1m0s\u001b[0m 5ms/step - loss: 0.6765 - r2_score: 0.8579 - val_loss: 0.7049 - val_r2_score: 0.8560\n",
      "Epoch 46/50\n",
      "\u001b[1m61/61\u001b[0m \u001b[32m━━━━━━━━━━━━━━━━━━━━\u001b[0m\u001b[37m\u001b[0m \u001b[1m0s\u001b[0m 5ms/step - loss: 0.6165 - r2_score: 0.8759 - val_loss: 0.8187 - val_r2_score: 0.8093\n",
      "Epoch 47/50\n",
      "\u001b[1m61/61\u001b[0m \u001b[32m━━━━━━━━━━━━━━━━━━━━\u001b[0m\u001b[37m\u001b[0m \u001b[1m0s\u001b[0m 5ms/step - loss: 0.5954 - r2_score: 0.8874 - val_loss: 0.9370 - val_r2_score: 0.7499\n",
      "Epoch 48/50\n",
      "\u001b[1m61/61\u001b[0m \u001b[32m━━━━━━━━━━━━━━━━━━━━\u001b[0m\u001b[37m\u001b[0m \u001b[1m0s\u001b[0m 5ms/step - loss: 0.6428 - r2_score: 0.8707 - val_loss: 0.8473 - val_r2_score: 0.7942\n",
      "Epoch 49/50\n",
      "\u001b[1m61/61\u001b[0m \u001b[32m━━━━━━━━━━━━━━━━━━━━\u001b[0m\u001b[37m\u001b[0m \u001b[1m0s\u001b[0m 5ms/step - loss: 0.6216 - r2_score: 0.8816 - val_loss: 0.8132 - val_r2_score: 0.8108\n",
      "Epoch 50/50\n",
      "\u001b[1m61/61\u001b[0m \u001b[32m━━━━━━━━━━━━━━━━━━━━\u001b[0m\u001b[37m\u001b[0m \u001b[1m0s\u001b[0m 5ms/step - loss: 0.6016 - r2_score: 0.8845 - val_loss: 0.7103 - val_r2_score: 0.8534\n",
      "Restoring model weights from the end of the best epoch: 34.\n"
     ]
    }
   ],
   "source": [
    "# compilando o modelo\n",
    "def rmse(y_true, y_pred):\n",
    "    return tf.sqrt(tf.reduce_mean(tf.square(y_true - y_pred))) # gerando a função de erro RMSE\n",
    "\n",
    "# Principais losses = 'mean_squared_error' e 'mean_absolute_error'\n",
    "# Principais otimizadores = 'Adam', 'SGD', 'RMSprop'\n",
    "# Principais métricas = 'mae', 'mse', 'rmse', 'r2_score'\n",
    "\n",
    "# implementando o earlstopping para definir um criterio de parada\n",
    "from tensorflow.keras.callbacks import EarlyStopping\n",
    "\n",
    "early_stopping = EarlyStopping(\n",
    "    monitor='val_loss',    # prefixo \"val_\" para validação, caso contrario ele atua no treino (val_r2_score para o r2_score da validação por exemplo)\n",
    "    mode='min',                # queremos minimizar o erro de validação\n",
    "    patience=20,             # número de épocas sem melhoria antes de parar o treinamento\n",
    "    restore_best_weights=True,\n",
    "    verbose=1)                  # para ver quando o callback aciona\n",
    "\n",
    "mlptf.compile(optimizer='Adam', loss=rmse, metrics=['r2_score']) # compila o modelo, definindo o otimizador, a função de erro e as métricas que serão utilizadas para avaliar o desempenho do modelo\n",
    "\n",
    "historico_mlptf = mlptf.fit(x=XRFcal_prep,\n",
    "                       y=Ycal['exCa'],\n",
    "                       epochs=50,\n",
    "                       batch_size=10,  # o batch_size é o lote amostras que serão usadas para calcular o gradiente e atualizar os pesos do modelo, em outras palavras, =10 significa que de 10 em 10 amostras o modelo atualiza os pesos (frequencia de atualização dos pesos)\n",
    "                       validation_data=(XRFval_prep, Yval['exCa']), # o conjunto de validação é utilizado para monitorar o desempenho do modelo durante o treinamento e evitar overfitting.\n",
    "                       callbacks=[early_stopping],\n",
    "                       verbose=1)"
   ]
  },
  {
   "cell_type": "markdown",
   "id": "f5f9b867",
   "metadata": {},
   "source": [
    "Para utilizar o modelo em novos dados, novamente analogo ao sklearn, utilizamos o **model.predict**"
   ]
  },
  {
   "cell_type": "code",
   "execution_count": 12,
   "id": "70289025",
   "metadata": {},
   "outputs": [
    {
     "name": "stdout",
     "output_type": "stream",
     "text": [
      "\u001b[1m19/19\u001b[0m \u001b[32m━━━━━━━━━━━━━━━━━━━━\u001b[0m\u001b[37m\u001b[0m \u001b[1m0s\u001b[0m 7ms/step\n",
      "\u001b[1m9/9\u001b[0m \u001b[32m━━━━━━━━━━━━━━━━━━━━\u001b[0m\u001b[37m\u001b[0m \u001b[1m0s\u001b[0m 4ms/step \n"
     ]
    },
    {
     "data": {
      "application/vnd.microsoft.datawrangler.viewer.v0+json": {
       "columns": [
        {
         "name": "index",
         "rawType": "object",
         "type": "string"
        },
        {
         "name": "0",
         "rawType": "float64",
         "type": "float"
        }
       ],
       "conversionMethod": "pd.DataFrame",
       "ref": "c8c3b298-0dcf-446b-b000-8ff6720b4b2f",
       "rows": [
        [
         "R2_cal",
         "0.904"
        ],
        [
         "R2_pred",
         "0.879"
        ],
        [
         "RMSEC",
         "0.592"
        ],
        [
         "RMSEP",
         "0.658"
        ],
        [
         "RPD",
         "2.905"
        ],
        [
         "RPIQ",
         "4.544"
        ],
        [
         "Bias_pred",
         "0.024"
        ]
       ],
       "shape": {
        "columns": 1,
        "rows": 7
       }
      },
      "text/html": [
       "<div>\n",
       "<style scoped>\n",
       "    .dataframe tbody tr th:only-of-type {\n",
       "        vertical-align: middle;\n",
       "    }\n",
       "\n",
       "    .dataframe tbody tr th {\n",
       "        vertical-align: top;\n",
       "    }\n",
       "\n",
       "    .dataframe thead th {\n",
       "        text-align: right;\n",
       "    }\n",
       "</style>\n",
       "<table border=\"1\" class=\"dataframe\">\n",
       "  <thead>\n",
       "    <tr style=\"text-align: right;\">\n",
       "      <th></th>\n",
       "      <th>0</th>\n",
       "    </tr>\n",
       "  </thead>\n",
       "  <tbody>\n",
       "    <tr>\n",
       "      <th>R2_cal</th>\n",
       "      <td>0.904</td>\n",
       "    </tr>\n",
       "    <tr>\n",
       "      <th>R2_pred</th>\n",
       "      <td>0.879</td>\n",
       "    </tr>\n",
       "    <tr>\n",
       "      <th>RMSEC</th>\n",
       "      <td>0.592</td>\n",
       "    </tr>\n",
       "    <tr>\n",
       "      <th>RMSEP</th>\n",
       "      <td>0.658</td>\n",
       "    </tr>\n",
       "    <tr>\n",
       "      <th>RPD</th>\n",
       "      <td>2.905</td>\n",
       "    </tr>\n",
       "    <tr>\n",
       "      <th>RPIQ</th>\n",
       "      <td>4.544</td>\n",
       "    </tr>\n",
       "    <tr>\n",
       "      <th>Bias_pred</th>\n",
       "      <td>0.024</td>\n",
       "    </tr>\n",
       "  </tbody>\n",
       "</table>\n",
       "</div>"
      ],
      "text/plain": [
       "               0\n",
       "R2_cal     0.904\n",
       "R2_pred    0.879\n",
       "RMSEC      0.592\n",
       "RMSEP      0.658\n",
       "RPD        2.905\n",
       "RPIQ       4.544\n",
       "Bias_pred  0.024"
      ]
     },
     "execution_count": 12,
     "metadata": {},
     "output_type": "execute_result"
    }
   ],
   "source": [
    "# Resultados de calibração e predição por meio do comando predict()\n",
    "calres_mlptf = pd.DataFrame({'Ref': Ycal['exCa'], 'Pred': mlptf.predict(XRFcal_prep).flatten()})\n",
    "\n",
    "# resultados de validação\n",
    "predres_mlptf = pd.DataFrame({'Ref': Yval['exCa'], 'Pred': mlptf.predict(XRFval_prep).flatten()})\n",
    "\n",
    "# extraindo metricas de desempenho do modelo\n",
    "resumo_mlptf = resumo(calres_mlptf['Ref'], calres_mlptf['Pred'], predres_mlptf['Ref'], predres_mlptf['Pred']).T # calcula o resumo para os dados de calibração\n",
    "resumo_mlptf"
   ]
  },
  {
   "cell_type": "code",
   "execution_count": 13,
   "id": "f848c8be",
   "metadata": {},
   "outputs": [
    {
     "data": {
      "application/vnd.plotly.v1+json": {
       "config": {
        "plotlyServerURL": "https://plot.ly"
       },
       "data": [
        {
         "hovertemplate": "Grupo=Cal<br>Ref=%{x}<br>Pred=%{y}<extra></extra>",
         "legendgroup": "Cal",
         "marker": {
          "color": "red",
          "symbol": "circle"
         },
         "mode": "markers",
         "name": "Cal",
         "orientation": "v",
         "showlegend": true,
         "type": "scatter",
         "x": {
          "bdata": "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",
          "dtype": "f8"
         },
         "xaxis": "x",
         "y": {
          "bdata": "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",
          "dtype": "f4"
         },
         "yaxis": "y"
        },
        {
         "hovertemplate": "Grupo=Val<br>Ref=%{x}<br>Pred=%{y}<extra></extra>",
         "legendgroup": "Val",
         "marker": {
          "color": "blue",
          "symbol": "circle"
         },
         "mode": "markers",
         "name": "Val",
         "orientation": "v",
         "showlegend": true,
         "type": "scatter",
         "x": {
          "bdata": "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",
          "dtype": "f8"
         },
         "xaxis": "x",
         "y": {
          "bdata": "KzrtP45ki0C4sA5AWzLZQODC00Bn3vVAYV/tP50LuED/nQ1AERTIQO9c9z9hFMJA5eEaQIlP5UD1/qNA8RfXQCkjw0DBM3hAg1OwQLy1lkAfJeM/UVE/QGN08j+N4+RA58mgQMtBwkDqZPs/s/nsQIGzfkDgpQRAI20MQHxksUAT86FAEyCrQKsu00BHxpVAOVygQGWi8z/tvNZAmZrhQLO8jkD/D9VATOa/QIzK5z8HJdVAH7qYQJ7BvUD1KOVAr/f6QM0VpEBCgypATa/zQC4ljEDPCQZAsoqLQP6kukDo76lAI3fsQNABt0CjE+FA5RHsP+crrUCG7B5AorwBQS8M+D8t11tAgbTGQMqV9EARfapA9BRTQBCcFkAP8N5Av9i8QGukPkB/C7VAURXHQK7NpkB3PcJA//ZuQIqt4kDB3/JAsejjQNnr8T9f3AJAENu8QGX/i0BjG+NApQisQNk0rkDr4JNAdf4TQDMy5kAKHsBADinIQMNhOEAkKopAM9/EQOSXukCRyphAReDgQP1m5EDfEr9A90CyQJXkpkD0PtJAMBtgQHAJsUCIdARAD3nuP3VWRkDRFWpAu+PQQN242UDLqbNA37syQIJUeEAdBmBAocK2QAzBt0AQtYBAdMDnQKs4bEDHBN1AEcGuQCdFqUDOGI9Ac/u4QNw/40CskItAr31uQAOlr0BZYtJAvXaxQOkThkB9jfFAnEjSQJsO10DBSK5AHcPXQIgYj0C5RqBAwKtpQC46qUBErsNAc1dbQPcd2EDloohAbvEiQC/P3kD5nJ5ADevEQDlPBUA+IHhA8ZO0QAECN0CnPNBAIIDtQAnyf0DWExdAvz7NQDeKs0BsNo1AG0vcQEPX6EDnJ/RAM1O2QFsEYkCiGOVAMsbKQO6VykBSka1APFPPQIFbwECzms1AWSzDQNIStkAYCANAcrCJQFaXtkBb++ZA4X3qQGFPYUDzk49AY7SNQONFa0DMJpBAFUG4QGMBzUCnHzVAK1yuQELH8j+vCY9AkgfUQGfiwUDe9y5AKWitQNVl0UDyBK1AmSpYQO+YyUAYeABBdfzPQE4+0EAKVQBAxF+HQP5li0AbHohAMcPkQBRPakB3vc9AOQ6IQLYttEAVnAFBK+OcQJ0AwkCTWJNAkqqmQL1UMkAkvqhASPOQQJpb5kD7n5xAT7D/P6Vm3EBuw2lA54N7QI5ozEDUjrxAek+HQFKvu0Bv9pFASGDyP0ypwEBMxMhAr1nuPywLjUA70NZAWdTDQAu+skDv1chA3frFQMUWq0Dm8pxAwUTsQJwexkAui6hAmV2kQJpmR0B2VfxAnuuFQAD2BUD8srNAgj3DQDK6m0B2sQFBVxjaQMHzWUBHU+BAsJT7P2OerEDkZslA",
          "dtype": "f4"
         },
         "yaxis": "y"
        }
       ],
       "layout": {
        "legend": {
         "title": {
          "text": "Grupo"
         },
         "tracegroupgap": 0
        },
        "margin": {
         "t": 60
        },
        "template": {
         "data": {
          "bar": [
           {
            "error_x": {
             "color": "#2a3f5f"
            },
            "error_y": {
             "color": "#2a3f5f"
            },
            "marker": {
             "line": {
              "color": "#E5ECF6",
              "width": 0.5
             },
             "pattern": {
              "fillmode": "overlay",
              "size": 10,
              "solidity": 0.2
             }
            },
            "type": "bar"
           }
          ],
          "barpolar": [
           {
            "marker": {
             "line": {
              "color": "#E5ECF6",
              "width": 0.5
             },
             "pattern": {
              "fillmode": "overlay",
              "size": 10,
              "solidity": 0.2
             }
            },
            "type": "barpolar"
           }
          ],
          "carpet": [
           {
            "aaxis": {
             "endlinecolor": "#2a3f5f",
             "gridcolor": "white",
             "linecolor": "white",
             "minorgridcolor": "white",
             "startlinecolor": "#2a3f5f"
            },
            "baxis": {
             "endlinecolor": "#2a3f5f",
             "gridcolor": "white",
             "linecolor": "white",
             "minorgridcolor": "white",
             "startlinecolor": "#2a3f5f"
            },
            "type": "carpet"
           }
          ],
          "choropleth": [
           {
            "colorbar": {
             "outlinewidth": 0,
             "ticks": ""
            },
            "type": "choropleth"
           }
          ],
          "contour": [
           {
            "colorbar": {
             "outlinewidth": 0,
             "ticks": ""
            },
            "colorscale": [
             [
              0,
              "#0d0887"
             ],
             [
              0.1111111111111111,
              "#46039f"
             ],
             [
              0.2222222222222222,
              "#7201a8"
             ],
             [
              0.3333333333333333,
              "#9c179e"
             ],
             [
              0.4444444444444444,
              "#bd3786"
             ],
             [
              0.5555555555555556,
              "#d8576b"
             ],
             [
              0.6666666666666666,
              "#ed7953"
             ],
             [
              0.7777777777777778,
              "#fb9f3a"
             ],
             [
              0.8888888888888888,
              "#fdca26"
             ],
             [
              1,
              "#f0f921"
             ]
            ],
            "type": "contour"
           }
          ],
          "contourcarpet": [
           {
            "colorbar": {
             "outlinewidth": 0,
             "ticks": ""
            },
            "type": "contourcarpet"
           }
          ],
          "heatmap": [
           {
            "colorbar": {
             "outlinewidth": 0,
             "ticks": ""
            },
            "colorscale": [
             [
              0,
              "#0d0887"
             ],
             [
              0.1111111111111111,
              "#46039f"
             ],
             [
              0.2222222222222222,
              "#7201a8"
             ],
             [
              0.3333333333333333,
              "#9c179e"
             ],
             [
              0.4444444444444444,
              "#bd3786"
             ],
             [
              0.5555555555555556,
              "#d8576b"
             ],
             [
              0.6666666666666666,
              "#ed7953"
             ],
             [
              0.7777777777777778,
              "#fb9f3a"
             ],
             [
              0.8888888888888888,
              "#fdca26"
             ],
             [
              1,
              "#f0f921"
             ]
            ],
            "type": "heatmap"
           }
          ],
          "histogram": [
           {
            "marker": {
             "pattern": {
              "fillmode": "overlay",
              "size": 10,
              "solidity": 0.2
             }
            },
            "type": "histogram"
           }
          ],
          "histogram2d": [
           {
            "colorbar": {
             "outlinewidth": 0,
             "ticks": ""
            },
            "colorscale": [
             [
              0,
              "#0d0887"
             ],
             [
              0.1111111111111111,
              "#46039f"
             ],
             [
              0.2222222222222222,
              "#7201a8"
             ],
             [
              0.3333333333333333,
              "#9c179e"
             ],
             [
              0.4444444444444444,
              "#bd3786"
             ],
             [
              0.5555555555555556,
              "#d8576b"
             ],
             [
              0.6666666666666666,
              "#ed7953"
             ],
             [
              0.7777777777777778,
              "#fb9f3a"
             ],
             [
              0.8888888888888888,
              "#fdca26"
             ],
             [
              1,
              "#f0f921"
             ]
            ],
            "type": "histogram2d"
           }
          ],
          "histogram2dcontour": [
           {
            "colorbar": {
             "outlinewidth": 0,
             "ticks": ""
            },
            "colorscale": [
             [
              0,
              "#0d0887"
             ],
             [
              0.1111111111111111,
              "#46039f"
             ],
             [
              0.2222222222222222,
              "#7201a8"
             ],
             [
              0.3333333333333333,
              "#9c179e"
             ],
             [
              0.4444444444444444,
              "#bd3786"
             ],
             [
              0.5555555555555556,
              "#d8576b"
             ],
             [
              0.6666666666666666,
              "#ed7953"
             ],
             [
              0.7777777777777778,
              "#fb9f3a"
             ],
             [
              0.8888888888888888,
              "#fdca26"
             ],
             [
              1,
              "#f0f921"
             ]
            ],
            "type": "histogram2dcontour"
           }
          ],
          "mesh3d": [
           {
            "colorbar": {
             "outlinewidth": 0,
             "ticks": ""
            },
            "type": "mesh3d"
           }
          ],
          "parcoords": [
           {
            "line": {
             "colorbar": {
              "outlinewidth": 0,
              "ticks": ""
             }
            },
            "type": "parcoords"
           }
          ],
          "pie": [
           {
            "automargin": true,
            "type": "pie"
           }
          ],
          "scatter": [
           {
            "fillpattern": {
             "fillmode": "overlay",
             "size": 10,
             "solidity": 0.2
            },
            "type": "scatter"
           }
          ],
          "scatter3d": [
           {
            "line": {
             "colorbar": {
              "outlinewidth": 0,
              "ticks": ""
             }
            },
            "marker": {
             "colorbar": {
              "outlinewidth": 0,
              "ticks": ""
             }
            },
            "type": "scatter3d"
           }
          ],
          "scattercarpet": [
           {
            "marker": {
             "colorbar": {
              "outlinewidth": 0,
              "ticks": ""
             }
            },
            "type": "scattercarpet"
           }
          ],
          "scattergeo": [
           {
            "marker": {
             "colorbar": {
              "outlinewidth": 0,
              "ticks": ""
             }
            },
            "type": "scattergeo"
           }
          ],
          "scattergl": [
           {
            "marker": {
             "colorbar": {
              "outlinewidth": 0,
              "ticks": ""
             }
            },
            "type": "scattergl"
           }
          ],
          "scattermap": [
           {
            "marker": {
             "colorbar": {
              "outlinewidth": 0,
              "ticks": ""
             }
            },
            "type": "scattermap"
           }
          ],
          "scattermapbox": [
           {
            "marker": {
             "colorbar": {
              "outlinewidth": 0,
              "ticks": ""
             }
            },
            "type": "scattermapbox"
           }
          ],
          "scatterpolar": [
           {
            "marker": {
             "colorbar": {
              "outlinewidth": 0,
              "ticks": ""
             }
            },
            "type": "scatterpolar"
           }
          ],
          "scatterpolargl": [
           {
            "marker": {
             "colorbar": {
              "outlinewidth": 0,
              "ticks": ""
             }
            },
            "type": "scatterpolargl"
           }
          ],
          "scatterternary": [
           {
            "marker": {
             "colorbar": {
              "outlinewidth": 0,
              "ticks": ""
             }
            },
            "type": "scatterternary"
           }
          ],
          "surface": [
           {
            "colorbar": {
             "outlinewidth": 0,
             "ticks": ""
            },
            "colorscale": [
             [
              0,
              "#0d0887"
             ],
             [
              0.1111111111111111,
              "#46039f"
             ],
             [
              0.2222222222222222,
              "#7201a8"
             ],
             [
              0.3333333333333333,
              "#9c179e"
             ],
             [
              0.4444444444444444,
              "#bd3786"
             ],
             [
              0.5555555555555556,
              "#d8576b"
             ],
             [
              0.6666666666666666,
              "#ed7953"
             ],
             [
              0.7777777777777778,
              "#fb9f3a"
             ],
             [
              0.8888888888888888,
              "#fdca26"
             ],
             [
              1,
              "#f0f921"
             ]
            ],
            "type": "surface"
           }
          ],
          "table": [
           {
            "cells": {
             "fill": {
              "color": "#EBF0F8"
             },
             "line": {
              "color": "white"
             }
            },
            "header": {
             "fill": {
              "color": "#C8D4E3"
             },
             "line": {
              "color": "white"
             }
            },
            "type": "table"
           }
          ]
         },
         "layout": {
          "annotationdefaults": {
           "arrowcolor": "#2a3f5f",
           "arrowhead": 0,
           "arrowwidth": 1
          },
          "autotypenumbers": "strict",
          "coloraxis": {
           "colorbar": {
            "outlinewidth": 0,
            "ticks": ""
           }
          },
          "colorscale": {
           "diverging": [
            [
             0,
             "#8e0152"
            ],
            [
             0.1,
             "#c51b7d"
            ],
            [
             0.2,
             "#de77ae"
            ],
            [
             0.3,
             "#f1b6da"
            ],
            [
             0.4,
             "#fde0ef"
            ],
            [
             0.5,
             "#f7f7f7"
            ],
            [
             0.6,
             "#e6f5d0"
            ],
            [
             0.7,
             "#b8e186"
            ],
            [
             0.8,
             "#7fbc41"
            ],
            [
             0.9,
             "#4d9221"
            ],
            [
             1,
             "#276419"
            ]
           ],
           "sequential": [
            [
             0,
             "#0d0887"
            ],
            [
             0.1111111111111111,
             "#46039f"
            ],
            [
             0.2222222222222222,
             "#7201a8"
            ],
            [
             0.3333333333333333,
             "#9c179e"
            ],
            [
             0.4444444444444444,
             "#bd3786"
            ],
            [
             0.5555555555555556,
             "#d8576b"
            ],
            [
             0.6666666666666666,
             "#ed7953"
            ],
            [
             0.7777777777777778,
             "#fb9f3a"
            ],
            [
             0.8888888888888888,
             "#fdca26"
            ],
            [
             1,
             "#f0f921"
            ]
           ],
           "sequentialminus": [
            [
             0,
             "#0d0887"
            ],
            [
             0.1111111111111111,
             "#46039f"
            ],
            [
             0.2222222222222222,
             "#7201a8"
            ],
            [
             0.3333333333333333,
             "#9c179e"
            ],
            [
             0.4444444444444444,
             "#bd3786"
            ],
            [
             0.5555555555555556,
             "#d8576b"
            ],
            [
             0.6666666666666666,
             "#ed7953"
            ],
            [
             0.7777777777777778,
             "#fb9f3a"
            ],
            [
             0.8888888888888888,
             "#fdca26"
            ],
            [
             1,
             "#f0f921"
            ]
           ]
          },
          "colorway": [
           "#636efa",
           "#EF553B",
           "#00cc96",
           "#ab63fa",
           "#FFA15A",
           "#19d3f3",
           "#FF6692",
           "#B6E880",
           "#FF97FF",
           "#FECB52"
          ],
          "font": {
           "color": "#2a3f5f"
          },
          "geo": {
           "bgcolor": "white",
           "lakecolor": "white",
           "landcolor": "#E5ECF6",
           "showlakes": true,
           "showland": true,
           "subunitcolor": "white"
          },
          "hoverlabel": {
           "align": "left"
          },
          "hovermode": "closest",
          "mapbox": {
           "style": "light"
          },
          "paper_bgcolor": "white",
          "plot_bgcolor": "#E5ECF6",
          "polar": {
           "angularaxis": {
            "gridcolor": "white",
            "linecolor": "white",
            "ticks": ""
           },
           "bgcolor": "#E5ECF6",
           "radialaxis": {
            "gridcolor": "white",
            "linecolor": "white",
            "ticks": ""
           }
          },
          "scene": {
           "xaxis": {
            "backgroundcolor": "#E5ECF6",
            "gridcolor": "white",
            "gridwidth": 2,
            "linecolor": "white",
            "showbackground": true,
            "ticks": "",
            "zerolinecolor": "white"
           },
           "yaxis": {
            "backgroundcolor": "#E5ECF6",
            "gridcolor": "white",
            "gridwidth": 2,
            "linecolor": "white",
            "showbackground": true,
            "ticks": "",
            "zerolinecolor": "white"
           },
           "zaxis": {
            "backgroundcolor": "#E5ECF6",
            "gridcolor": "white",
            "gridwidth": 2,
            "linecolor": "white",
            "showbackground": true,
            "ticks": "",
            "zerolinecolor": "white"
           }
          },
          "shapedefaults": {
           "line": {
            "color": "#2a3f5f"
           }
          },
          "ternary": {
           "aaxis": {
            "gridcolor": "white",
            "linecolor": "white",
            "ticks": ""
           },
           "baxis": {
            "gridcolor": "white",
            "linecolor": "white",
            "ticks": ""
           },
           "bgcolor": "#E5ECF6",
           "caxis": {
            "gridcolor": "white",
            "linecolor": "white",
            "ticks": ""
           }
          },
          "title": {
           "x": 0.05
          },
          "xaxis": {
           "automargin": true,
           "gridcolor": "white",
           "linecolor": "white",
           "ticks": "",
           "title": {
            "standoff": 15
           },
           "zerolinecolor": "white",
           "zerolinewidth": 2
          },
          "yaxis": {
           "automargin": true,
           "gridcolor": "white",
           "linecolor": "white",
           "ticks": "",
           "title": {
            "standoff": 15
           },
           "zerolinecolor": "white",
           "zerolinewidth": 2
          }
         }
        },
        "xaxis": {
         "anchor": "y",
         "domain": [
          0,
          1
         ],
         "title": {
          "text": "Ref"
         }
        },
        "yaxis": {
         "anchor": "x",
         "domain": [
          0,
          1
         ],
         "title": {
          "text": "Pred"
         }
        }
       }
      }
     },
     "metadata": {},
     "output_type": "display_data"
    }
   ],
   "source": [
    "resultados_mlptf= pd.concat([calres_mlptf, predres_mlptf], axis=0).reset_index(drop=True) # junta os dataframes de calibração e validação\n",
    "resultados_mlptf.insert(0, 'Grupo', ['Cal'] * len(Ycal) + ['Val'] * len(Yval)) # insere uma coluna com o grupo (calibração ou validação) no dataframe de previsões\n",
    "\n",
    "import plotly.express as px\n",
    "#plot de dispersão\n",
    "fig = px.scatter(resultados_mlptf,\n",
    "                 x='Ref',\n",
    "                 y='Pred',\n",
    "                 color='Grupo',\n",
    "                 color_discrete_sequence=['red', 'blue'])\n",
    "fig.show()"
   ]
  },
  {
   "cell_type": "code",
   "execution_count": 14,
   "id": "e45b99d8",
   "metadata": {},
   "outputs": [],
   "source": [
    "#reprodutibilidade pelo TF\n",
    "import os\n",
    "import random\n",
    "import tensorflow as tf\n",
    "\n",
    "# Define um valor fixo para a semente\n",
    "seed_value = 1\n",
    "\n",
    "# 1. Configura a semente para o Python\n",
    "os.environ['PYTHONHASHSEED'] = str(seed_value)\n",
    "random.seed(seed_value)\n",
    "\n",
    "# 2. Configura a semente para o NumPy\n",
    "np.random.seed(seed_value)\n",
    "\n",
    "# 3. Configura a semente para o TensorFlow\n",
    "tf.random.set_seed(seed_value)"
   ]
  },
  {
   "cell_type": "markdown",
   "id": "d6f22bb7",
   "metadata": {},
   "source": [
    "## **MLP multi-target (SOC e exCa)**"
   ]
  },
  {
   "cell_type": "code",
   "execution_count": 15,
   "id": "433b5caf",
   "metadata": {},
   "outputs": [],
   "source": [
    "Ycal=Ycal[['SOC', 'exCa']] # seleciona apenas as colunas SOC e exCa \n",
    "Yval=Yval[['SOC', 'exCa']]"
   ]
  },
  {
   "cell_type": "code",
   "execution_count": 16,
   "id": "9e74b2c5",
   "metadata": {},
   "outputs": [
    {
     "data": {
      "text/html": [
       "<pre style=\"white-space:pre;overflow-x:auto;line-height:normal;font-family:Menlo,'DejaVu Sans Mono',consolas,'Courier New',monospace\"><span style=\"font-weight: bold\">Model: \"functional_1\"</span>\n",
       "</pre>\n"
      ],
      "text/plain": [
       "\u001b[1mModel: \"functional_1\"\u001b[0m\n"
      ]
     },
     "metadata": {},
     "output_type": "display_data"
    },
    {
     "data": {
      "text/html": [
       "<pre style=\"white-space:pre;overflow-x:auto;line-height:normal;font-family:Menlo,'DejaVu Sans Mono',consolas,'Courier New',monospace\">┏━━━━━━━━━━━━━━━━━━━━━┳━━━━━━━━━━━━━━━━━━━┳━━━━━━━━━━━━┳━━━━━━━━━━━━━━━━━━━┓\n",
       "┃<span style=\"font-weight: bold\"> Layer (type)        </span>┃<span style=\"font-weight: bold\"> Output Shape      </span>┃<span style=\"font-weight: bold\">    Param # </span>┃<span style=\"font-weight: bold\"> Connected to      </span>┃\n",
       "┡━━━━━━━━━━━━━━━━━━━━━╇━━━━━━━━━━━━━━━━━━━╇━━━━━━━━━━━━╇━━━━━━━━━━━━━━━━━━━┩\n",
       "│ input_layer         │ (<span style=\"color: #00d7ff; text-decoration-color: #00d7ff\">None</span>, <span style=\"color: #00af00; text-decoration-color: #00af00\">701</span>)       │          <span style=\"color: #00af00; text-decoration-color: #00af00\">0</span> │ -                 │\n",
       "│ (<span style=\"color: #0087ff; text-decoration-color: #0087ff\">InputLayer</span>)        │                   │            │                   │\n",
       "├─────────────────────┼───────────────────┼────────────┼───────────────────┤\n",
       "│ dense_9 (<span style=\"color: #0087ff; text-decoration-color: #0087ff\">Dense</span>)     │ (<span style=\"color: #00d7ff; text-decoration-color: #00d7ff\">None</span>, <span style=\"color: #00af00; text-decoration-color: #00af00\">512</span>)       │    <span style=\"color: #00af00; text-decoration-color: #00af00\">359,424</span> │ input_layer[<span style=\"color: #00af00; text-decoration-color: #00af00\">0</span>][<span style=\"color: #00af00; text-decoration-color: #00af00\">0</span>] │\n",
       "├─────────────────────┼───────────────────┼────────────┼───────────────────┤\n",
       "│ dropout_4 (<span style=\"color: #0087ff; text-decoration-color: #0087ff\">Dropout</span>) │ (<span style=\"color: #00d7ff; text-decoration-color: #00d7ff\">None</span>, <span style=\"color: #00af00; text-decoration-color: #00af00\">512</span>)       │          <span style=\"color: #00af00; text-decoration-color: #00af00\">0</span> │ dense_9[<span style=\"color: #00af00; text-decoration-color: #00af00\">0</span>][<span style=\"color: #00af00; text-decoration-color: #00af00\">0</span>]     │\n",
       "├─────────────────────┼───────────────────┼────────────┼───────────────────┤\n",
       "│ dense_10 (<span style=\"color: #0087ff; text-decoration-color: #0087ff\">Dense</span>)    │ (<span style=\"color: #00d7ff; text-decoration-color: #00d7ff\">None</span>, <span style=\"color: #00af00; text-decoration-color: #00af00\">256</span>)       │    <span style=\"color: #00af00; text-decoration-color: #00af00\">131,328</span> │ dropout_4[<span style=\"color: #00af00; text-decoration-color: #00af00\">0</span>][<span style=\"color: #00af00; text-decoration-color: #00af00\">0</span>]   │\n",
       "├─────────────────────┼───────────────────┼────────────┼───────────────────┤\n",
       "│ dropout_5 (<span style=\"color: #0087ff; text-decoration-color: #0087ff\">Dropout</span>) │ (<span style=\"color: #00d7ff; text-decoration-color: #00d7ff\">None</span>, <span style=\"color: #00af00; text-decoration-color: #00af00\">256</span>)       │          <span style=\"color: #00af00; text-decoration-color: #00af00\">0</span> │ dense_10[<span style=\"color: #00af00; text-decoration-color: #00af00\">0</span>][<span style=\"color: #00af00; text-decoration-color: #00af00\">0</span>]    │\n",
       "├─────────────────────┼───────────────────┼────────────┼───────────────────┤\n",
       "│ Dense_SOC1 (<span style=\"color: #0087ff; text-decoration-color: #0087ff\">Dense</span>)  │ (<span style=\"color: #00d7ff; text-decoration-color: #00d7ff\">None</span>, <span style=\"color: #00af00; text-decoration-color: #00af00\">256</span>)       │     <span style=\"color: #00af00; text-decoration-color: #00af00\">65,792</span> │ dropout_5[<span style=\"color: #00af00; text-decoration-color: #00af00\">0</span>][<span style=\"color: #00af00; text-decoration-color: #00af00\">0</span>]   │\n",
       "├─────────────────────┼───────────────────┼────────────┼───────────────────┤\n",
       "│ dense_13 (<span style=\"color: #0087ff; text-decoration-color: #0087ff\">Dense</span>)    │ (<span style=\"color: #00d7ff; text-decoration-color: #00d7ff\">None</span>, <span style=\"color: #00af00; text-decoration-color: #00af00\">256</span>)       │     <span style=\"color: #00af00; text-decoration-color: #00af00\">65,792</span> │ dropout_5[<span style=\"color: #00af00; text-decoration-color: #00af00\">0</span>][<span style=\"color: #00af00; text-decoration-color: #00af00\">0</span>]   │\n",
       "├─────────────────────┼───────────────────┼────────────┼───────────────────┤\n",
       "│ dropout_6 (<span style=\"color: #0087ff; text-decoration-color: #0087ff\">Dropout</span>) │ (<span style=\"color: #00d7ff; text-decoration-color: #00d7ff\">None</span>, <span style=\"color: #00af00; text-decoration-color: #00af00\">256</span>)       │          <span style=\"color: #00af00; text-decoration-color: #00af00\">0</span> │ Dense_SOC1[<span style=\"color: #00af00; text-decoration-color: #00af00\">0</span>][<span style=\"color: #00af00; text-decoration-color: #00af00\">0</span>]  │\n",
       "├─────────────────────┼───────────────────┼────────────┼───────────────────┤\n",
       "│ dropout_8 (<span style=\"color: #0087ff; text-decoration-color: #0087ff\">Dropout</span>) │ (<span style=\"color: #00d7ff; text-decoration-color: #00d7ff\">None</span>, <span style=\"color: #00af00; text-decoration-color: #00af00\">256</span>)       │          <span style=\"color: #00af00; text-decoration-color: #00af00\">0</span> │ dense_13[<span style=\"color: #00af00; text-decoration-color: #00af00\">0</span>][<span style=\"color: #00af00; text-decoration-color: #00af00\">0</span>]    │\n",
       "├─────────────────────┼───────────────────┼────────────┼───────────────────┤\n",
       "│ dense_11 (<span style=\"color: #0087ff; text-decoration-color: #0087ff\">Dense</span>)    │ (<span style=\"color: #00d7ff; text-decoration-color: #00d7ff\">None</span>, <span style=\"color: #00af00; text-decoration-color: #00af00\">128</span>)       │     <span style=\"color: #00af00; text-decoration-color: #00af00\">32,896</span> │ dropout_6[<span style=\"color: #00af00; text-decoration-color: #00af00\">0</span>][<span style=\"color: #00af00; text-decoration-color: #00af00\">0</span>]   │\n",
       "├─────────────────────┼───────────────────┼────────────┼───────────────────┤\n",
       "│ dense_14 (<span style=\"color: #0087ff; text-decoration-color: #0087ff\">Dense</span>)    │ (<span style=\"color: #00d7ff; text-decoration-color: #00d7ff\">None</span>, <span style=\"color: #00af00; text-decoration-color: #00af00\">128</span>)       │     <span style=\"color: #00af00; text-decoration-color: #00af00\">32,896</span> │ dropout_8[<span style=\"color: #00af00; text-decoration-color: #00af00\">0</span>][<span style=\"color: #00af00; text-decoration-color: #00af00\">0</span>]   │\n",
       "├─────────────────────┼───────────────────┼────────────┼───────────────────┤\n",
       "│ dropout_7 (<span style=\"color: #0087ff; text-decoration-color: #0087ff\">Dropout</span>) │ (<span style=\"color: #00d7ff; text-decoration-color: #00d7ff\">None</span>, <span style=\"color: #00af00; text-decoration-color: #00af00\">128</span>)       │          <span style=\"color: #00af00; text-decoration-color: #00af00\">0</span> │ dense_11[<span style=\"color: #00af00; text-decoration-color: #00af00\">0</span>][<span style=\"color: #00af00; text-decoration-color: #00af00\">0</span>]    │\n",
       "├─────────────────────┼───────────────────┼────────────┼───────────────────┤\n",
       "│ dropout_9 (<span style=\"color: #0087ff; text-decoration-color: #0087ff\">Dropout</span>) │ (<span style=\"color: #00d7ff; text-decoration-color: #00d7ff\">None</span>, <span style=\"color: #00af00; text-decoration-color: #00af00\">128</span>)       │          <span style=\"color: #00af00; text-decoration-color: #00af00\">0</span> │ dense_14[<span style=\"color: #00af00; text-decoration-color: #00af00\">0</span>][<span style=\"color: #00af00; text-decoration-color: #00af00\">0</span>]    │\n",
       "├─────────────────────┼───────────────────┼────────────┼───────────────────┤\n",
       "│ dense_12 (<span style=\"color: #0087ff; text-decoration-color: #0087ff\">Dense</span>)    │ (<span style=\"color: #00d7ff; text-decoration-color: #00d7ff\">None</span>, <span style=\"color: #00af00; text-decoration-color: #00af00\">64</span>)        │      <span style=\"color: #00af00; text-decoration-color: #00af00\">8,256</span> │ dropout_7[<span style=\"color: #00af00; text-decoration-color: #00af00\">0</span>][<span style=\"color: #00af00; text-decoration-color: #00af00\">0</span>]   │\n",
       "├─────────────────────┼───────────────────┼────────────┼───────────────────┤\n",
       "│ dense_15 (<span style=\"color: #0087ff; text-decoration-color: #0087ff\">Dense</span>)    │ (<span style=\"color: #00d7ff; text-decoration-color: #00d7ff\">None</span>, <span style=\"color: #00af00; text-decoration-color: #00af00\">64</span>)        │      <span style=\"color: #00af00; text-decoration-color: #00af00\">8,256</span> │ dropout_9[<span style=\"color: #00af00; text-decoration-color: #00af00\">0</span>][<span style=\"color: #00af00; text-decoration-color: #00af00\">0</span>]   │\n",
       "├─────────────────────┼───────────────────┼────────────┼───────────────────┤\n",
       "│ SOC_output (<span style=\"color: #0087ff; text-decoration-color: #0087ff\">Dense</span>)  │ (<span style=\"color: #00d7ff; text-decoration-color: #00d7ff\">None</span>, <span style=\"color: #00af00; text-decoration-color: #00af00\">1</span>)         │         <span style=\"color: #00af00; text-decoration-color: #00af00\">65</span> │ dense_12[<span style=\"color: #00af00; text-decoration-color: #00af00\">0</span>][<span style=\"color: #00af00; text-decoration-color: #00af00\">0</span>]    │\n",
       "├─────────────────────┼───────────────────┼────────────┼───────────────────┤\n",
       "│ exCa_output (<span style=\"color: #0087ff; text-decoration-color: #0087ff\">Dense</span>) │ (<span style=\"color: #00d7ff; text-decoration-color: #00d7ff\">None</span>, <span style=\"color: #00af00; text-decoration-color: #00af00\">1</span>)         │         <span style=\"color: #00af00; text-decoration-color: #00af00\">65</span> │ dense_15[<span style=\"color: #00af00; text-decoration-color: #00af00\">0</span>][<span style=\"color: #00af00; text-decoration-color: #00af00\">0</span>]    │\n",
       "└─────────────────────┴───────────────────┴────────────┴───────────────────┘\n",
       "</pre>\n"
      ],
      "text/plain": [
       "┏━━━━━━━━━━━━━━━━━━━━━┳━━━━━━━━━━━━━━━━━━━┳━━━━━━━━━━━━┳━━━━━━━━━━━━━━━━━━━┓\n",
       "┃\u001b[1m \u001b[0m\u001b[1mLayer (type)       \u001b[0m\u001b[1m \u001b[0m┃\u001b[1m \u001b[0m\u001b[1mOutput Shape     \u001b[0m\u001b[1m \u001b[0m┃\u001b[1m \u001b[0m\u001b[1m   Param #\u001b[0m\u001b[1m \u001b[0m┃\u001b[1m \u001b[0m\u001b[1mConnected to     \u001b[0m\u001b[1m \u001b[0m┃\n",
       "┡━━━━━━━━━━━━━━━━━━━━━╇━━━━━━━━━━━━━━━━━━━╇━━━━━━━━━━━━╇━━━━━━━━━━━━━━━━━━━┩\n",
       "│ input_layer         │ (\u001b[38;5;45mNone\u001b[0m, \u001b[38;5;34m701\u001b[0m)       │          \u001b[38;5;34m0\u001b[0m │ -                 │\n",
       "│ (\u001b[38;5;33mInputLayer\u001b[0m)        │                   │            │                   │\n",
       "├─────────────────────┼───────────────────┼────────────┼───────────────────┤\n",
       "│ dense_9 (\u001b[38;5;33mDense\u001b[0m)     │ (\u001b[38;5;45mNone\u001b[0m, \u001b[38;5;34m512\u001b[0m)       │    \u001b[38;5;34m359,424\u001b[0m │ input_layer[\u001b[38;5;34m0\u001b[0m][\u001b[38;5;34m0\u001b[0m] │\n",
       "├─────────────────────┼───────────────────┼────────────┼───────────────────┤\n",
       "│ dropout_4 (\u001b[38;5;33mDropout\u001b[0m) │ (\u001b[38;5;45mNone\u001b[0m, \u001b[38;5;34m512\u001b[0m)       │          \u001b[38;5;34m0\u001b[0m │ dense_9[\u001b[38;5;34m0\u001b[0m][\u001b[38;5;34m0\u001b[0m]     │\n",
       "├─────────────────────┼───────────────────┼────────────┼───────────────────┤\n",
       "│ dense_10 (\u001b[38;5;33mDense\u001b[0m)    │ (\u001b[38;5;45mNone\u001b[0m, \u001b[38;5;34m256\u001b[0m)       │    \u001b[38;5;34m131,328\u001b[0m │ dropout_4[\u001b[38;5;34m0\u001b[0m][\u001b[38;5;34m0\u001b[0m]   │\n",
       "├─────────────────────┼───────────────────┼────────────┼───────────────────┤\n",
       "│ dropout_5 (\u001b[38;5;33mDropout\u001b[0m) │ (\u001b[38;5;45mNone\u001b[0m, \u001b[38;5;34m256\u001b[0m)       │          \u001b[38;5;34m0\u001b[0m │ dense_10[\u001b[38;5;34m0\u001b[0m][\u001b[38;5;34m0\u001b[0m]    │\n",
       "├─────────────────────┼───────────────────┼────────────┼───────────────────┤\n",
       "│ Dense_SOC1 (\u001b[38;5;33mDense\u001b[0m)  │ (\u001b[38;5;45mNone\u001b[0m, \u001b[38;5;34m256\u001b[0m)       │     \u001b[38;5;34m65,792\u001b[0m │ dropout_5[\u001b[38;5;34m0\u001b[0m][\u001b[38;5;34m0\u001b[0m]   │\n",
       "├─────────────────────┼───────────────────┼────────────┼───────────────────┤\n",
       "│ dense_13 (\u001b[38;5;33mDense\u001b[0m)    │ (\u001b[38;5;45mNone\u001b[0m, \u001b[38;5;34m256\u001b[0m)       │     \u001b[38;5;34m65,792\u001b[0m │ dropout_5[\u001b[38;5;34m0\u001b[0m][\u001b[38;5;34m0\u001b[0m]   │\n",
       "├─────────────────────┼───────────────────┼────────────┼───────────────────┤\n",
       "│ dropout_6 (\u001b[38;5;33mDropout\u001b[0m) │ (\u001b[38;5;45mNone\u001b[0m, \u001b[38;5;34m256\u001b[0m)       │          \u001b[38;5;34m0\u001b[0m │ Dense_SOC1[\u001b[38;5;34m0\u001b[0m][\u001b[38;5;34m0\u001b[0m]  │\n",
       "├─────────────────────┼───────────────────┼────────────┼───────────────────┤\n",
       "│ dropout_8 (\u001b[38;5;33mDropout\u001b[0m) │ (\u001b[38;5;45mNone\u001b[0m, \u001b[38;5;34m256\u001b[0m)       │          \u001b[38;5;34m0\u001b[0m │ dense_13[\u001b[38;5;34m0\u001b[0m][\u001b[38;5;34m0\u001b[0m]    │\n",
       "├─────────────────────┼───────────────────┼────────────┼───────────────────┤\n",
       "│ dense_11 (\u001b[38;5;33mDense\u001b[0m)    │ (\u001b[38;5;45mNone\u001b[0m, \u001b[38;5;34m128\u001b[0m)       │     \u001b[38;5;34m32,896\u001b[0m │ dropout_6[\u001b[38;5;34m0\u001b[0m][\u001b[38;5;34m0\u001b[0m]   │\n",
       "├─────────────────────┼───────────────────┼────────────┼───────────────────┤\n",
       "│ dense_14 (\u001b[38;5;33mDense\u001b[0m)    │ (\u001b[38;5;45mNone\u001b[0m, \u001b[38;5;34m128\u001b[0m)       │     \u001b[38;5;34m32,896\u001b[0m │ dropout_8[\u001b[38;5;34m0\u001b[0m][\u001b[38;5;34m0\u001b[0m]   │\n",
       "├─────────────────────┼───────────────────┼────────────┼───────────────────┤\n",
       "│ dropout_7 (\u001b[38;5;33mDropout\u001b[0m) │ (\u001b[38;5;45mNone\u001b[0m, \u001b[38;5;34m128\u001b[0m)       │          \u001b[38;5;34m0\u001b[0m │ dense_11[\u001b[38;5;34m0\u001b[0m][\u001b[38;5;34m0\u001b[0m]    │\n",
       "├─────────────────────┼───────────────────┼────────────┼───────────────────┤\n",
       "│ dropout_9 (\u001b[38;5;33mDropout\u001b[0m) │ (\u001b[38;5;45mNone\u001b[0m, \u001b[38;5;34m128\u001b[0m)       │          \u001b[38;5;34m0\u001b[0m │ dense_14[\u001b[38;5;34m0\u001b[0m][\u001b[38;5;34m0\u001b[0m]    │\n",
       "├─────────────────────┼───────────────────┼────────────┼───────────────────┤\n",
       "│ dense_12 (\u001b[38;5;33mDense\u001b[0m)    │ (\u001b[38;5;45mNone\u001b[0m, \u001b[38;5;34m64\u001b[0m)        │      \u001b[38;5;34m8,256\u001b[0m │ dropout_7[\u001b[38;5;34m0\u001b[0m][\u001b[38;5;34m0\u001b[0m]   │\n",
       "├─────────────────────┼───────────────────┼────────────┼───────────────────┤\n",
       "│ dense_15 (\u001b[38;5;33mDense\u001b[0m)    │ (\u001b[38;5;45mNone\u001b[0m, \u001b[38;5;34m64\u001b[0m)        │      \u001b[38;5;34m8,256\u001b[0m │ dropout_9[\u001b[38;5;34m0\u001b[0m][\u001b[38;5;34m0\u001b[0m]   │\n",
       "├─────────────────────┼───────────────────┼────────────┼───────────────────┤\n",
       "│ SOC_output (\u001b[38;5;33mDense\u001b[0m)  │ (\u001b[38;5;45mNone\u001b[0m, \u001b[38;5;34m1\u001b[0m)         │         \u001b[38;5;34m65\u001b[0m │ dense_12[\u001b[38;5;34m0\u001b[0m][\u001b[38;5;34m0\u001b[0m]    │\n",
       "├─────────────────────┼───────────────────┼────────────┼───────────────────┤\n",
       "│ exCa_output (\u001b[38;5;33mDense\u001b[0m) │ (\u001b[38;5;45mNone\u001b[0m, \u001b[38;5;34m1\u001b[0m)         │         \u001b[38;5;34m65\u001b[0m │ dense_15[\u001b[38;5;34m0\u001b[0m][\u001b[38;5;34m0\u001b[0m]    │\n",
       "└─────────────────────┴───────────────────┴────────────┴───────────────────┘\n"
      ]
     },
     "metadata": {},
     "output_type": "display_data"
    },
    {
     "data": {
      "text/html": [
       "<pre style=\"white-space:pre;overflow-x:auto;line-height:normal;font-family:Menlo,'DejaVu Sans Mono',consolas,'Courier New',monospace\"><span style=\"font-weight: bold\"> Total params: </span><span style=\"color: #00af00; text-decoration-color: #00af00\">704,770</span> (2.69 MB)\n",
       "</pre>\n"
      ],
      "text/plain": [
       "\u001b[1m Total params: \u001b[0m\u001b[38;5;34m704,770\u001b[0m (2.69 MB)\n"
      ]
     },
     "metadata": {},
     "output_type": "display_data"
    },
    {
     "data": {
      "text/html": [
       "<pre style=\"white-space:pre;overflow-x:auto;line-height:normal;font-family:Menlo,'DejaVu Sans Mono',consolas,'Courier New',monospace\"><span style=\"font-weight: bold\"> Trainable params: </span><span style=\"color: #00af00; text-decoration-color: #00af00\">704,770</span> (2.69 MB)\n",
       "</pre>\n"
      ],
      "text/plain": [
       "\u001b[1m Trainable params: \u001b[0m\u001b[38;5;34m704,770\u001b[0m (2.69 MB)\n"
      ]
     },
     "metadata": {},
     "output_type": "display_data"
    },
    {
     "data": {
      "text/html": [
       "<pre style=\"white-space:pre;overflow-x:auto;line-height:normal;font-family:Menlo,'DejaVu Sans Mono',consolas,'Courier New',monospace\"><span style=\"font-weight: bold\"> Non-trainable params: </span><span style=\"color: #00af00; text-decoration-color: #00af00\">0</span> (0.00 B)\n",
       "</pre>\n"
      ],
      "text/plain": [
       "\u001b[1m Non-trainable params: \u001b[0m\u001b[38;5;34m0\u001b[0m (0.00 B)\n"
      ]
     },
     "metadata": {},
     "output_type": "display_data"
    }
   ],
   "source": [
    "# Definindo o modelo multi-target para quantificar SOC e exCa com a API funcional\n",
    "from tensorflow.keras.models import Model\n",
    "from tensorflow.keras.layers import Input, Dense, Dropout\n",
    "\n",
    "Input_size = XRFcal_prep.shape[1] # extraindo dimensão dos dados de entrada (número de variáveis espectrais)\n",
    "\n",
    "Camada_input = Input(shape=(Input_size,))\n",
    "Camada_comum1 = Dense(units=512, activation='relu')(Camada_input)\n",
    "Camada_comum2 = Dropout(0.3)(Camada_comum1)  # Dropout layer para prevenir overfitting\n",
    "Camada_comum3 = Dense(units=256, activation='relu')(Camada_comum2)\n",
    "Camada_comum4 = Dropout(0.2)(Camada_comum3)  # Dropout layer para prevenir overfitting\n",
    "\n",
    "# Camada SOC\n",
    "Camada_SOC1 = Dense(units=256, activation='relu', name='Dense_SOC1')(Camada_comum4)\n",
    "Camada_SOC2 = Dropout(0.2)(Camada_SOC1)  # Dropout Camada para prevenir overfitting\n",
    "Camada_SOC3 = Dense(units=128, activation='relu')(Camada_SOC2)\n",
    "Camada_SOC4 = Dropout(0.1)(Camada_SOC3)  # Dropout Camada para prevenir overfitting\n",
    "Camada_SOC5 = Dense(units=64, activation='relu')(Camada_SOC4)\n",
    "Output_SOC = Dense(units=1, activation='linear', name='SOC_output')(Camada_SOC5)  # a última camada deve conter o número de variáveis de resposta\n",
    "\n",
    "# Camada exCa\n",
    "Camada_exCa1 = Dense(units=256, activation='relu')(Camada_comum4)\n",
    "Camada_exCa2 = Dropout(0.3)(Camada_exCa1)  # Dropout layer para prevenir overfitting\n",
    "Camada_exCa3 = Dense(units=128, activation='relu')(Camada_exCa2)\n",
    "Camada_exCa4 = Dropout(0.2)(Camada_exCa3)  # Dropout layer para prevenir overfitting\n",
    "Camada_exCa5 = Dense(units=64, activation='relu')(Camada_exCa4)\n",
    "Output_exCa = Dense(units=1, activation='linear', name='exCa_output')(Camada_exCa5)  # a última camada deve conter o número de variáveis de resposta\n",
    "\n",
    "mlp_mt = Model(inputs=Camada_input, outputs=[Output_SOC, Output_exCa])\n",
    "mlp_mt.summary()"
   ]
  },
  {
   "cell_type": "code",
   "execution_count": 17,
   "id": "55c6db8b",
   "metadata": {},
   "outputs": [
    {
     "data": {
      "image/png": "[encoded data removed]",
      "text/plain": [
       "<IPython.core.display.Image object>"
      ]
     },
     "execution_count": 17,
     "metadata": {},
     "output_type": "execute_result"
    }
   ],
   "source": [
    "import keras\n",
    "keras.utils.plot_model(mlp_mt, \"mlp_mt.png\", show_shapes=True, show_layer_names=True, dpi=100, rankdir=\"TB\")  #ou rankidir=\"LR\"     \n"
   ]
  },
  {
   "cell_type": "code",
   "execution_count": 18,
   "id": "9f9bf9ce",
   "metadata": {},
   "outputs": [],
   "source": [
    "# preparando os dados de calibração e validação atraves de dicionários\n",
    "Ycal_dict = {\n",
    "      'SOC_output': Ycal['SOC'],\n",
    "      'exCa_output': Ycal['exCa']\n",
    "}\n",
    "\n",
    "Yval_dict = {\n",
    "      'SOC_output': Yval['SOC'],\n",
    "      'exCa_output': Yval['exCa']\n",
    "}"
   ]
  },
  {
   "cell_type": "code",
   "execution_count": 19,
   "id": "22f1f354",
   "metadata": {},
   "outputs": [
    {
     "name": "stdout",
     "output_type": "stream",
     "text": [
      "Epoch 1/40\n",
      "\u001b[1m31/31\u001b[0m \u001b[32m━━━━━━━━━━━━━━━━━━━━\u001b[0m\u001b[37m\u001b[0m \u001b[1m4s\u001b[0m 34ms/step - SOC_output_loss: 15.6716 - SOC_output_r2_score: -7.8179 - exCa_output_loss: 3.9778 - exCa_output_r2_score: -4.0537 - loss: 19.6580 - val_SOC_output_loss: 5.3521 - val_SOC_output_r2_score: -0.2443 - val_exCa_output_loss: 1.7105 - val_exCa_output_r2_score: 0.2595 - val_loss: 6.3940\n",
      "Epoch 2/40\n",
      "\u001b[1m31/31\u001b[0m \u001b[32m━━━━━━━━━━━━━━━━━━━━\u001b[0m\u001b[37m\u001b[0m \u001b[1m1s\u001b[0m 15ms/step - SOC_output_loss: 7.1035 - SOC_output_r2_score: -0.7047 - exCa_output_loss: 2.0458 - exCa_output_r2_score: -0.2130 - loss: 9.1532 - val_SOC_output_loss: 4.6177 - val_SOC_output_r2_score: 0.0115 - val_exCa_output_loss: 1.3168 - val_exCa_output_r2_score: 0.5445 - val_loss: 5.5659\n",
      "Epoch 3/40\n",
      "\u001b[1m31/31\u001b[0m \u001b[32m━━━━━━━━━━━━━━━━━━━━\u001b[0m\u001b[37m\u001b[0m \u001b[1m0s\u001b[0m 13ms/step - SOC_output_loss: 6.4164 - SOC_output_r2_score: -0.3813 - exCa_output_loss: 1.8000 - exCa_output_r2_score: 0.0564 - loss: 8.2203 - val_SOC_output_loss: 4.3992 - val_SOC_output_r2_score: 0.1340 - val_exCa_output_loss: 1.1804 - val_exCa_output_r2_score: 0.6558 - val_loss: 5.1144\n",
      "Epoch 4/40\n",
      "\u001b[1m31/31\u001b[0m \u001b[32m━━━━━━━━━━━━━━━━━━━━\u001b[0m\u001b[37m\u001b[0m \u001b[1m0s\u001b[0m 13ms/step - SOC_output_loss: 5.6198 - SOC_output_r2_score: -0.0636 - exCa_output_loss: 1.6873 - exCa_output_r2_score: 0.1825 - loss: 7.3091 - val_SOC_output_loss: 4.1828 - val_SOC_output_r2_score: 0.1373 - val_exCa_output_loss: 1.0077 - val_exCa_output_r2_score: 0.7195 - val_loss: 5.0034\n",
      "Epoch 5/40\n",
      "\u001b[1m31/31\u001b[0m \u001b[32m━━━━━━━━━━━━━━━━━━━━\u001b[0m\u001b[37m\u001b[0m \u001b[1m0s\u001b[0m 13ms/step - SOC_output_loss: 4.8537 - SOC_output_r2_score: 0.2057 - exCa_output_loss: 1.4389 - exCa_output_r2_score: 0.4008 - loss: 6.2931 - val_SOC_output_loss: 4.1278 - val_SOC_output_r2_score: 0.1648 - val_exCa_output_loss: 1.0585 - val_exCa_output_r2_score: 0.7155 - val_loss: 4.9319\n",
      "Epoch 6/40\n",
      "\u001b[1m31/31\u001b[0m \u001b[32m━━━━━━━━━━━━━━━━━━━━\u001b[0m\u001b[37m\u001b[0m \u001b[1m0s\u001b[0m 14ms/step - SOC_output_loss: 4.4343 - SOC_output_r2_score: 0.3327 - exCa_output_loss: 1.4460 - exCa_output_r2_score: 0.3958 - loss: 5.8840 - val_SOC_output_loss: 4.3758 - val_SOC_output_r2_score: 0.0776 - val_exCa_output_loss: 1.1350 - val_exCa_output_r2_score: 0.6393 - val_loss: 5.2740\n",
      "Epoch 7/40\n",
      "\u001b[1m31/31\u001b[0m \u001b[32m━━━━━━━━━━━━━━━━━━━━\u001b[0m\u001b[37m\u001b[0m \u001b[1m0s\u001b[0m 15ms/step - SOC_output_loss: 4.5613 - SOC_output_r2_score: 0.3029 - exCa_output_loss: 1.4629 - exCa_output_r2_score: 0.3892 - loss: 6.0257 - val_SOC_output_loss: 4.1079 - val_SOC_output_r2_score: 0.1744 - val_exCa_output_loss: 1.0527 - val_exCa_output_r2_score: 0.7094 - val_loss: 4.9361\n",
      "Epoch 8/40\n",
      "\u001b[1m31/31\u001b[0m \u001b[32m━━━━━━━━━━━━━━━━━━━━\u001b[0m\u001b[37m\u001b[0m \u001b[1m0s\u001b[0m 15ms/step - SOC_output_loss: 4.2202 - SOC_output_r2_score: 0.4040 - exCa_output_loss: 1.3658 - exCa_output_r2_score: 0.4667 - loss: 5.5876 - val_SOC_output_loss: 3.8699 - val_SOC_output_r2_score: 0.2234 - val_exCa_output_loss: 0.9159 - val_exCa_output_r2_score: 0.7573 - val_loss: 4.7091\n",
      "Epoch 9/40\n",
      "\u001b[1m31/31\u001b[0m \u001b[32m━━━━━━━━━━━━━━━━━━━━\u001b[0m\u001b[37m\u001b[0m \u001b[1m1s\u001b[0m 16ms/step - SOC_output_loss: 4.3467 - SOC_output_r2_score: 0.3715 - exCa_output_loss: 1.3064 - exCa_output_r2_score: 0.5018 - loss: 5.6540 - val_SOC_output_loss: 3.7621 - val_SOC_output_r2_score: 0.2872 - val_exCa_output_loss: 0.8630 - val_exCa_output_r2_score: 0.8180 - val_loss: 4.3827\n",
      "Epoch 10/40\n",
      "\u001b[1m31/31\u001b[0m \u001b[32m━━━━━━━━━━━━━━━━━━━━\u001b[0m\u001b[37m\u001b[0m \u001b[1m0s\u001b[0m 14ms/step - SOC_output_loss: 3.5960 - SOC_output_r2_score: 0.5701 - exCa_output_loss: 1.2075 - exCa_output_r2_score: 0.5867 - loss: 4.8058 - val_SOC_output_loss: 3.5181 - val_SOC_output_r2_score: 0.3767 - val_exCa_output_loss: 0.8715 - val_exCa_output_r2_score: 0.8009 - val_loss: 4.2044\n",
      "Epoch 11/40\n",
      "\u001b[1m31/31\u001b[0m \u001b[32m━━━━━━━━━━━━━━━━━━━━\u001b[0m\u001b[37m\u001b[0m \u001b[1m1s\u001b[0m 16ms/step - SOC_output_loss: 4.1308 - SOC_output_r2_score: 0.4349 - exCa_output_loss: 1.1958 - exCa_output_r2_score: 0.5903 - loss: 5.3289 - val_SOC_output_loss: 3.3294 - val_SOC_output_r2_score: 0.4519 - val_exCa_output_loss: 0.8181 - val_exCa_output_r2_score: 0.7945 - val_loss: 4.0670\n",
      "Epoch 12/40\n",
      "\u001b[1m31/31\u001b[0m \u001b[32m━━━━━━━━━━━━━━━━━━━━\u001b[0m\u001b[37m\u001b[0m \u001b[1m0s\u001b[0m 14ms/step - SOC_output_loss: 3.7310 - SOC_output_r2_score: 0.5464 - exCa_output_loss: 1.2367 - exCa_output_r2_score: 0.5487 - loss: 4.9693 - val_SOC_output_loss: 3.2302 - val_SOC_output_r2_score: 0.5096 - val_exCa_output_loss: 0.9507 - val_exCa_output_r2_score: 0.7720 - val_loss: 3.9322\n",
      "Epoch 13/40\n",
      "\u001b[1m31/31\u001b[0m \u001b[32m━━━━━━━━━━━━━━━━━━━━\u001b[0m\u001b[37m\u001b[0m \u001b[1m0s\u001b[0m 12ms/step - SOC_output_loss: 3.5147 - SOC_output_r2_score: 0.5879 - exCa_output_loss: 1.2464 - exCa_output_r2_score: 0.5370 - loss: 4.7634 - val_SOC_output_loss: 3.3044 - val_SOC_output_r2_score: 0.5199 - val_exCa_output_loss: 1.0720 - val_exCa_output_r2_score: 0.7085 - val_loss: 4.0053\n",
      "Epoch 14/40\n",
      "\u001b[1m31/31\u001b[0m \u001b[32m━━━━━━━━━━━━━━━━━━━━\u001b[0m\u001b[37m\u001b[0m \u001b[1m0s\u001b[0m 12ms/step - SOC_output_loss: 3.4355 - SOC_output_r2_score: 0.6033 - exCa_output_loss: 1.2770 - exCa_output_r2_score: 0.5206 - loss: 4.7145 - val_SOC_output_loss: 3.8113 - val_SOC_output_r2_score: 0.3573 - val_exCa_output_loss: 1.1398 - val_exCa_output_r2_score: 0.6713 - val_loss: 4.5422\n",
      "Epoch 15/40\n",
      "\u001b[1m31/31\u001b[0m \u001b[32m━━━━━━━━━━━━━━━━━━━━\u001b[0m\u001b[37m\u001b[0m \u001b[1m0s\u001b[0m 12ms/step - SOC_output_loss: 3.3899 - SOC_output_r2_score: 0.6157 - exCa_output_loss: 1.1517 - exCa_output_r2_score: 0.6188 - loss: 4.5442 - val_SOC_output_loss: 4.8468 - val_SOC_output_r2_score: -0.1061 - val_exCa_output_loss: 1.0149 - val_exCa_output_r2_score: 0.7243 - val_loss: 5.5338\n",
      "Epoch 16/40\n",
      "\u001b[1m31/31\u001b[0m \u001b[32m━━━━━━━━━━━━━━━━━━━━\u001b[0m\u001b[37m\u001b[0m \u001b[1m0s\u001b[0m 13ms/step - SOC_output_loss: 3.8591 - SOC_output_r2_score: 0.4906 - exCa_output_loss: 1.1809 - exCa_output_r2_score: 0.5889 - loss: 5.0418 - val_SOC_output_loss: 3.9516 - val_SOC_output_r2_score: 0.2805 - val_exCa_output_loss: 0.8875 - val_exCa_output_r2_score: 0.8094 - val_loss: 4.4714\n",
      "Epoch 17/40\n",
      "\u001b[1m31/31\u001b[0m \u001b[32m━━━━━━━━━━━━━━━━━━━━\u001b[0m\u001b[37m\u001b[0m \u001b[1m0s\u001b[0m 14ms/step - SOC_output_loss: 3.4121 - SOC_output_r2_score: 0.6165 - exCa_output_loss: 1.0765 - exCa_output_r2_score: 0.6523 - loss: 4.4889 - val_SOC_output_loss: 3.6971 - val_SOC_output_r2_score: 0.3828 - val_exCa_output_loss: 1.2892 - val_exCa_output_r2_score: 0.5840 - val_loss: 4.5900\n",
      "Epoch 18/40\n",
      "\u001b[1m31/31\u001b[0m \u001b[32m━━━━━━━━━━━━━━━━━━━━\u001b[0m\u001b[37m\u001b[0m \u001b[1m0s\u001b[0m 13ms/step - SOC_output_loss: 3.6071 - SOC_output_r2_score: 0.5697 - exCa_output_loss: 1.0829 - exCa_output_r2_score: 0.6614 - loss: 4.6907 - val_SOC_output_loss: 3.2601 - val_SOC_output_r2_score: 0.5141 - val_exCa_output_loss: 0.7927 - val_exCa_output_r2_score: 0.8492 - val_loss: 3.7158\n",
      "Epoch 19/40\n",
      "\u001b[1m31/31\u001b[0m \u001b[32m━━━━━━━━━━━━━━━━━━━━\u001b[0m\u001b[37m\u001b[0m \u001b[1m0s\u001b[0m 13ms/step - SOC_output_loss: 3.5812 - SOC_output_r2_score: 0.5691 - exCa_output_loss: 1.1389 - exCa_output_r2_score: 0.6259 - loss: 4.7206 - val_SOC_output_loss: 3.4498 - val_SOC_output_r2_score: 0.4666 - val_exCa_output_loss: 0.8649 - val_exCa_output_r2_score: 0.8029 - val_loss: 3.9834\n",
      "Epoch 20/40\n",
      "\u001b[1m31/31\u001b[0m \u001b[32m━━━━━━━━━━━━━━━━━━━━\u001b[0m\u001b[37m\u001b[0m \u001b[1m0s\u001b[0m 12ms/step - SOC_output_loss: 3.5469 - SOC_output_r2_score: 0.5849 - exCa_output_loss: 1.1141 - exCa_output_r2_score: 0.6366 - loss: 4.6620 - val_SOC_output_loss: 3.5702 - val_SOC_output_r2_score: 0.4035 - val_exCa_output_loss: 0.8229 - val_exCa_output_r2_score: 0.8417 - val_loss: 4.0646\n",
      "Epoch 21/40\n",
      "\u001b[1m31/31\u001b[0m \u001b[32m━━━━━━━━━━━━━━━━━━━━\u001b[0m\u001b[37m\u001b[0m \u001b[1m0s\u001b[0m 11ms/step - SOC_output_loss: 3.0956 - SOC_output_r2_score: 0.6854 - exCa_output_loss: 1.0780 - exCa_output_r2_score: 0.6581 - loss: 4.1744 - val_SOC_output_loss: 3.4025 - val_SOC_output_r2_score: 0.4714 - val_exCa_output_loss: 0.7489 - val_exCa_output_r2_score: 0.8641 - val_loss: 3.8277\n",
      "Epoch 22/40\n",
      "\u001b[1m31/31\u001b[0m \u001b[32m━━━━━━━━━━━━━━━━━━━━\u001b[0m\u001b[37m\u001b[0m \u001b[1m0s\u001b[0m 12ms/step - SOC_output_loss: 2.9504 - SOC_output_r2_score: 0.7149 - exCa_output_loss: 0.9547 - exCa_output_r2_score: 0.7298 - loss: 3.9052 - val_SOC_output_loss: 3.4584 - val_SOC_output_r2_score: 0.4495 - val_exCa_output_loss: 0.8416 - val_exCa_output_r2_score: 0.7956 - val_loss: 4.0237\n",
      "Epoch 23/40\n",
      "\u001b[1m31/31\u001b[0m \u001b[32m━━━━━━━━━━━━━━━━━━━━\u001b[0m\u001b[37m\u001b[0m \u001b[1m0s\u001b[0m 12ms/step - SOC_output_loss: 3.0920 - SOC_output_r2_score: 0.6702 - exCa_output_loss: 1.0505 - exCa_output_r2_score: 0.6701 - loss: 4.1439 - val_SOC_output_loss: 3.4509 - val_SOC_output_r2_score: 0.4174 - val_exCa_output_loss: 0.7919 - val_exCa_output_r2_score: 0.8401 - val_loss: 4.0179\n",
      "Epoch 24/40\n",
      "\u001b[1m31/31\u001b[0m \u001b[32m━━━━━━━━━━━━━━━━━━━━\u001b[0m\u001b[37m\u001b[0m \u001b[1m0s\u001b[0m 12ms/step - SOC_output_loss: 3.7069 - SOC_output_r2_score: 0.5474 - exCa_output_loss: 1.1655 - exCa_output_r2_score: 0.5946 - loss: 4.8742 - val_SOC_output_loss: 4.7877 - val_SOC_output_r2_score: -0.1369 - val_exCa_output_loss: 1.2821 - val_exCa_output_r2_score: 0.5571 - val_loss: 5.8632\n",
      "Epoch 25/40\n",
      "\u001b[1m31/31\u001b[0m \u001b[32m━━━━━━━━━━━━━━━━━━━━\u001b[0m\u001b[37m\u001b[0m \u001b[1m0s\u001b[0m 12ms/step - SOC_output_loss: 3.3373 - SOC_output_r2_score: 0.6320 - exCa_output_loss: 1.0201 - exCa_output_r2_score: 0.6956 - loss: 4.3596 - val_SOC_output_loss: 4.4894 - val_SOC_output_r2_score: 0.0698 - val_exCa_output_loss: 1.0498 - val_exCa_output_r2_score: 0.7095 - val_loss: 5.1720\n",
      "Epoch 26/40\n",
      "\u001b[1m31/31\u001b[0m \u001b[32m━━━━━━━━━━━━━━━━━━━━\u001b[0m\u001b[37m\u001b[0m \u001b[1m0s\u001b[0m 13ms/step - SOC_output_loss: 3.2999 - SOC_output_r2_score: 0.6368 - exCa_output_loss: 0.9811 - exCa_output_r2_score: 0.7212 - loss: 4.2830 - val_SOC_output_loss: 3.8702 - val_SOC_output_r2_score: 0.2516 - val_exCa_output_loss: 0.7342 - val_exCa_output_r2_score: 0.8559 - val_loss: 4.4416\n",
      "Epoch 27/40\n",
      "\u001b[1m31/31\u001b[0m \u001b[32m━━━━━━━━━━━━━━━━━━━━\u001b[0m\u001b[37m\u001b[0m \u001b[1m0s\u001b[0m 12ms/step - SOC_output_loss: 2.9591 - SOC_output_r2_score: 0.7063 - exCa_output_loss: 0.9688 - exCa_output_r2_score: 0.7260 - loss: 3.9291 - val_SOC_output_loss: 3.7950 - val_SOC_output_r2_score: 0.3003 - val_exCa_output_loss: 0.7755 - val_exCa_output_r2_score: 0.8433 - val_loss: 4.3532\n",
      "Epoch 28/40\n",
      "\u001b[1m31/31\u001b[0m \u001b[32m━━━━━━━━━━━━━━━━━━━━\u001b[0m\u001b[37m\u001b[0m \u001b[1m0s\u001b[0m 12ms/step - SOC_output_loss: 3.0840 - SOC_output_r2_score: 0.6892 - exCa_output_loss: 0.9662 - exCa_output_r2_score: 0.7290 - loss: 4.0503 - val_SOC_output_loss: 3.9385 - val_SOC_output_r2_score: 0.2366 - val_exCa_output_loss: 0.8083 - val_exCa_output_r2_score: 0.8321 - val_loss: 4.5388\n",
      "Epoch 29/40\n",
      "\u001b[1m31/31\u001b[0m \u001b[32m━━━━━━━━━━━━━━━━━━━━\u001b[0m\u001b[37m\u001b[0m \u001b[1m0s\u001b[0m 12ms/step - SOC_output_loss: 3.1353 - SOC_output_r2_score: 0.6764 - exCa_output_loss: 0.9384 - exCa_output_r2_score: 0.7495 - loss: 4.0751 - val_SOC_output_loss: 4.0206 - val_SOC_output_r2_score: 0.2338 - val_exCa_output_loss: 0.6951 - val_exCa_output_r2_score: 0.8644 - val_loss: 4.4786\n",
      "Epoch 30/40\n",
      "\u001b[1m31/31\u001b[0m \u001b[32m━━━━━━━━━━━━━━━━━━━━\u001b[0m\u001b[37m\u001b[0m \u001b[1m0s\u001b[0m 12ms/step - SOC_output_loss: 3.2190 - SOC_output_r2_score: 0.6520 - exCa_output_loss: 1.0100 - exCa_output_r2_score: 0.6986 - loss: 4.2296 - val_SOC_output_loss: 3.8076 - val_SOC_output_r2_score: 0.3105 - val_exCa_output_loss: 1.1579 - val_exCa_output_r2_score: 0.6495 - val_loss: 4.6942\n",
      "Epoch 31/40\n",
      "\u001b[1m31/31\u001b[0m \u001b[32m━━━━━━━━━━━━━━━━━━━━\u001b[0m\u001b[37m\u001b[0m \u001b[1m0s\u001b[0m 13ms/step - SOC_output_loss: 3.0842 - SOC_output_r2_score: 0.6791 - exCa_output_loss: 0.9040 - exCa_output_r2_score: 0.7638 - loss: 3.9898 - val_SOC_output_loss: 3.6952 - val_SOC_output_r2_score: 0.3532 - val_exCa_output_loss: 1.1113 - val_exCa_output_r2_score: 0.6813 - val_loss: 4.5193\n",
      "Epoch 32/40\n",
      "\u001b[1m31/31\u001b[0m \u001b[32m━━━━━━━━━━━━━━━━━━━━\u001b[0m\u001b[37m\u001b[0m \u001b[1m0s\u001b[0m 13ms/step - SOC_output_loss: 2.7617 - SOC_output_r2_score: 0.7412 - exCa_output_loss: 0.9198 - exCa_output_r2_score: 0.7508 - loss: 3.6825 - val_SOC_output_loss: 3.4694 - val_SOC_output_r2_score: 0.4441 - val_exCa_output_loss: 0.9396 - val_exCa_output_r2_score: 0.7688 - val_loss: 4.1277\n",
      "Epoch 33/40\n",
      "\u001b[1m31/31\u001b[0m \u001b[32m━━━━━━━━━━━━━━━━━━━━\u001b[0m\u001b[37m\u001b[0m \u001b[1m0s\u001b[0m 13ms/step - SOC_output_loss: 2.6799 - SOC_output_r2_score: 0.7570 - exCa_output_loss: 0.8661 - exCa_output_r2_score: 0.7849 - loss: 3.5472 - val_SOC_output_loss: 4.9243 - val_SOC_output_r2_score: -0.1262 - val_exCa_output_loss: 0.9012 - val_exCa_output_r2_score: 0.7958 - val_loss: 5.4296\n",
      "Epoch 34/40\n",
      "\u001b[1m31/31\u001b[0m \u001b[32m━━━━━━━━━━━━━━━━━━━━\u001b[0m\u001b[37m\u001b[0m \u001b[1m0s\u001b[0m 13ms/step - SOC_output_loss: 3.6436 - SOC_output_r2_score: 0.5583 - exCa_output_loss: 0.9492 - exCa_output_r2_score: 0.7387 - loss: 4.5945 - val_SOC_output_loss: 3.9741 - val_SOC_output_r2_score: 0.2825 - val_exCa_output_loss: 0.7880 - val_exCa_output_r2_score: 0.8404 - val_loss: 4.3982\n",
      "Epoch 35/40\n",
      "\u001b[1m31/31\u001b[0m \u001b[32m━━━━━━━━━━━━━━━━━━━━\u001b[0m\u001b[37m\u001b[0m \u001b[1m1s\u001b[0m 16ms/step - SOC_output_loss: 2.9516 - SOC_output_r2_score: 0.7097 - exCa_output_loss: 0.9528 - exCa_output_r2_score: 0.7286 - loss: 3.9055 - val_SOC_output_loss: 4.1971 - val_SOC_output_r2_score: 0.1791 - val_exCa_output_loss: 1.1294 - val_exCa_output_r2_score: 0.6705 - val_loss: 4.9877\n",
      "Epoch 36/40\n",
      "\u001b[1m31/31\u001b[0m \u001b[32m━━━━━━━━━━━━━━━━━━━━\u001b[0m\u001b[37m\u001b[0m \u001b[1m0s\u001b[0m 15ms/step - SOC_output_loss: 3.0782 - SOC_output_r2_score: 0.6849 - exCa_output_loss: 0.9348 - exCa_output_r2_score: 0.7488 - loss: 4.0143 - val_SOC_output_loss: 4.3583 - val_SOC_output_r2_score: 0.1421 - val_exCa_output_loss: 1.1465 - val_exCa_output_r2_score: 0.6675 - val_loss: 5.0857\n",
      "Epoch 37/40\n",
      "\u001b[1m31/31\u001b[0m \u001b[32m━━━━━━━━━━━━━━━━━━━━\u001b[0m\u001b[37m\u001b[0m \u001b[1m0s\u001b[0m 12ms/step - SOC_output_loss: 3.0902 - SOC_output_r2_score: 0.6818 - exCa_output_loss: 0.9804 - exCa_output_r2_score: 0.7171 - loss: 4.0720 - val_SOC_output_loss: 3.4253 - val_SOC_output_r2_score: 0.4783 - val_exCa_output_loss: 0.9186 - val_exCa_output_r2_score: 0.7715 - val_loss: 4.0013\n",
      "Epoch 38/40\n",
      "\u001b[1m31/31\u001b[0m \u001b[32m━━━━━━━━━━━━━━━━━━━━\u001b[0m\u001b[37m\u001b[0m \u001b[1m0s\u001b[0m 14ms/step - SOC_output_loss: 2.9649 - SOC_output_r2_score: 0.7104 - exCa_output_loss: 0.8995 - exCa_output_r2_score: 0.7578 - loss: 3.8653 - val_SOC_output_loss: 3.4218 - val_SOC_output_r2_score: 0.4770 - val_exCa_output_loss: 0.8567 - val_exCa_output_r2_score: 0.8212 - val_loss: 3.9046\n",
      "Epoch 38: early stopping\n",
      "Restoring model weights from the end of the best epoch: 18.\n"
     ]
    }
   ],
   "source": [
    "mlp_mt.compile(optimizer='Adam', \n",
    "               loss={'SOC_output': rmse,\n",
    "                     'exCa_output': rmse},\n",
    "             metrics={\n",
    "                 'SOC_output': ['r2_score'],\n",
    "                 'exCa_output': ['r2_score']})\n",
    "\n",
    "\n",
    "early_stopping = EarlyStopping(\n",
    "    monitor='val_loss',    # prefixo \"val_\" para validação, caso contrario ele atua no treino (val_r2_score para o r2_score da validação por exemplo)\n",
    "    mode='min',                # queremos minimizar o erro de validação\n",
    "    patience=20,             # número de épocas sem melhoria antes de parar o treinamento\n",
    "    restore_best_weights=True,\n",
    "    verbose=1)                  # para ver quando o callback aciona\n",
    "\n",
    "mlp_mt_historico = mlp_mt.fit(XRFcal_prep, \n",
    "                    Ycal_dict, \n",
    "                    epochs=40, \n",
    "                    batch_size=20, # o batch_size é o numero de amostras que serão incorporadas no erro medio para atualizar os pesos do modelo. se = 10, a cada 10 amostras o modelo atualiza os pesos\n",
    "                    callbacks=[early_stopping], # aplica o early stopping\n",
    "                    validation_data=(XRFval_prep, Yval_dict),\n",
    "                    verbose=1)  \n"
   ]
  },
  {
   "cell_type": "code",
   "execution_count": 20,
   "id": "0097f735",
   "metadata": {},
   "outputs": [],
   "source": [
    "# função para calcular as métricas de desempenho dos modelos multi-target\n",
    "\n",
    "def resumo_multitarget(df: pd.DataFrame):\n",
    "    import numpy as np\n",
    "    import pandas as pd\n",
    "    from scipy.stats import iqr\n",
    "    from sklearn.metrics import mean_squared_error, r2_score\n",
    "    \"\"\"\n",
    "    Calcula métricas de desempenho para pares de colunas de um DataFrame.\n",
    "    \n",
    "    - Suporta qualquer DataFrame cujas colunas estejam organizadas em pares:\n",
    "      [ref1, pred1, ref2, pred2, ..., refN, predN].\n",
    "    - Retorna um dict com as chaves: 'R2', 'r2', 'RMSE', 'RPIQ', 'Bias', 't_bias'.\n",
    "      Cada uma delas mapeia o nome da coluna de predição ao valor da métrica.\n",
    "    \"\"\"\n",
    "    cols = df.columns.tolist()\n",
    "    n_cols = len(cols)\n",
    "    if n_cols % 2 != 0:\n",
    "        raise ValueError(\"DataFrame deve ter número par de colunas (ref × pred).\")\n",
    "    \n",
    "    metrics = {\n",
    "        'R2':   {},\n",
    "        'r2':   {},\n",
    "        'RMSE': {},\n",
    "        'RPIQ': {},\n",
    "        'Bias': {},\n",
    "        't_bias': {}\n",
    "    }\n",
    "    \n",
    "    n = df.shape[0]\n",
    "    for i in range(0, n_cols, 2):\n",
    "        ref = cols[i]\n",
    "        pred = cols[i+1]\n",
    "        y_ref = df[ref].values\n",
    "        y_pred = df[pred].values\n",
    "        \n",
    "        # 1) Coeficiente de determinação (sklearn)\n",
    "        metrics['R2'][pred] = r2_score(y_ref, y_pred)\n",
    "        # 2) r² via correlação de Pearson\n",
    "        corr = np.corrcoef(y_ref, y_pred)[0,1]\n",
    "        metrics['r2'][pred] = corr**2\n",
    "        # 3) RMSE\n",
    "        rmse = np.sqrt(mean_squared_error(y_ref, y_pred))\n",
    "        metrics['RMSE'][pred] = rmse\n",
    "        # 4) RPIQ = IQR(y_ref) / RMSE\n",
    "        iqr_val = iqr(y_ref, rng=(25,75))\n",
    "        metrics['RPIQ'][pred] = iqr_val / rmse if rmse != 0 else np.nan\n",
    "        # 5) Bias\n",
    "        bias = np.mean(y_ref - y_pred)\n",
    "        metrics['Bias'][pred] = bias\n",
    "        # 6) t-bias: |bias| * sqrt(n) / SDV, SDV = std dos erros (ddof=1)\n",
    "        errors = y_ref - y_pred\n",
    "        sdv = np.std(errors - bias, ddof=1)\n",
    "        metrics['t_bias'][pred] = (abs(bias) * np.sqrt(n) / sdv) if sdv != 0 else np.nan\n",
    "    \n",
    "    return metrics"
   ]
  },
  {
   "cell_type": "code",
   "execution_count": 21,
   "id": "5d0b276b",
   "metadata": {},
   "outputs": [
    {
     "name": "stdout",
     "output_type": "stream",
     "text": [
      "\u001b[1m19/19\u001b[0m \u001b[32m━━━━━━━━━━━━━━━━━━━━\u001b[0m\u001b[37m\u001b[0m \u001b[1m0s\u001b[0m 10ms/step\n",
      "\u001b[1m19/19\u001b[0m \u001b[32m━━━━━━━━━━━━━━━━━━━━\u001b[0m\u001b[37m\u001b[0m \u001b[1m0s\u001b[0m 4ms/step \n",
      "\u001b[1m9/9\u001b[0m \u001b[32m━━━━━━━━━━━━━━━━━━━━\u001b[0m\u001b[37m\u001b[0m \u001b[1m0s\u001b[0m 6ms/step \n",
      "\u001b[1m9/9\u001b[0m \u001b[32m━━━━━━━━━━━━━━━━━━━━\u001b[0m\u001b[37m\u001b[0m \u001b[1m0s\u001b[0m 5ms/step \n"
     ]
    }
   ],
   "source": [
    "# transformando os resultados em dataframes\n",
    "calres_mlp_mt = pd.DataFrame({\n",
    "\t'SOC': mlp_mt.predict(XRFcal_prep)[0].flatten(), # predição dos dados de calibração,\n",
    "\t'exCa': mlp_mt.predict(XRFcal_prep)[1].flatten() # predição dos dados de calibração\n",
    "})\n",
    "predres_mlp_mt = pd.DataFrame({\n",
    "\t'SOC': mlp_mt.predict(XRFval_prep)[0].flatten(), # predição dos dados de validação\n",
    "\t'exCa': mlp_mt.predict(XRFval_prep)[1].flatten() # predição dos dados de validação\n",
    "})\n",
    "\n",
    "# inserindo os dados de referência nos dataframes\n",
    "# A função enumerate() em Python é usada para percorrer uma sequência (como uma lista, tupla, string, etc.) e, ao mesmo tempo, obter tanto o índice como o valor de cada elemento.\n",
    "# Nesse caso ela extrai o índice e o nome da coluna do dataframe Ycal e Yval simultaneamente\n",
    "\n",
    "for i, col in enumerate(Ycal.columns):\n",
    "    calres_mlp_mt.insert(i * 2, f\"Ref_{col}\", Ycal[col])\n",
    "    \n",
    "for i, col in enumerate(Yval.columns):\n",
    "    predres_mlp_mt.insert(i * 2, f\"Ref_{col}\", Yval[col])\t"
   ]
  },
  {
   "cell_type": "code",
   "execution_count": 22,
   "id": "5f4b089b",
   "metadata": {},
   "outputs": [],
   "source": [
    "# extraindo as métricas de desempenho do modelo multi-target\n",
    "resumo_mlp_mt = {'Cal': pd.DataFrame(resumo_multitarget(calres_mlp_mt)),\n",
    "                 'Pred': pd.DataFrame(resumo_multitarget(predres_mlp_mt))}"
   ]
  },
  {
   "cell_type": "code",
   "execution_count": 23,
   "id": "50b0cfe3",
   "metadata": {},
   "outputs": [
    {
     "name": "stdout",
     "output_type": "stream",
     "text": [
      "R2 Calibração:\n",
      "SOC: 0.8024736062324056\n",
      "exCa: 0.8104783428701099\n",
      "\n",
      "R2 Predição:\n",
      "SOC: 0.5140703607721178\n",
      "exCa: 0.8492472663290808\n",
      "\n",
      "RMSEC:\n",
      "SOC: 2.4250848693587193\n",
      "exCa: 0.8321130360034934\n",
      "\n",
      "RMSEP:\n",
      "SOC: 3.036774029183854\n",
      "exCa: 0.7350124598723431\n",
      "\n",
      "RPIQ:\n",
      "SOC: 2.0910347424522033\n",
      "exCa: 4.067958250012936\n"
     ]
    }
   ],
   "source": [
    "#printando as metricas \n",
    "print(\"R2 Calibração:\")\n",
    "for key, value in resumo_mlp_mt['Cal']['R2'].items():\n",
    "    print(f\"{key}: {value}\")\n",
    "\n",
    "print(\"\\nR2 Predição:\")\n",
    "for key, value in resumo_mlp_mt['Pred']['R2'].items():\n",
    "    print(f\"{key}: {value}\")\n",
    "\n",
    "print(\"\\nRMSEC:\")\n",
    "for key, value in resumo_mlp_mt['Cal']['RMSE'].items():\n",
    "    print(f\"{key}: {value}\")  \n",
    "\n",
    "print(\"\\nRMSEP:\")\n",
    "for key, value in resumo_mlp_mt['Pred']['RMSE'].items():\n",
    "    print(f\"{key}: {value}\")  \n",
    "\n",
    "print(\"\\nRPIQ:\")\n",
    "for key, value in resumo_mlp_mt['Pred']['RPIQ'].items():\n",
    "    print(f\"{key}: {value}\")  "
   ]
  },
  {
   "cell_type": "markdown",
   "id": "b59feab8",
   "metadata": {},
   "source": [
    "## **CNN 1D**"
   ]
  },
  {
   "cell_type": "code",
   "execution_count": 24,
   "id": "c59ef1ef",
   "metadata": {},
   "outputs": [],
   "source": [
    "#reprodutibilidade pelo TF\n",
    "import os\n",
    "import random\n",
    "import tensorflow as tf\n",
    "\n",
    "# Define um valor fixo para a semente\n",
    "seed_value = 1\n",
    "\n",
    "# 1. Configura a semente para o Python\n",
    "os.environ['PYTHONHASHSEED'] = str(seed_value)\n",
    "random.seed(seed_value)\n",
    "\n",
    "# 2. Configura a semente para o NumPy\n",
    "np.random.seed(seed_value)\n",
    "\n",
    "# 3. Configura a semente para o TensorFlow\n",
    "tf.random.set_seed(seed_value)"
   ]
  },
  {
   "cell_type": "code",
   "execution_count": 25,
   "id": "80b11018",
   "metadata": {},
   "outputs": [
    {
     "data": {
      "text/html": [
       "<pre style=\"white-space:pre;overflow-x:auto;line-height:normal;font-family:Menlo,'DejaVu Sans Mono',consolas,'Courier New',monospace\"><span style=\"font-weight: bold\">Model: \"functional_2\"</span>\n",
       "</pre>\n"
      ],
      "text/plain": [
       "\u001b[1mModel: \"functional_2\"\u001b[0m\n"
      ]
     },
     "metadata": {},
     "output_type": "display_data"
    },
    {
     "data": {
      "text/html": [
       "<pre style=\"white-space:pre;overflow-x:auto;line-height:normal;font-family:Menlo,'DejaVu Sans Mono',consolas,'Courier New',monospace\">┏━━━━━━━━━━━━━━━━━━━━━━━━━━━━━━━━━┳━━━━━━━━━━━━━━━━━━━━━━━━┳━━━━━━━━━━━━━━━┓\n",
       "┃<span style=\"font-weight: bold\"> Layer (type)                    </span>┃<span style=\"font-weight: bold\"> Output Shape           </span>┃<span style=\"font-weight: bold\">       Param # </span>┃\n",
       "┡━━━━━━━━━━━━━━━━━━━━━━━━━━━━━━━━━╇━━━━━━━━━━━━━━━━━━━━━━━━╇━━━━━━━━━━━━━━━┩\n",
       "│ Input (<span style=\"color: #0087ff; text-decoration-color: #0087ff\">InputLayer</span>)              │ (<span style=\"color: #00d7ff; text-decoration-color: #00d7ff\">None</span>, <span style=\"color: #00af00; text-decoration-color: #00af00\">701</span>, <span style=\"color: #00af00; text-decoration-color: #00af00\">1</span>)         │             <span style=\"color: #00af00; text-decoration-color: #00af00\">0</span> │\n",
       "├─────────────────────────────────┼────────────────────────┼───────────────┤\n",
       "│ conv1d (<span style=\"color: #0087ff; text-decoration-color: #0087ff\">Conv1D</span>)                 │ (<span style=\"color: #00d7ff; text-decoration-color: #00d7ff\">None</span>, <span style=\"color: #00af00; text-decoration-color: #00af00\">697</span>, <span style=\"color: #00af00; text-decoration-color: #00af00\">16</span>)        │            <span style=\"color: #00af00; text-decoration-color: #00af00\">96</span> │\n",
       "├─────────────────────────────────┼────────────────────────┼───────────────┤\n",
       "│ max_pooling1d (<span style=\"color: #0087ff; text-decoration-color: #0087ff\">MaxPooling1D</span>)    │ (<span style=\"color: #00d7ff; text-decoration-color: #00d7ff\">None</span>, <span style=\"color: #00af00; text-decoration-color: #00af00\">348</span>, <span style=\"color: #00af00; text-decoration-color: #00af00\">16</span>)        │             <span style=\"color: #00af00; text-decoration-color: #00af00\">0</span> │\n",
       "├─────────────────────────────────┼────────────────────────┼───────────────┤\n",
       "│ conv1d_1 (<span style=\"color: #0087ff; text-decoration-color: #0087ff\">Conv1D</span>)               │ (<span style=\"color: #00d7ff; text-decoration-color: #00d7ff\">None</span>, <span style=\"color: #00af00; text-decoration-color: #00af00\">344</span>, <span style=\"color: #00af00; text-decoration-color: #00af00\">32</span>)        │         <span style=\"color: #00af00; text-decoration-color: #00af00\">2,592</span> │\n",
       "├─────────────────────────────────┼────────────────────────┼───────────────┤\n",
       "│ max_pooling1d_1 (<span style=\"color: #0087ff; text-decoration-color: #0087ff\">MaxPooling1D</span>)  │ (<span style=\"color: #00d7ff; text-decoration-color: #00d7ff\">None</span>, <span style=\"color: #00af00; text-decoration-color: #00af00\">172</span>, <span style=\"color: #00af00; text-decoration-color: #00af00\">32</span>)        │             <span style=\"color: #00af00; text-decoration-color: #00af00\">0</span> │\n",
       "├─────────────────────────────────┼────────────────────────┼───────────────┤\n",
       "│ conv1d_2 (<span style=\"color: #0087ff; text-decoration-color: #0087ff\">Conv1D</span>)               │ (<span style=\"color: #00d7ff; text-decoration-color: #00d7ff\">None</span>, <span style=\"color: #00af00; text-decoration-color: #00af00\">168</span>, <span style=\"color: #00af00; text-decoration-color: #00af00\">64</span>)        │        <span style=\"color: #00af00; text-decoration-color: #00af00\">10,304</span> │\n",
       "├─────────────────────────────────┼────────────────────────┼───────────────┤\n",
       "│ max_pooling1d_2 (<span style=\"color: #0087ff; text-decoration-color: #0087ff\">MaxPooling1D</span>)  │ (<span style=\"color: #00d7ff; text-decoration-color: #00d7ff\">None</span>, <span style=\"color: #00af00; text-decoration-color: #00af00\">84</span>, <span style=\"color: #00af00; text-decoration-color: #00af00\">64</span>)         │             <span style=\"color: #00af00; text-decoration-color: #00af00\">0</span> │\n",
       "├─────────────────────────────────┼────────────────────────┼───────────────┤\n",
       "│ dropout_10 (<span style=\"color: #0087ff; text-decoration-color: #0087ff\">Dropout</span>)            │ (<span style=\"color: #00d7ff; text-decoration-color: #00d7ff\">None</span>, <span style=\"color: #00af00; text-decoration-color: #00af00\">84</span>, <span style=\"color: #00af00; text-decoration-color: #00af00\">64</span>)         │             <span style=\"color: #00af00; text-decoration-color: #00af00\">0</span> │\n",
       "├─────────────────────────────────┼────────────────────────┼───────────────┤\n",
       "│ flatten (<span style=\"color: #0087ff; text-decoration-color: #0087ff\">Flatten</span>)               │ (<span style=\"color: #00d7ff; text-decoration-color: #00d7ff\">None</span>, <span style=\"color: #00af00; text-decoration-color: #00af00\">5376</span>)           │             <span style=\"color: #00af00; text-decoration-color: #00af00\">0</span> │\n",
       "├─────────────────────────────────┼────────────────────────┼───────────────┤\n",
       "│ dense_16 (<span style=\"color: #0087ff; text-decoration-color: #0087ff\">Dense</span>)                │ (<span style=\"color: #00d7ff; text-decoration-color: #00d7ff\">None</span>, <span style=\"color: #00af00; text-decoration-color: #00af00\">256</span>)            │     <span style=\"color: #00af00; text-decoration-color: #00af00\">1,376,512</span> │\n",
       "├─────────────────────────────────┼────────────────────────┼───────────────┤\n",
       "│ dropout_11 (<span style=\"color: #0087ff; text-decoration-color: #0087ff\">Dropout</span>)            │ (<span style=\"color: #00d7ff; text-decoration-color: #00d7ff\">None</span>, <span style=\"color: #00af00; text-decoration-color: #00af00\">256</span>)            │             <span style=\"color: #00af00; text-decoration-color: #00af00\">0</span> │\n",
       "├─────────────────────────────────┼────────────────────────┼───────────────┤\n",
       "│ dense_17 (<span style=\"color: #0087ff; text-decoration-color: #0087ff\">Dense</span>)                │ (<span style=\"color: #00d7ff; text-decoration-color: #00d7ff\">None</span>, <span style=\"color: #00af00; text-decoration-color: #00af00\">128</span>)            │        <span style=\"color: #00af00; text-decoration-color: #00af00\">32,896</span> │\n",
       "├─────────────────────────────────┼────────────────────────┼───────────────┤\n",
       "│ dropout_12 (<span style=\"color: #0087ff; text-decoration-color: #0087ff\">Dropout</span>)            │ (<span style=\"color: #00d7ff; text-decoration-color: #00d7ff\">None</span>, <span style=\"color: #00af00; text-decoration-color: #00af00\">128</span>)            │             <span style=\"color: #00af00; text-decoration-color: #00af00\">0</span> │\n",
       "├─────────────────────────────────┼────────────────────────┼───────────────┤\n",
       "│ dense_18 (<span style=\"color: #0087ff; text-decoration-color: #0087ff\">Dense</span>)                │ (<span style=\"color: #00d7ff; text-decoration-color: #00d7ff\">None</span>, <span style=\"color: #00af00; text-decoration-color: #00af00\">64</span>)             │         <span style=\"color: #00af00; text-decoration-color: #00af00\">8,256</span> │\n",
       "├─────────────────────────────────┼────────────────────────┼───────────────┤\n",
       "│ dense_19 (<span style=\"color: #0087ff; text-decoration-color: #0087ff\">Dense</span>)                │ (<span style=\"color: #00d7ff; text-decoration-color: #00d7ff\">None</span>, <span style=\"color: #00af00; text-decoration-color: #00af00\">1</span>)              │            <span style=\"color: #00af00; text-decoration-color: #00af00\">65</span> │\n",
       "└─────────────────────────────────┴────────────────────────┴───────────────┘\n",
       "</pre>\n"
      ],
      "text/plain": [
       "┏━━━━━━━━━━━━━━━━━━━━━━━━━━━━━━━━━┳━━━━━━━━━━━━━━━━━━━━━━━━┳━━━━━━━━━━━━━━━┓\n",
       "┃\u001b[1m \u001b[0m\u001b[1mLayer (type)                   \u001b[0m\u001b[1m \u001b[0m┃\u001b[1m \u001b[0m\u001b[1mOutput Shape          \u001b[0m\u001b[1m \u001b[0m┃\u001b[1m \u001b[0m\u001b[1m      Param #\u001b[0m\u001b[1m \u001b[0m┃\n",
       "┡━━━━━━━━━━━━━━━━━━━━━━━━━━━━━━━━━╇━━━━━━━━━━━━━━━━━━━━━━━━╇━━━━━━━━━━━━━━━┩\n",
       "│ Input (\u001b[38;5;33mInputLayer\u001b[0m)              │ (\u001b[38;5;45mNone\u001b[0m, \u001b[38;5;34m701\u001b[0m, \u001b[38;5;34m1\u001b[0m)         │             \u001b[38;5;34m0\u001b[0m │\n",
       "├─────────────────────────────────┼────────────────────────┼───────────────┤\n",
       "│ conv1d (\u001b[38;5;33mConv1D\u001b[0m)                 │ (\u001b[38;5;45mNone\u001b[0m, \u001b[38;5;34m697\u001b[0m, \u001b[38;5;34m16\u001b[0m)        │            \u001b[38;5;34m96\u001b[0m │\n",
       "├─────────────────────────────────┼────────────────────────┼───────────────┤\n",
       "│ max_pooling1d (\u001b[38;5;33mMaxPooling1D\u001b[0m)    │ (\u001b[38;5;45mNone\u001b[0m, \u001b[38;5;34m348\u001b[0m, \u001b[38;5;34m16\u001b[0m)        │             \u001b[38;5;34m0\u001b[0m │\n",
       "├─────────────────────────────────┼────────────────────────┼───────────────┤\n",
       "│ conv1d_1 (\u001b[38;5;33mConv1D\u001b[0m)               │ (\u001b[38;5;45mNone\u001b[0m, \u001b[38;5;34m344\u001b[0m, \u001b[38;5;34m32\u001b[0m)        │         \u001b[38;5;34m2,592\u001b[0m │\n",
       "├─────────────────────────────────┼────────────────────────┼───────────────┤\n",
       "│ max_pooling1d_1 (\u001b[38;5;33mMaxPooling1D\u001b[0m)  │ (\u001b[38;5;45mNone\u001b[0m, \u001b[38;5;34m172\u001b[0m, \u001b[38;5;34m32\u001b[0m)        │             \u001b[38;5;34m0\u001b[0m │\n",
       "├─────────────────────────────────┼────────────────────────┼───────────────┤\n",
       "│ conv1d_2 (\u001b[38;5;33mConv1D\u001b[0m)               │ (\u001b[38;5;45mNone\u001b[0m, \u001b[38;5;34m168\u001b[0m, \u001b[38;5;34m64\u001b[0m)        │        \u001b[38;5;34m10,304\u001b[0m │\n",
       "├─────────────────────────────────┼────────────────────────┼───────────────┤\n",
       "│ max_pooling1d_2 (\u001b[38;5;33mMaxPooling1D\u001b[0m)  │ (\u001b[38;5;45mNone\u001b[0m, \u001b[38;5;34m84\u001b[0m, \u001b[38;5;34m64\u001b[0m)         │             \u001b[38;5;34m0\u001b[0m │\n",
       "├─────────────────────────────────┼────────────────────────┼───────────────┤\n",
       "│ dropout_10 (\u001b[38;5;33mDropout\u001b[0m)            │ (\u001b[38;5;45mNone\u001b[0m, \u001b[38;5;34m84\u001b[0m, \u001b[38;5;34m64\u001b[0m)         │             \u001b[38;5;34m0\u001b[0m │\n",
       "├─────────────────────────────────┼────────────────────────┼───────────────┤\n",
       "│ flatten (\u001b[38;5;33mFlatten\u001b[0m)               │ (\u001b[38;5;45mNone\u001b[0m, \u001b[38;5;34m5376\u001b[0m)           │             \u001b[38;5;34m0\u001b[0m │\n",
       "├─────────────────────────────────┼────────────────────────┼───────────────┤\n",
       "│ dense_16 (\u001b[38;5;33mDense\u001b[0m)                │ (\u001b[38;5;45mNone\u001b[0m, \u001b[38;5;34m256\u001b[0m)            │     \u001b[38;5;34m1,376,512\u001b[0m │\n",
       "├─────────────────────────────────┼────────────────────────┼───────────────┤\n",
       "│ dropout_11 (\u001b[38;5;33mDropout\u001b[0m)            │ (\u001b[38;5;45mNone\u001b[0m, \u001b[38;5;34m256\u001b[0m)            │             \u001b[38;5;34m0\u001b[0m │\n",
       "├─────────────────────────────────┼────────────────────────┼───────────────┤\n",
       "│ dense_17 (\u001b[38;5;33mDense\u001b[0m)                │ (\u001b[38;5;45mNone\u001b[0m, \u001b[38;5;34m128\u001b[0m)            │        \u001b[38;5;34m32,896\u001b[0m │\n",
       "├─────────────────────────────────┼────────────────────────┼───────────────┤\n",
       "│ dropout_12 (\u001b[38;5;33mDropout\u001b[0m)            │ (\u001b[38;5;45mNone\u001b[0m, \u001b[38;5;34m128\u001b[0m)            │             \u001b[38;5;34m0\u001b[0m │\n",
       "├─────────────────────────────────┼────────────────────────┼───────────────┤\n",
       "│ dense_18 (\u001b[38;5;33mDense\u001b[0m)                │ (\u001b[38;5;45mNone\u001b[0m, \u001b[38;5;34m64\u001b[0m)             │         \u001b[38;5;34m8,256\u001b[0m │\n",
       "├─────────────────────────────────┼────────────────────────┼───────────────┤\n",
       "│ dense_19 (\u001b[38;5;33mDense\u001b[0m)                │ (\u001b[38;5;45mNone\u001b[0m, \u001b[38;5;34m1\u001b[0m)              │            \u001b[38;5;34m65\u001b[0m │\n",
       "└─────────────────────────────────┴────────────────────────┴───────────────┘\n"
      ]
     },
     "metadata": {},
     "output_type": "display_data"
    },
    {
     "data": {
      "text/html": [
       "<pre style=\"white-space:pre;overflow-x:auto;line-height:normal;font-family:Menlo,'DejaVu Sans Mono',consolas,'Courier New',monospace\"><span style=\"font-weight: bold\"> Total params: </span><span style=\"color: #00af00; text-decoration-color: #00af00\">1,430,721</span> (5.46 MB)\n",
       "</pre>\n"
      ],
      "text/plain": [
       "\u001b[1m Total params: \u001b[0m\u001b[38;5;34m1,430,721\u001b[0m (5.46 MB)\n"
      ]
     },
     "metadata": {},
     "output_type": "display_data"
    },
    {
     "data": {
      "text/html": [
       "<pre style=\"white-space:pre;overflow-x:auto;line-height:normal;font-family:Menlo,'DejaVu Sans Mono',consolas,'Courier New',monospace\"><span style=\"font-weight: bold\"> Trainable params: </span><span style=\"color: #00af00; text-decoration-color: #00af00\">1,430,721</span> (5.46 MB)\n",
       "</pre>\n"
      ],
      "text/plain": [
       "\u001b[1m Trainable params: \u001b[0m\u001b[38;5;34m1,430,721\u001b[0m (5.46 MB)\n"
      ]
     },
     "metadata": {},
     "output_type": "display_data"
    },
    {
     "data": {
      "text/html": [
       "<pre style=\"white-space:pre;overflow-x:auto;line-height:normal;font-family:Menlo,'DejaVu Sans Mono',consolas,'Courier New',monospace\"><span style=\"font-weight: bold\"> Non-trainable params: </span><span style=\"color: #00af00; text-decoration-color: #00af00\">0</span> (0.00 B)\n",
       "</pre>\n"
      ],
      "text/plain": [
       "\u001b[1m Non-trainable params: \u001b[0m\u001b[38;5;34m0\u001b[0m (0.00 B)\n"
      ]
     },
     "metadata": {},
     "output_type": "display_data"
    }
   ],
   "source": [
    "from tensorflow.keras.models import Model\n",
    "from tensorflow.keras.layers import Input, Dense, Dropout, Conv1D, MaxPooling1D, Flatten\n",
    "\n",
    "Input_size = XRFcal_prep.shape[1] # extraindo dimensão dos dados de entrada (número de variáveis espectrais)\n",
    "\n",
    "# Definindo o modelo com a API funcional\n",
    "\n",
    "Camada_input = Input(shape=(Input_size,1), name='Input')\n",
    "Conv1 = Conv1D(filters=16, kernel_size=5, activation='relu')(Camada_input)\n",
    "MaxP1 = MaxPooling1D(pool_size=2, strides=2)(Conv1)\n",
    "Conv2 = Conv1D(filters=32, kernel_size=5, activation='relu')(MaxP1)\n",
    "MaxP2 = MaxPooling1D(pool_size=2, strides=2)(Conv2)\n",
    "Conv3 = Conv1D(filters=64, kernel_size=5, activation='relu')(MaxP2)\n",
    "MaxP3 = MaxPooling1D(pool_size=2, strides=2)(Conv3)\n",
    "Dropout1 = Dropout(0.2)(MaxP3)  # Dropout layer para prevenir overfitting\n",
    "Camada_flatten = Flatten()(Dropout1)  # Flatten layer para converter a saída 3D em 1D\n",
    "Dense1 = Dense(units=256, activation='relu')(Camada_flatten)\n",
    "Dense2 = Dropout(0.15)(Dense1)  # Dropout layer para prevenir overfitting\n",
    "Dense3 = Dense(units=128, activation='relu')(Dense2)\n",
    "Dropout2 = Dropout(0.1)(Dense3)  # Dropout layer para prevenir overfitting\n",
    "Dense5 = Dense(units=64, activation='relu')(Dropout2)\n",
    "output_exCa = Dense(units=1, activation='linear')(Dense5)  # a última camada deve conter o número de variáveis de resposta\n",
    "\n",
    "cnn1d = Model(inputs=Camada_input, outputs=[output_exCa])\n",
    "cnn1d.summary()"
   ]
  },
  {
   "cell_type": "code",
   "execution_count": 26,
   "id": "7a2a8df6",
   "metadata": {},
   "outputs": [
    {
     "data": {
      "image/png": "[encoded data removed]",
      "text/plain": [
       "<IPython.core.display.Image object>"
      ]
     },
     "execution_count": 26,
     "metadata": {},
     "output_type": "execute_result"
    }
   ],
   "source": [
    "import keras\n",
    "keras.utils.plot_model(cnn1d, \"cnn1d.png\", show_shapes=False, show_layer_names=True, dpi=50, rankdir=\"TB\")  # TB ou rankidir=\"LR\"     \n"
   ]
  },
  {
   "cell_type": "code",
   "execution_count": 27,
   "id": "940c4b3f",
   "metadata": {},
   "outputs": [
    {
     "name": "stdout",
     "output_type": "stream",
     "text": [
      "Epoch 1/50\n",
      "\u001b[1m61/61\u001b[0m \u001b[32m━━━━━━━━━━━━━━━━━━━━\u001b[0m\u001b[37m\u001b[0m \u001b[1m4s\u001b[0m 38ms/step - loss: 3.0639 - r2_score: -2.5323 - val_loss: 1.1029 - val_r2_score: 0.6440\n",
      "Epoch 2/50\n",
      "\u001b[1m61/61\u001b[0m \u001b[32m━━━━━━━━━━━━━━━━━━━━\u001b[0m\u001b[37m\u001b[0m \u001b[1m2s\u001b[0m 31ms/step - loss: 1.1975 - r2_score: 0.5690 - val_loss: 0.8726 - val_r2_score: 0.7741\n",
      "Epoch 3/50\n",
      "\u001b[1m61/61\u001b[0m \u001b[32m━━━━━━━━━━━━━━━━━━━━\u001b[0m\u001b[37m\u001b[0m \u001b[1m2s\u001b[0m 32ms/step - loss: 1.0352 - r2_score: 0.6803 - val_loss: 0.7605 - val_r2_score: 0.8305\n",
      "Epoch 4/50\n",
      "\u001b[1m61/61\u001b[0m \u001b[32m━━━━━━━━━━━━━━━━━━━━\u001b[0m\u001b[37m\u001b[0m \u001b[1m2s\u001b[0m 30ms/step - loss: 1.0268 - r2_score: 0.6805 - val_loss: 0.8844 - val_r2_score: 0.7655\n",
      "Epoch 5/50\n",
      "\u001b[1m61/61\u001b[0m \u001b[32m━━━━━━━━━━━━━━━━━━━━\u001b[0m\u001b[37m\u001b[0m \u001b[1m2s\u001b[0m 30ms/step - loss: 0.9568 - r2_score: 0.7198 - val_loss: 0.6817 - val_r2_score: 0.8606\n",
      "Epoch 6/50\n",
      "\u001b[1m61/61\u001b[0m \u001b[32m━━━━━━━━━━━━━━━━━━━━\u001b[0m\u001b[37m\u001b[0m \u001b[1m2s\u001b[0m 30ms/step - loss: 0.9749 - r2_score: 0.7081 - val_loss: 0.8830 - val_r2_score: 0.7645\n",
      "Epoch 7/50\n",
      "\u001b[1m61/61\u001b[0m \u001b[32m━━━━━━━━━━━━━━━━━━━━\u001b[0m\u001b[37m\u001b[0m \u001b[1m2s\u001b[0m 29ms/step - loss: 1.0861 - r2_score: 0.6349 - val_loss: 0.7291 - val_r2_score: 0.8369\n",
      "Epoch 8/50\n",
      "\u001b[1m61/61\u001b[0m \u001b[32m━━━━━━━━━━━━━━━━━━━━\u001b[0m\u001b[37m\u001b[0m \u001b[1m2s\u001b[0m 29ms/step - loss: 0.9196 - r2_score: 0.7475 - val_loss: 0.6926 - val_r2_score: 0.8562\n",
      "Epoch 9/50\n",
      "\u001b[1m61/61\u001b[0m \u001b[32m━━━━━━━━━━━━━━━━━━━━\u001b[0m\u001b[37m\u001b[0m \u001b[1m2s\u001b[0m 29ms/step - loss: 0.9211 - r2_score: 0.7431 - val_loss: 0.6452 - val_r2_score: 0.8740\n",
      "Epoch 10/50\n",
      "\u001b[1m61/61\u001b[0m \u001b[32m━━━━━━━━━━━━━━━━━━━━\u001b[0m\u001b[37m\u001b[0m \u001b[1m2s\u001b[0m 32ms/step - loss: 1.0373 - r2_score: 0.6595 - val_loss: 0.6882 - val_r2_score: 0.8550\n",
      "Epoch 11/50\n",
      "\u001b[1m61/61\u001b[0m \u001b[32m━━━━━━━━━━━━━━━━━━━━\u001b[0m\u001b[37m\u001b[0m \u001b[1m2s\u001b[0m 36ms/step - loss: 0.9611 - r2_score: 0.7077 - val_loss: 1.1047 - val_r2_score: 0.6369\n",
      "Epoch 12/50\n",
      "\u001b[1m61/61\u001b[0m \u001b[32m━━━━━━━━━━━━━━━━━━━━\u001b[0m\u001b[37m\u001b[0m \u001b[1m2s\u001b[0m 34ms/step - loss: 1.1313 - r2_score: 0.6043 - val_loss: 0.9804 - val_r2_score: 0.7124\n",
      "Epoch 13/50\n",
      "\u001b[1m61/61\u001b[0m \u001b[32m━━━━━━━━━━━━━━━━━━━━\u001b[0m\u001b[37m\u001b[0m \u001b[1m2s\u001b[0m 34ms/step - loss: 1.0876 - r2_score: 0.6355 - val_loss: 0.9964 - val_r2_score: 0.7018\n",
      "Epoch 14/50\n",
      "\u001b[1m61/61\u001b[0m \u001b[32m━━━━━━━━━━━━━━━━━━━━\u001b[0m\u001b[37m\u001b[0m \u001b[1m2s\u001b[0m 35ms/step - loss: 0.9985 - r2_score: 0.6917 - val_loss: 0.7156 - val_r2_score: 0.8421\n",
      "Epoch 15/50\n",
      "\u001b[1m61/61\u001b[0m \u001b[32m━━━━━━━━━━━━━━━━━━━━\u001b[0m\u001b[37m\u001b[0m \u001b[1m2s\u001b[0m 34ms/step - loss: 0.9578 - r2_score: 0.7092 - val_loss: 0.8206 - val_r2_score: 0.7939\n",
      "Epoch 16/50\n",
      "\u001b[1m61/61\u001b[0m \u001b[32m━━━━━━━━━━━━━━━━━━━━\u001b[0m\u001b[37m\u001b[0m \u001b[1m2s\u001b[0m 32ms/step - loss: 0.9417 - r2_score: 0.7131 - val_loss: 0.7899 - val_r2_score: 0.8095\n",
      "Epoch 17/50\n",
      "\u001b[1m61/61\u001b[0m \u001b[32m━━━━━━━━━━━━━━━━━━━━\u001b[0m\u001b[37m\u001b[0m \u001b[1m2s\u001b[0m 33ms/step - loss: 0.9262 - r2_score: 0.7363 - val_loss: 1.0365 - val_r2_score: 0.6803\n",
      "Epoch 18/50\n",
      "\u001b[1m61/61\u001b[0m \u001b[32m━━━━━━━━━━━━━━━━━━━━\u001b[0m\u001b[37m\u001b[0m \u001b[1m2s\u001b[0m 33ms/step - loss: 0.9764 - r2_score: 0.7051 - val_loss: 0.7963 - val_r2_score: 0.8052\n",
      "Epoch 19/50\n",
      "\u001b[1m61/61\u001b[0m \u001b[32m━━━━━━━━━━━━━━━━━━━━\u001b[0m\u001b[37m\u001b[0m \u001b[1m2s\u001b[0m 33ms/step - loss: 0.9584 - r2_score: 0.7138 - val_loss: 0.8754 - val_r2_score: 0.7670\n",
      "Epoch 20/50\n",
      "\u001b[1m61/61\u001b[0m \u001b[32m━━━━━━━━━━━━━━━━━━━━\u001b[0m\u001b[37m\u001b[0m \u001b[1m2s\u001b[0m 32ms/step - loss: 0.8642 - r2_score: 0.7677 - val_loss: 0.8243 - val_r2_score: 0.7917\n",
      "Epoch 21/50\n",
      "\u001b[1m61/61\u001b[0m \u001b[32m━━━━━━━━━━━━━━━━━━━━\u001b[0m\u001b[37m\u001b[0m \u001b[1m2s\u001b[0m 30ms/step - loss: 0.8350 - r2_score: 0.7829 - val_loss: 0.9163 - val_r2_score: 0.7444\n",
      "Epoch 22/50\n",
      "\u001b[1m61/61\u001b[0m \u001b[32m━━━━━━━━━━━━━━━━━━━━\u001b[0m\u001b[37m\u001b[0m \u001b[1m2s\u001b[0m 31ms/step - loss: 0.9506 - r2_score: 0.7271 - val_loss: 0.8607 - val_r2_score: 0.7740\n",
      "Epoch 23/50\n",
      "\u001b[1m61/61\u001b[0m \u001b[32m━━━━━━━━━━━━━━━━━━━━\u001b[0m\u001b[37m\u001b[0m \u001b[1m2s\u001b[0m 34ms/step - loss: 0.9496 - r2_score: 0.7189 - val_loss: 0.7182 - val_r2_score: 0.8403\n",
      "Epoch 24/50\n",
      "\u001b[1m61/61\u001b[0m \u001b[32m━━━━━━━━━━━━━━━━━━━━\u001b[0m\u001b[37m\u001b[0m \u001b[1m2s\u001b[0m 32ms/step - loss: 0.8262 - r2_score: 0.7858 - val_loss: 0.7259 - val_r2_score: 0.8365\n",
      "Epoch 25/50\n",
      "\u001b[1m61/61\u001b[0m \u001b[32m━━━━━━━━━━━━━━━━━━━━\u001b[0m\u001b[37m\u001b[0m \u001b[1m2s\u001b[0m 33ms/step - loss: 0.8040 - r2_score: 0.7969 - val_loss: 0.6654 - val_r2_score: 0.8634\n",
      "Epoch 26/50\n",
      "\u001b[1m61/61\u001b[0m \u001b[32m━━━━━━━━━━━━━━━━━━━━\u001b[0m\u001b[37m\u001b[0m \u001b[1m2s\u001b[0m 33ms/step - loss: 0.7981 - r2_score: 0.7999 - val_loss: 0.6163 - val_r2_score: 0.8829\n",
      "Epoch 27/50\n",
      "\u001b[1m61/61\u001b[0m \u001b[32m━━━━━━━━━━━━━━━━━━━━\u001b[0m\u001b[37m\u001b[0m \u001b[1m2s\u001b[0m 34ms/step - loss: 0.8312 - r2_score: 0.7837 - val_loss: 0.7015 - val_r2_score: 0.8448\n",
      "Epoch 28/50\n",
      "\u001b[1m61/61\u001b[0m \u001b[32m━━━━━━━━━━━━━━━━━━━━\u001b[0m\u001b[37m\u001b[0m \u001b[1m2s\u001b[0m 33ms/step - loss: 0.8250 - r2_score: 0.7887 - val_loss: 0.5972 - val_r2_score: 0.8908\n",
      "Epoch 29/50\n",
      "\u001b[1m61/61\u001b[0m \u001b[32m━━━━━━━━━━━━━━━━━━━━\u001b[0m\u001b[37m\u001b[0m \u001b[1m2s\u001b[0m 31ms/step - loss: 0.7685 - r2_score: 0.8137 - val_loss: 0.7108 - val_r2_score: 0.8419\n",
      "Epoch 30/50\n",
      "\u001b[1m61/61\u001b[0m \u001b[32m━━━━━━━━━━━━━━━━━━━━\u001b[0m\u001b[37m\u001b[0m \u001b[1m2s\u001b[0m 32ms/step - loss: 0.7201 - r2_score: 0.8324 - val_loss: 0.7285 - val_r2_score: 0.8352\n",
      "Epoch 31/50\n",
      "\u001b[1m61/61\u001b[0m \u001b[32m━━━━━━━━━━━━━━━━━━━━\u001b[0m\u001b[37m\u001b[0m \u001b[1m2s\u001b[0m 30ms/step - loss: 0.7904 - r2_score: 0.8078 - val_loss: 0.6856 - val_r2_score: 0.8543\n",
      "Epoch 32/50\n",
      "\u001b[1m61/61\u001b[0m \u001b[32m━━━━━━━━━━━━━━━━━━━━\u001b[0m\u001b[37m\u001b[0m \u001b[1m2s\u001b[0m 30ms/step - loss: 0.7995 - r2_score: 0.7997 - val_loss: 0.7651 - val_r2_score: 0.8299\n",
      "Epoch 33/50\n",
      "\u001b[1m61/61\u001b[0m \u001b[32m━━━━━━━━━━━━━━━━━━━━\u001b[0m\u001b[37m\u001b[0m \u001b[1m2s\u001b[0m 31ms/step - loss: 0.6955 - r2_score: 0.8522 - val_loss: 0.7024 - val_r2_score: 0.8545\n",
      "Epoch 34/50\n",
      "\u001b[1m61/61\u001b[0m \u001b[32m━━━━━━━━━━━━━━━━━━━━\u001b[0m\u001b[37m\u001b[0m \u001b[1m2s\u001b[0m 32ms/step - loss: 0.7361 - r2_score: 0.8320 - val_loss: 0.7561 - val_r2_score: 0.8337\n",
      "Epoch 35/50\n",
      "\u001b[1m61/61\u001b[0m \u001b[32m━━━━━━━━━━━━━━━━━━━━\u001b[0m\u001b[37m\u001b[0m \u001b[1m2s\u001b[0m 33ms/step - loss: 0.7409 - r2_score: 0.8240 - val_loss: 0.6937 - val_r2_score: 0.8580\n",
      "Epoch 36/50\n",
      "\u001b[1m61/61\u001b[0m \u001b[32m━━━━━━━━━━━━━━━━━━━━\u001b[0m\u001b[37m\u001b[0m \u001b[1m2s\u001b[0m 32ms/step - loss: 0.6069 - r2_score: 0.8873 - val_loss: 0.6842 - val_r2_score: 0.8554\n",
      "Epoch 37/50\n",
      "\u001b[1m61/61\u001b[0m \u001b[32m━━━━━━━━━━━━━━━━━━━━\u001b[0m\u001b[37m\u001b[0m \u001b[1m2s\u001b[0m 32ms/step - loss: 0.6235 - r2_score: 0.8782 - val_loss: 0.7332 - val_r2_score: 0.8412\n",
      "Epoch 38/50\n",
      "\u001b[1m61/61\u001b[0m \u001b[32m━━━━━━━━━━━━━━━━━━━━\u001b[0m\u001b[37m\u001b[0m \u001b[1m2s\u001b[0m 31ms/step - loss: 0.5861 - r2_score: 0.8869 - val_loss: 0.7126 - val_r2_score: 0.8521\n",
      "Epoch 39/50\n",
      "\u001b[1m61/61\u001b[0m \u001b[32m━━━━━━━━━━━━━━━━━━━━\u001b[0m\u001b[37m\u001b[0m \u001b[1m2s\u001b[0m 30ms/step - loss: 0.5574 - r2_score: 0.9038 - val_loss: 0.6784 - val_r2_score: 0.8595\n",
      "Epoch 40/50\n",
      "\u001b[1m61/61\u001b[0m \u001b[32m━━━━━━━━━━━━━━━━━━━━\u001b[0m\u001b[37m\u001b[0m \u001b[1m2s\u001b[0m 29ms/step - loss: 0.5196 - r2_score: 0.9102 - val_loss: 0.6996 - val_r2_score: 0.8541\n",
      "Epoch 41/50\n",
      "\u001b[1m61/61\u001b[0m \u001b[32m━━━━━━━━━━━━━━━━━━━━\u001b[0m\u001b[37m\u001b[0m \u001b[1m2s\u001b[0m 32ms/step - loss: 0.5278 - r2_score: 0.9108 - val_loss: 0.6427 - val_r2_score: 0.8749\n",
      "Epoch 42/50\n",
      "\u001b[1m61/61\u001b[0m \u001b[32m━━━━━━━━━━━━━━━━━━━━\u001b[0m\u001b[37m\u001b[0m \u001b[1m2s\u001b[0m 30ms/step - loss: 0.5213 - r2_score: 0.9154 - val_loss: 0.6811 - val_r2_score: 0.8632\n",
      "Epoch 43/50\n",
      "\u001b[1m61/61\u001b[0m \u001b[32m━━━━━━━━━━━━━━━━━━━━\u001b[0m\u001b[37m\u001b[0m \u001b[1m2s\u001b[0m 31ms/step - loss: 0.5421 - r2_score: 0.9121 - val_loss: 0.6567 - val_r2_score: 0.8683\n",
      "Epoch 44/50\n",
      "\u001b[1m61/61\u001b[0m \u001b[32m━━━━━━━━━━━━━━━━━━━━\u001b[0m\u001b[37m\u001b[0m \u001b[1m2s\u001b[0m 31ms/step - loss: 0.5652 - r2_score: 0.9054 - val_loss: 0.6726 - val_r2_score: 0.8634\n",
      "Epoch 45/50\n",
      "\u001b[1m61/61\u001b[0m \u001b[32m━━━━━━━━━━━━━━━━━━━━\u001b[0m\u001b[37m\u001b[0m \u001b[1m2s\u001b[0m 31ms/step - loss: 0.4944 - r2_score: 0.9233 - val_loss: 0.6594 - val_r2_score: 0.8649\n",
      "Epoch 46/50\n",
      "\u001b[1m61/61\u001b[0m \u001b[32m━━━━━━━━━━━━━━━━━━━━\u001b[0m\u001b[37m\u001b[0m \u001b[1m2s\u001b[0m 30ms/step - loss: 0.5473 - r2_score: 0.9057 - val_loss: 0.6600 - val_r2_score: 0.8657\n",
      "Epoch 47/50\n",
      "\u001b[1m61/61\u001b[0m \u001b[32m━━━━━━━━━━━━━━━━━━━━\u001b[0m\u001b[37m\u001b[0m \u001b[1m2s\u001b[0m 33ms/step - loss: 0.5391 - r2_score: 0.9108 - val_loss: 0.7134 - val_r2_score: 0.8411\n",
      "Epoch 48/50\n",
      "\u001b[1m61/61\u001b[0m \u001b[32m━━━━━━━━━━━━━━━━━━━━\u001b[0m\u001b[37m\u001b[0m \u001b[1m2s\u001b[0m 32ms/step - loss: 0.5494 - r2_score: 0.9093 - val_loss: 0.6509 - val_r2_score: 0.8715\n",
      "Epoch 48: early stopping\n",
      "Restoring model weights from the end of the best epoch: 28.\n"
     ]
    }
   ],
   "source": [
    "# compilando o modelo\n",
    "early_stopping = EarlyStopping(\n",
    "    monitor='val_loss',    # prefixo \"val_\" para validação, caso contrario ele atua no treino (val_r2_score para o r2_score da validação por exemplo)\n",
    "    mode='min',                # queremos minimizar o erro de validação\n",
    "    patience=20,             # número de épocas sem melhoria antes de parar o treinamento\n",
    "    restore_best_weights=True,\n",
    "    verbose=1)                  # para ver quando o callback aciona\n",
    "\n",
    "cnn1d.compile(optimizer='Adam', loss=rmse, metrics=['r2_score']) # compila o modelo, definindo o otimizador, a função de erro e as métricas que serão utilizadas para avaliar o desempenho do modelo\n",
    "\n",
    "cnn1d_historico = cnn1d.fit(x=XRFcal_prep,\n",
    "                       y=Ycal['exCa'],\n",
    "                       epochs=50,\n",
    "                       batch_size=10,  # o batch_size é o lote amostras que serão usadas para calcular o gradiente e atualizar os pesos do modelo, em outras palavras, =10 significa que de 10 em 10 amostras o modelo atualiza os pesos (frequencia de atualização dos pesos)\n",
    "                       validation_data=(XRFval_prep, Yval['exCa']), # o conjunto de validação é utilizado para monitorar o desempenho do modelo durante o treinamento e evitar overfitting.\n",
    "                       callbacks=[early_stopping],\n",
    "                       verbose=1)"
   ]
  },
  {
   "cell_type": "code",
   "execution_count": 28,
   "id": "34befc97",
   "metadata": {},
   "outputs": [
    {
     "name": "stdout",
     "output_type": "stream",
     "text": [
      "\u001b[1m19/19\u001b[0m \u001b[32m━━━━━━━━━━━━━━━━━━━━\u001b[0m\u001b[37m\u001b[0m \u001b[1m0s\u001b[0m 11ms/step\n",
      "\u001b[1m9/9\u001b[0m \u001b[32m━━━━━━━━━━━━━━━━━━━━\u001b[0m\u001b[37m\u001b[0m \u001b[1m0s\u001b[0m 6ms/step \n"
     ]
    },
    {
     "data": {
      "application/vnd.microsoft.datawrangler.viewer.v0+json": {
       "columns": [
        {
         "name": "index",
         "rawType": "object",
         "type": "string"
        },
        {
         "name": "0",
         "rawType": "float64",
         "type": "float"
        }
       ],
       "conversionMethod": "pd.DataFrame",
       "ref": "2523673a-f5a5-4021-87b6-37c298748334",
       "rows": [
        [
         "R2_cal",
         "0.917"
        ],
        [
         "R2_pred",
         "0.891"
        ],
        [
         "RMSEC",
         "0.549"
        ],
        [
         "RMSEP",
         "0.625"
        ],
        [
         "RPD",
         "3.056"
        ],
        [
         "RPIQ",
         "4.781"
        ],
        [
         "Bias_pred",
         "-0.021"
        ]
       ],
       "shape": {
        "columns": 1,
        "rows": 7
       }
      },
      "text/html": [
       "<div>\n",
       "<style scoped>\n",
       "    .dataframe tbody tr th:only-of-type {\n",
       "        vertical-align: middle;\n",
       "    }\n",
       "\n",
       "    .dataframe tbody tr th {\n",
       "        vertical-align: top;\n",
       "    }\n",
       "\n",
       "    .dataframe thead th {\n",
       "        text-align: right;\n",
       "    }\n",
       "</style>\n",
       "<table border=\"1\" class=\"dataframe\">\n",
       "  <thead>\n",
       "    <tr style=\"text-align: right;\">\n",
       "      <th></th>\n",
       "      <th>0</th>\n",
       "    </tr>\n",
       "  </thead>\n",
       "  <tbody>\n",
       "    <tr>\n",
       "      <th>R2_cal</th>\n",
       "      <td>0.917</td>\n",
       "    </tr>\n",
       "    <tr>\n",
       "      <th>R2_pred</th>\n",
       "      <td>0.891</td>\n",
       "    </tr>\n",
       "    <tr>\n",
       "      <th>RMSEC</th>\n",
       "      <td>0.549</td>\n",
       "    </tr>\n",
       "    <tr>\n",
       "      <th>RMSEP</th>\n",
       "      <td>0.625</td>\n",
       "    </tr>\n",
       "    <tr>\n",
       "      <th>RPD</th>\n",
       "      <td>3.056</td>\n",
       "    </tr>\n",
       "    <tr>\n",
       "      <th>RPIQ</th>\n",
       "      <td>4.781</td>\n",
       "    </tr>\n",
       "    <tr>\n",
       "      <th>Bias_pred</th>\n",
       "      <td>-0.021</td>\n",
       "    </tr>\n",
       "  </tbody>\n",
       "</table>\n",
       "</div>"
      ],
      "text/plain": [
       "               0\n",
       "R2_cal     0.917\n",
       "R2_pred    0.891\n",
       "RMSEC      0.549\n",
       "RMSEP      0.625\n",
       "RPD        3.056\n",
       "RPIQ       4.781\n",
       "Bias_pred -0.021"
      ]
     },
     "execution_count": 28,
     "metadata": {},
     "output_type": "execute_result"
    }
   ],
   "source": [
    "# Resultados de calibração e predição por meio do comando predict()\n",
    "calres_cnn1d = pd.DataFrame({'Ref': Ycal['exCa'], 'Pred': cnn1d.predict(XRFcal_prep).flatten()})\n",
    "\n",
    "# resultados de validação\n",
    "predres_cnn1d = pd.DataFrame({'Ref': Yval['exCa'], 'Pred': cnn1d.predict(XRFval_prep).flatten()})\n",
    "\n",
    "# extraindo metricas de desempenho do modelo\n",
    "resumo_cnn1d = resumo(calres_cnn1d['Ref'], calres_cnn1d['Pred'], predres_cnn1d['Ref'], predres_cnn1d['Pred']).T # calcula o resumo para os dados de calibração\n",
    "resumo_cnn1d"
   ]
  },
  {
   "cell_type": "code",
   "execution_count": null,
   "id": "d5e86685",
   "metadata": {},
   "outputs": [
    {
     "ename": "NameError",
     "evalue": "name 'cnn1d' is not defined",
     "output_type": "error",
     "traceback": [
      "\u001b[1;31m---------------------------------------------------------------------------\u001b[0m",
      "\u001b[1;31mNameError\u001b[0m                                 Traceback (most recent call last)",
      "Cell \u001b[1;32mIn[2], line 10\u001b[0m\n\u001b[0;32m      3\u001b[0m \u001b[38;5;28;01mfrom\u001b[39;00m\u001b[38;5;250m \u001b[39m\u001b[38;5;21;01mtensorflow\u001b[39;00m\u001b[38;5;21;01m.\u001b[39;00m\u001b[38;5;21;01mkeras\u001b[39;00m\u001b[38;5;21;01m.\u001b[39;00m\u001b[38;5;21;01mmodels\u001b[39;00m\u001b[38;5;250m \u001b[39m\u001b[38;5;28;01mimport\u001b[39;00m Model\n\u001b[0;32m      5\u001b[0m \u001b[38;5;66;03m# ------------------------------------------------------------------\u001b[39;00m\n\u001b[0;32m      6\u001b[0m \u001b[38;5;66;03m# 1) Cria um modelo auxiliar que retorna a saída da primeira Conv1D\u001b[39;00m\n\u001b[0;32m      7\u001b[0m \u001b[38;5;66;03m# ------------------------------------------------------------------\u001b[39;00m\n\u001b[0;32m      8\u001b[0m \n\u001b[0;32m      9\u001b[0m \u001b[38;5;66;03m# Obtém o nome da primeira camada Conv1D na arquitetura cnn1d\u001b[39;00m\n\u001b[1;32m---> 10\u001b[0m cnn1d_layer \u001b[38;5;241m=\u001b[39m \u001b[43mcnn1d\u001b[49m\u001b[38;5;241m.\u001b[39mlayers[\u001b[38;5;241m2\u001b[39m]\u001b[38;5;241m.\u001b[39mname  \u001b[38;5;66;03m# aqui assumimos que layers[0] é a camada de Input\u001b[39;00m\n\u001b[0;32m     12\u001b[0m feature_extractor \u001b[38;5;241m=\u001b[39m Model(\n\u001b[0;32m     13\u001b[0m     inputs\u001b[38;5;241m=\u001b[39mcnn1d\u001b[38;5;241m.\u001b[39minput,\n\u001b[0;32m     14\u001b[0m     outputs\u001b[38;5;241m=\u001b[39mcnn1d\u001b[38;5;241m.\u001b[39mget_layer(cnn1d_layer)\u001b[38;5;241m.\u001b[39moutput)\n\u001b[0;32m     15\u001b[0m \u001b[38;5;66;03m# Define um novo modelo Keras “feature_extractor”:\u001b[39;00m\n\u001b[0;32m     16\u001b[0m \u001b[38;5;66;03m#   inputs=cnn1d.input\u001b[39;00m\n\u001b[0;32m     17\u001b[0m \u001b[38;5;66;03m#       — especifica que ele recebe as mesmas entradas que o modelo original\u001b[39;00m\n\u001b[1;32m   (...)\u001b[0m\n\u001b[0;32m     22\u001b[0m \u001b[38;5;66;03m# 2) Prepara um exemplo de entrada no formato que a rede espera\u001b[39;00m\n\u001b[0;32m     23\u001b[0m \u001b[38;5;66;03m# ------------------------------------------------------------------\u001b[39;00m\n",
      "\u001b[1;31mNameError\u001b[0m: name 'cnn1d' is not defined"
     ]
    }
   ],
   "source": [
    "import matplotlib.pyplot as plt\n",
    "import numpy as np\n",
    "from tensorflow.keras.models import Model\n",
    "\n",
    "# ------------------------------------------------------------------\n",
    "# 1) Cria um modelo auxiliar que retorna a saída da primeira Conv1D\n",
    "# ------------------------------------------------------------------\n",
    "\n",
    "# Obtém o nome da primeira camada Conv1D na arquitetura cnn1d\n",
    "cnn1d_layer = cnn1d.layers[1].name  # aqui assumimos que layers[0] é a camada de Input\n",
    "\n",
    "feature_extractor = Model(\n",
    "    inputs=cnn1d.input,\n",
    "    outputs=cnn1d.get_layer(cnn1d_layer).output)\n",
    "# Define um novo modelo Keras “feature_extractor”:\n",
    "#   inputs=cnn1d.input\n",
    "#       — especifica que ele recebe as mesmas entradas que o modelo original\n",
    "#   outputs=cnn1d.get_layer(cnn1d_layer).output\n",
    "#       — especifica que sua saída será a ativação dessa camada Conv1D em particular\n",
    "\n",
    "# ------------------------------------------------------------------\n",
    "# 2) Prepara um exemplo de entrada no formato que a rede espera\n",
    "# ------------------------------------------------------------------\n",
    "\n",
    "x_sample = XRFcal_prep.iloc[0].values.reshape(1, Input_size, 1)\n",
    "# Seleciona a primeira linha de XRFcal_prep (pandas DataFrame)\n",
    "# .iloc[0,].values retorna os valores como um array NumPy 1D\n",
    "# reshape(1, Input_size, 1) muda o formato para:\n",
    "#   • 1 exemplo\n",
    "#   • Input_size variaveis espectrais\n",
    "#   • 1 canal (já que é Conv1D)\n",
    "\n",
    "# ------------------------------------------------------------------\n",
    "# 3) Gera os feature maps passando o exemplo pelo feature_extractor\n",
    "# ------------------------------------------------------------------\n",
    "\n",
    "feature_maps = feature_extractor.predict(x_sample)\n",
    "# feature_maps terá shape (1, new_width, 16),\n",
    "# onde new_width é o tamanho de saída da Conv1D e 16 é o número de filtros\n",
    "\n",
    "# ------------------------------------------------------------------\n",
    "# 4) Prepara o vetor de “energias” para usar como eixo X nos plots\n",
    "# ------------------------------------------------------------------\n",
    "\n",
    "energies = np.array(\n",
    "    XRFcal_prep.columns[:feature_maps.shape[1]],\n",
    "    dtype=float)\n",
    "# Converte os nomes das colunas (strings) em floats de energia (keV)\n",
    "# Aqui cortamos para feature_maps.shape[1] valores, garantindo alinhamento\n",
    "\n",
    "# ------------------------------------------------------------------\n",
    "# 5) Configura o layout de figuras para visualizar todos os filtros\n",
    "# ------------------------------------------------------------------\n",
    "\n",
    "n_filters = feature_maps.shape[-1]\n",
    "# n_filters = número de filtros da camada (última dimensão do feature_maps)\n",
    "\n",
    "n_rows, n_cols = 4, 4\n",
    "# Queremos um grid 4×4 (para até 16 filtros)\n",
    "\n",
    "fig, axes = plt.subplots(\n",
    "    n_rows, n_cols,\n",
    "    figsize=(18, 16),\n",
    "    sharex=False,\n",
    "    sharey=False)\n",
    "# Cria uma figura com subplots organizados em 4 linhas × 4 colunas\n",
    "# figsize define o tamanho total em polegadas\n",
    "# sharex/sharey=False garante eixos independentes em cada plot\n",
    "\n",
    "# ------------------------------------------------------------------\n",
    "# 6) Itera sobre cada filtro para desenhar seu feature map\n",
    "# ------------------------------------------------------------------\n",
    "\n",
    "# recaptulando \n",
    "# n_filters = número de filtros (total de feature maps)\n",
    "# n_rows, n_cols = número de linhas e colunas do grid de subplots\n",
    "# fig, axes = plt.subplots(n_rows, n_cols, ...)\n",
    "\n",
    "# Itera sobre cada filtro, numerados de 0 até n_filters-1\n",
    "for idx in range(n_filters):\n",
    "\n",
    "    # range(n_filters) gera a sequência de inteiros 0, 1, 2, …, n_filters-1\n",
    "    # row e col determinam a posição no grid:\n",
    "    # Usamos divisão inteira (operator `//`) para definir a linha\n",
    "    row = idx // n_cols\n",
    "    # • `idx // n_cols` divide idx por n_cols e arredonda\n",
    "    #   o resultado para baixo.\n",
    "    # • Exemplo: se n_cols = 4,\n",
    "    #     idx = 0 → 0 // 4 = 0  (linha 0)\n",
    "    #     idx = 1 → 1 // 4 = 0  (linha 0)\n",
    "    #     idx = 2 → 2 // 4 = 0  (linha 0)\n",
    "    #     idx = 3 → 3 // 4 = 0  (linha 0)\n",
    "    #     idx = 4 → 4 // 4 = 1  (linha 1)\n",
    "    #   Assim, cada bloco de 4 índices avança uma linha.\n",
    "\n",
    "    # Usamos o operador resto de divisao (operator `%`) para definir a coluna:\n",
    "    col = idx % n_cols\n",
    "    # • `idx % n_cols` retorna o resto da divisão de idx por n_cols.\n",
    "    # • Exemplo: se n_cols = 4,\n",
    "    #     idx = 0 → 0 % 4 = 0  (coluna 0)\n",
    "    #     idx = 1 → 1 % 4 = 1  (coluna 1)\n",
    "    #     idx = 2 → 2 % 4 = 2  (coluna 2)\n",
    "    #     idx = 3 → 3 % 4 = 3  (coluna 3)\n",
    "    #     idx = 4 → 4 % 4 = 0  (volta a coluna 0 na próxima linha)\n",
    "    #   Assim, o resto “reseta” o contador de colunas quando\n",
    "\n",
    "    # Agora selecionamos o eixo correto no grid de subplots para a figura especificada:\n",
    "    ax = axes[row, col]\n",
    "\n",
    "    ax.plot(\n",
    "        energies,\n",
    "        feature_maps[0, :, idx],\n",
    "        linewidth=1.0)\n",
    "    # Plota uma linha com:\n",
    "    #   • x = energias (keV)\n",
    "    #   • y = ativações do filtro idx ao longo do eixo new_width\n",
    "    # feature_maps tem shape (1, new_width, n_filters), então acessamos:\n",
    "    #   feature_maps[0, :, idx]\n",
    "\n",
    "\n",
    "    # Define título e rótulos para tornar o gráfico didático\n",
    "    ax.set_title(f'Feature map {idx}')\n",
    "    ax.set_xlabel('Energia (keV)')\n",
    "    ax.set_ylabel('Ativação')\n",
    "\n",
    "    # Ajusta ticks de X de 2 em 2 (se fizer sentido para your range)\n",
    "    ax.set_xticks(np.arange(energies.min(), energies.max()+1, 2))\n",
    "\n",
    "    # Define limites do eixo X de 1 a 15 keV (ajuste conforme seu caso)\n",
    "    ax.set_xlim(1, 15)\n",
    "\n",
    "# ------------------------------------------------------------------\n",
    "# 7) Ajustes finais e exibição\n",
    "# ------------------------------------------------------------------\n",
    "\n",
    "plt.tight_layout()  # ajusta espaçamento para não sobrepor títulos e eixos\n",
    "plt.show()          # exibe a figura na tela\n"
   ]
  },
  {
   "cell_type": "markdown",
   "id": "0a9316a2",
   "metadata": {},
   "source": [
    "## **CNN 1D - multi-target (exCa e SOC)**"
   ]
  },
  {
   "cell_type": "code",
   "execution_count": 30,
   "id": "11e44538",
   "metadata": {},
   "outputs": [],
   "source": [
    "#reprodutibilidade pelo TF\n",
    "import os\n",
    "import random\n",
    "import tensorflow as tf\n",
    "\n",
    "# Define um valor fixo para a semente\n",
    "seed_value = 1\n",
    "\n",
    "# 1. Configura a semente para o Python\n",
    "os.environ['PYTHONHASHSEED'] = str(seed_value)\n",
    "random.seed(seed_value)\n",
    "\n",
    "# 2. Configura a semente para o NumPy\n",
    "np.random.seed(seed_value)\n",
    "\n",
    "# 3. Configura a semente para o TensorFlow\n",
    "tf.random.set_seed(seed_value)\n"
   ]
  },
  {
   "cell_type": "code",
   "execution_count": 31,
   "id": "e8cee614",
   "metadata": {},
   "outputs": [
    {
     "data": {
      "text/html": [
       "<pre style=\"white-space:pre;overflow-x:auto;line-height:normal;font-family:Menlo,'DejaVu Sans Mono',consolas,'Courier New',monospace\"><span style=\"font-weight: bold\">Model: \"functional_4\"</span>\n",
       "</pre>\n"
      ],
      "text/plain": [
       "\u001b[1mModel: \"functional_4\"\u001b[0m\n"
      ]
     },
     "metadata": {},
     "output_type": "display_data"
    },
    {
     "data": {
      "text/html": [
       "<pre style=\"white-space:pre;overflow-x:auto;line-height:normal;font-family:Menlo,'DejaVu Sans Mono',consolas,'Courier New',monospace\">┏━━━━━━━━━━━━━━━━━━━━━┳━━━━━━━━━━━━━━━━━━━┳━━━━━━━━━━━━┳━━━━━━━━━━━━━━━━━━━┓\n",
       "┃<span style=\"font-weight: bold\"> Layer (type)        </span>┃<span style=\"font-weight: bold\"> Output Shape      </span>┃<span style=\"font-weight: bold\">    Param # </span>┃<span style=\"font-weight: bold\"> Connected to      </span>┃\n",
       "┡━━━━━━━━━━━━━━━━━━━━━╇━━━━━━━━━━━━━━━━━━━╇━━━━━━━━━━━━╇━━━━━━━━━━━━━━━━━━━┩\n",
       "│ Input (<span style=\"color: #0087ff; text-decoration-color: #0087ff\">InputLayer</span>)  │ (<span style=\"color: #00d7ff; text-decoration-color: #00d7ff\">None</span>, <span style=\"color: #00af00; text-decoration-color: #00af00\">701</span>, <span style=\"color: #00af00; text-decoration-color: #00af00\">1</span>)    │          <span style=\"color: #00af00; text-decoration-color: #00af00\">0</span> │ -                 │\n",
       "├─────────────────────┼───────────────────┼────────────┼───────────────────┤\n",
       "│ conv1d_3 (<span style=\"color: #0087ff; text-decoration-color: #0087ff\">Conv1D</span>)   │ (<span style=\"color: #00d7ff; text-decoration-color: #00d7ff\">None</span>, <span style=\"color: #00af00; text-decoration-color: #00af00\">698</span>, <span style=\"color: #00af00; text-decoration-color: #00af00\">32</span>)   │        <span style=\"color: #00af00; text-decoration-color: #00af00\">160</span> │ Input[<span style=\"color: #00af00; text-decoration-color: #00af00\">0</span>][<span style=\"color: #00af00; text-decoration-color: #00af00\">0</span>]       │\n",
       "├─────────────────────┼───────────────────┼────────────┼───────────────────┤\n",
       "│ max_pooling1d_3     │ (<span style=\"color: #00d7ff; text-decoration-color: #00d7ff\">None</span>, <span style=\"color: #00af00; text-decoration-color: #00af00\">349</span>, <span style=\"color: #00af00; text-decoration-color: #00af00\">32</span>)   │          <span style=\"color: #00af00; text-decoration-color: #00af00\">0</span> │ conv1d_3[<span style=\"color: #00af00; text-decoration-color: #00af00\">0</span>][<span style=\"color: #00af00; text-decoration-color: #00af00\">0</span>]    │\n",
       "│ (<span style=\"color: #0087ff; text-decoration-color: #0087ff\">MaxPooling1D</span>)      │                   │            │                   │\n",
       "├─────────────────────┼───────────────────┼────────────┼───────────────────┤\n",
       "│ conv1d_4 (<span style=\"color: #0087ff; text-decoration-color: #0087ff\">Conv1D</span>)   │ (<span style=\"color: #00d7ff; text-decoration-color: #00d7ff\">None</span>, <span style=\"color: #00af00; text-decoration-color: #00af00\">346</span>, <span style=\"color: #00af00; text-decoration-color: #00af00\">64</span>)   │      <span style=\"color: #00af00; text-decoration-color: #00af00\">8,256</span> │ max_pooling1d_3[<span style=\"color: #00af00; text-decoration-color: #00af00\">…</span> │\n",
       "├─────────────────────┼───────────────────┼────────────┼───────────────────┤\n",
       "│ max_pooling1d_4     │ (<span style=\"color: #00d7ff; text-decoration-color: #00d7ff\">None</span>, <span style=\"color: #00af00; text-decoration-color: #00af00\">173</span>, <span style=\"color: #00af00; text-decoration-color: #00af00\">64</span>)   │          <span style=\"color: #00af00; text-decoration-color: #00af00\">0</span> │ conv1d_4[<span style=\"color: #00af00; text-decoration-color: #00af00\">0</span>][<span style=\"color: #00af00; text-decoration-color: #00af00\">0</span>]    │\n",
       "│ (<span style=\"color: #0087ff; text-decoration-color: #0087ff\">MaxPooling1D</span>)      │                   │            │                   │\n",
       "├─────────────────────┼───────────────────┼────────────┼───────────────────┤\n",
       "│ conv1d_5 (<span style=\"color: #0087ff; text-decoration-color: #0087ff\">Conv1D</span>)   │ (<span style=\"color: #00d7ff; text-decoration-color: #00d7ff\">None</span>, <span style=\"color: #00af00; text-decoration-color: #00af00\">170</span>, <span style=\"color: #00af00; text-decoration-color: #00af00\">128</span>)  │     <span style=\"color: #00af00; text-decoration-color: #00af00\">32,896</span> │ max_pooling1d_4[<span style=\"color: #00af00; text-decoration-color: #00af00\">…</span> │\n",
       "├─────────────────────┼───────────────────┼────────────┼───────────────────┤\n",
       "│ max_pooling1d_5     │ (<span style=\"color: #00d7ff; text-decoration-color: #00d7ff\">None</span>, <span style=\"color: #00af00; text-decoration-color: #00af00\">85</span>, <span style=\"color: #00af00; text-decoration-color: #00af00\">128</span>)   │          <span style=\"color: #00af00; text-decoration-color: #00af00\">0</span> │ conv1d_5[<span style=\"color: #00af00; text-decoration-color: #00af00\">0</span>][<span style=\"color: #00af00; text-decoration-color: #00af00\">0</span>]    │\n",
       "│ (<span style=\"color: #0087ff; text-decoration-color: #0087ff\">MaxPooling1D</span>)      │                   │            │                   │\n",
       "├─────────────────────┼───────────────────┼────────────┼───────────────────┤\n",
       "│ dropout_13          │ (<span style=\"color: #00d7ff; text-decoration-color: #00d7ff\">None</span>, <span style=\"color: #00af00; text-decoration-color: #00af00\">85</span>, <span style=\"color: #00af00; text-decoration-color: #00af00\">128</span>)   │          <span style=\"color: #00af00; text-decoration-color: #00af00\">0</span> │ max_pooling1d_5[<span style=\"color: #00af00; text-decoration-color: #00af00\">…</span> │\n",
       "│ (<span style=\"color: #0087ff; text-decoration-color: #0087ff\">Dropout</span>)           │                   │            │                   │\n",
       "├─────────────────────┼───────────────────┼────────────┼───────────────────┤\n",
       "│ flatten_1 (<span style=\"color: #0087ff; text-decoration-color: #0087ff\">Flatten</span>) │ (<span style=\"color: #00d7ff; text-decoration-color: #00d7ff\">None</span>, <span style=\"color: #00af00; text-decoration-color: #00af00\">10880</span>)     │          <span style=\"color: #00af00; text-decoration-color: #00af00\">0</span> │ dropout_13[<span style=\"color: #00af00; text-decoration-color: #00af00\">0</span>][<span style=\"color: #00af00; text-decoration-color: #00af00\">0</span>]  │\n",
       "├─────────────────────┼───────────────────┼────────────┼───────────────────┤\n",
       "│ dense_20 (<span style=\"color: #0087ff; text-decoration-color: #0087ff\">Dense</span>)    │ (<span style=\"color: #00d7ff; text-decoration-color: #00d7ff\">None</span>, <span style=\"color: #00af00; text-decoration-color: #00af00\">64</span>)        │    <span style=\"color: #00af00; text-decoration-color: #00af00\">696,384</span> │ flatten_1[<span style=\"color: #00af00; text-decoration-color: #00af00\">0</span>][<span style=\"color: #00af00; text-decoration-color: #00af00\">0</span>]   │\n",
       "├─────────────────────┼───────────────────┼────────────┼───────────────────┤\n",
       "│ dropout_14          │ (<span style=\"color: #00d7ff; text-decoration-color: #00d7ff\">None</span>, <span style=\"color: #00af00; text-decoration-color: #00af00\">64</span>)        │          <span style=\"color: #00af00; text-decoration-color: #00af00\">0</span> │ dense_20[<span style=\"color: #00af00; text-decoration-color: #00af00\">0</span>][<span style=\"color: #00af00; text-decoration-color: #00af00\">0</span>]    │\n",
       "│ (<span style=\"color: #0087ff; text-decoration-color: #0087ff\">Dropout</span>)           │                   │            │                   │\n",
       "├─────────────────────┼───────────────────┼────────────┼───────────────────┤\n",
       "│ dense_23 (<span style=\"color: #0087ff; text-decoration-color: #0087ff\">Dense</span>)    │ (<span style=\"color: #00d7ff; text-decoration-color: #00d7ff\">None</span>, <span style=\"color: #00af00; text-decoration-color: #00af00\">256</span>)       │  <span style=\"color: #00af00; text-decoration-color: #00af00\">2,785,536</span> │ flatten_1[<span style=\"color: #00af00; text-decoration-color: #00af00\">0</span>][<span style=\"color: #00af00; text-decoration-color: #00af00\">0</span>]   │\n",
       "├─────────────────────┼───────────────────┼────────────┼───────────────────┤\n",
       "│ dense_21 (<span style=\"color: #0087ff; text-decoration-color: #0087ff\">Dense</span>)    │ (<span style=\"color: #00d7ff; text-decoration-color: #00d7ff\">None</span>, <span style=\"color: #00af00; text-decoration-color: #00af00\">32</span>)        │      <span style=\"color: #00af00; text-decoration-color: #00af00\">2,080</span> │ dropout_14[<span style=\"color: #00af00; text-decoration-color: #00af00\">0</span>][<span style=\"color: #00af00; text-decoration-color: #00af00\">0</span>]  │\n",
       "├─────────────────────┼───────────────────┼────────────┼───────────────────┤\n",
       "│ dropout_16          │ (<span style=\"color: #00d7ff; text-decoration-color: #00d7ff\">None</span>, <span style=\"color: #00af00; text-decoration-color: #00af00\">256</span>)       │          <span style=\"color: #00af00; text-decoration-color: #00af00\">0</span> │ dense_23[<span style=\"color: #00af00; text-decoration-color: #00af00\">0</span>][<span style=\"color: #00af00; text-decoration-color: #00af00\">0</span>]    │\n",
       "│ (<span style=\"color: #0087ff; text-decoration-color: #0087ff\">Dropout</span>)           │                   │            │                   │\n",
       "├─────────────────────┼───────────────────┼────────────┼───────────────────┤\n",
       "│ dropout_15          │ (<span style=\"color: #00d7ff; text-decoration-color: #00d7ff\">None</span>, <span style=\"color: #00af00; text-decoration-color: #00af00\">32</span>)        │          <span style=\"color: #00af00; text-decoration-color: #00af00\">0</span> │ dense_21[<span style=\"color: #00af00; text-decoration-color: #00af00\">0</span>][<span style=\"color: #00af00; text-decoration-color: #00af00\">0</span>]    │\n",
       "│ (<span style=\"color: #0087ff; text-decoration-color: #0087ff\">Dropout</span>)           │                   │            │                   │\n",
       "├─────────────────────┼───────────────────┼────────────┼───────────────────┤\n",
       "│ dense_24 (<span style=\"color: #0087ff; text-decoration-color: #0087ff\">Dense</span>)    │ (<span style=\"color: #00d7ff; text-decoration-color: #00d7ff\">None</span>, <span style=\"color: #00af00; text-decoration-color: #00af00\">128</span>)       │     <span style=\"color: #00af00; text-decoration-color: #00af00\">32,896</span> │ dropout_16[<span style=\"color: #00af00; text-decoration-color: #00af00\">0</span>][<span style=\"color: #00af00; text-decoration-color: #00af00\">0</span>]  │\n",
       "├─────────────────────┼───────────────────┼────────────┼───────────────────┤\n",
       "│ dense_22 (<span style=\"color: #0087ff; text-decoration-color: #0087ff\">Dense</span>)    │ (<span style=\"color: #00d7ff; text-decoration-color: #00d7ff\">None</span>, <span style=\"color: #00af00; text-decoration-color: #00af00\">16</span>)        │        <span style=\"color: #00af00; text-decoration-color: #00af00\">528</span> │ dropout_15[<span style=\"color: #00af00; text-decoration-color: #00af00\">0</span>][<span style=\"color: #00af00; text-decoration-color: #00af00\">0</span>]  │\n",
       "├─────────────────────┼───────────────────┼────────────┼───────────────────┤\n",
       "│ dense_25 (<span style=\"color: #0087ff; text-decoration-color: #0087ff\">Dense</span>)    │ (<span style=\"color: #00d7ff; text-decoration-color: #00d7ff\">None</span>, <span style=\"color: #00af00; text-decoration-color: #00af00\">64</span>)        │      <span style=\"color: #00af00; text-decoration-color: #00af00\">8,256</span> │ dense_24[<span style=\"color: #00af00; text-decoration-color: #00af00\">0</span>][<span style=\"color: #00af00; text-decoration-color: #00af00\">0</span>]    │\n",
       "├─────────────────────┼───────────────────┼────────────┼───────────────────┤\n",
       "│ SOC_output (<span style=\"color: #0087ff; text-decoration-color: #0087ff\">Dense</span>)  │ (<span style=\"color: #00d7ff; text-decoration-color: #00d7ff\">None</span>, <span style=\"color: #00af00; text-decoration-color: #00af00\">1</span>)         │         <span style=\"color: #00af00; text-decoration-color: #00af00\">17</span> │ dense_22[<span style=\"color: #00af00; text-decoration-color: #00af00\">0</span>][<span style=\"color: #00af00; text-decoration-color: #00af00\">0</span>]    │\n",
       "├─────────────────────┼───────────────────┼────────────┼───────────────────┤\n",
       "│ exCa_output (<span style=\"color: #0087ff; text-decoration-color: #0087ff\">Dense</span>) │ (<span style=\"color: #00d7ff; text-decoration-color: #00d7ff\">None</span>, <span style=\"color: #00af00; text-decoration-color: #00af00\">1</span>)         │         <span style=\"color: #00af00; text-decoration-color: #00af00\">65</span> │ dense_25[<span style=\"color: #00af00; text-decoration-color: #00af00\">0</span>][<span style=\"color: #00af00; text-decoration-color: #00af00\">0</span>]    │\n",
       "└─────────────────────┴───────────────────┴────────────┴───────────────────┘\n",
       "</pre>\n"
      ],
      "text/plain": [
       "┏━━━━━━━━━━━━━━━━━━━━━┳━━━━━━━━━━━━━━━━━━━┳━━━━━━━━━━━━┳━━━━━━━━━━━━━━━━━━━┓\n",
       "┃\u001b[1m \u001b[0m\u001b[1mLayer (type)       \u001b[0m\u001b[1m \u001b[0m┃\u001b[1m \u001b[0m\u001b[1mOutput Shape     \u001b[0m\u001b[1m \u001b[0m┃\u001b[1m \u001b[0m\u001b[1m   Param #\u001b[0m\u001b[1m \u001b[0m┃\u001b[1m \u001b[0m\u001b[1mConnected to     \u001b[0m\u001b[1m \u001b[0m┃\n",
       "┡━━━━━━━━━━━━━━━━━━━━━╇━━━━━━━━━━━━━━━━━━━╇━━━━━━━━━━━━╇━━━━━━━━━━━━━━━━━━━┩\n",
       "│ Input (\u001b[38;5;33mInputLayer\u001b[0m)  │ (\u001b[38;5;45mNone\u001b[0m, \u001b[38;5;34m701\u001b[0m, \u001b[38;5;34m1\u001b[0m)    │          \u001b[38;5;34m0\u001b[0m │ -                 │\n",
       "├─────────────────────┼───────────────────┼────────────┼───────────────────┤\n",
       "│ conv1d_3 (\u001b[38;5;33mConv1D\u001b[0m)   │ (\u001b[38;5;45mNone\u001b[0m, \u001b[38;5;34m698\u001b[0m, \u001b[38;5;34m32\u001b[0m)   │        \u001b[38;5;34m160\u001b[0m │ Input[\u001b[38;5;34m0\u001b[0m][\u001b[38;5;34m0\u001b[0m]       │\n",
       "├─────────────────────┼───────────────────┼────────────┼───────────────────┤\n",
       "│ max_pooling1d_3     │ (\u001b[38;5;45mNone\u001b[0m, \u001b[38;5;34m349\u001b[0m, \u001b[38;5;34m32\u001b[0m)   │          \u001b[38;5;34m0\u001b[0m │ conv1d_3[\u001b[38;5;34m0\u001b[0m][\u001b[38;5;34m0\u001b[0m]    │\n",
       "│ (\u001b[38;5;33mMaxPooling1D\u001b[0m)      │                   │            │                   │\n",
       "├─────────────────────┼───────────────────┼────────────┼───────────────────┤\n",
       "│ conv1d_4 (\u001b[38;5;33mConv1D\u001b[0m)   │ (\u001b[38;5;45mNone\u001b[0m, \u001b[38;5;34m346\u001b[0m, \u001b[38;5;34m64\u001b[0m)   │      \u001b[38;5;34m8,256\u001b[0m │ max_pooling1d_3[\u001b[38;5;34m…\u001b[0m │\n",
       "├─────────────────────┼───────────────────┼────────────┼───────────────────┤\n",
       "│ max_pooling1d_4     │ (\u001b[38;5;45mNone\u001b[0m, \u001b[38;5;34m173\u001b[0m, \u001b[38;5;34m64\u001b[0m)   │          \u001b[38;5;34m0\u001b[0m │ conv1d_4[\u001b[38;5;34m0\u001b[0m][\u001b[38;5;34m0\u001b[0m]    │\n",
       "│ (\u001b[38;5;33mMaxPooling1D\u001b[0m)      │                   │            │                   │\n",
       "├─────────────────────┼───────────────────┼────────────┼───────────────────┤\n",
       "│ conv1d_5 (\u001b[38;5;33mConv1D\u001b[0m)   │ (\u001b[38;5;45mNone\u001b[0m, \u001b[38;5;34m170\u001b[0m, \u001b[38;5;34m128\u001b[0m)  │     \u001b[38;5;34m32,896\u001b[0m │ max_pooling1d_4[\u001b[38;5;34m…\u001b[0m │\n",
       "├─────────────────────┼───────────────────┼────────────┼───────────────────┤\n",
       "│ max_pooling1d_5     │ (\u001b[38;5;45mNone\u001b[0m, \u001b[38;5;34m85\u001b[0m, \u001b[38;5;34m128\u001b[0m)   │          \u001b[38;5;34m0\u001b[0m │ conv1d_5[\u001b[38;5;34m0\u001b[0m][\u001b[38;5;34m0\u001b[0m]    │\n",
       "│ (\u001b[38;5;33mMaxPooling1D\u001b[0m)      │                   │            │                   │\n",
       "├─────────────────────┼───────────────────┼────────────┼───────────────────┤\n",
       "│ dropout_13          │ (\u001b[38;5;45mNone\u001b[0m, \u001b[38;5;34m85\u001b[0m, \u001b[38;5;34m128\u001b[0m)   │          \u001b[38;5;34m0\u001b[0m │ max_pooling1d_5[\u001b[38;5;34m…\u001b[0m │\n",
       "│ (\u001b[38;5;33mDropout\u001b[0m)           │                   │            │                   │\n",
       "├─────────────────────┼───────────────────┼────────────┼───────────────────┤\n",
       "│ flatten_1 (\u001b[38;5;33mFlatten\u001b[0m) │ (\u001b[38;5;45mNone\u001b[0m, \u001b[38;5;34m10880\u001b[0m)     │          \u001b[38;5;34m0\u001b[0m │ dropout_13[\u001b[38;5;34m0\u001b[0m][\u001b[38;5;34m0\u001b[0m]  │\n",
       "├─────────────────────┼───────────────────┼────────────┼───────────────────┤\n",
       "│ dense_20 (\u001b[38;5;33mDense\u001b[0m)    │ (\u001b[38;5;45mNone\u001b[0m, \u001b[38;5;34m64\u001b[0m)        │    \u001b[38;5;34m696,384\u001b[0m │ flatten_1[\u001b[38;5;34m0\u001b[0m][\u001b[38;5;34m0\u001b[0m]   │\n",
       "├─────────────────────┼───────────────────┼────────────┼───────────────────┤\n",
       "│ dropout_14          │ (\u001b[38;5;45mNone\u001b[0m, \u001b[38;5;34m64\u001b[0m)        │          \u001b[38;5;34m0\u001b[0m │ dense_20[\u001b[38;5;34m0\u001b[0m][\u001b[38;5;34m0\u001b[0m]    │\n",
       "│ (\u001b[38;5;33mDropout\u001b[0m)           │                   │            │                   │\n",
       "├─────────────────────┼───────────────────┼────────────┼───────────────────┤\n",
       "│ dense_23 (\u001b[38;5;33mDense\u001b[0m)    │ (\u001b[38;5;45mNone\u001b[0m, \u001b[38;5;34m256\u001b[0m)       │  \u001b[38;5;34m2,785,536\u001b[0m │ flatten_1[\u001b[38;5;34m0\u001b[0m][\u001b[38;5;34m0\u001b[0m]   │\n",
       "├─────────────────────┼───────────────────┼────────────┼───────────────────┤\n",
       "│ dense_21 (\u001b[38;5;33mDense\u001b[0m)    │ (\u001b[38;5;45mNone\u001b[0m, \u001b[38;5;34m32\u001b[0m)        │      \u001b[38;5;34m2,080\u001b[0m │ dropout_14[\u001b[38;5;34m0\u001b[0m][\u001b[38;5;34m0\u001b[0m]  │\n",
       "├─────────────────────┼───────────────────┼────────────┼───────────────────┤\n",
       "│ dropout_16          │ (\u001b[38;5;45mNone\u001b[0m, \u001b[38;5;34m256\u001b[0m)       │          \u001b[38;5;34m0\u001b[0m │ dense_23[\u001b[38;5;34m0\u001b[0m][\u001b[38;5;34m0\u001b[0m]    │\n",
       "│ (\u001b[38;5;33mDropout\u001b[0m)           │                   │            │                   │\n",
       "├─────────────────────┼───────────────────┼────────────┼───────────────────┤\n",
       "│ dropout_15          │ (\u001b[38;5;45mNone\u001b[0m, \u001b[38;5;34m32\u001b[0m)        │          \u001b[38;5;34m0\u001b[0m │ dense_21[\u001b[38;5;34m0\u001b[0m][\u001b[38;5;34m0\u001b[0m]    │\n",
       "│ (\u001b[38;5;33mDropout\u001b[0m)           │                   │            │                   │\n",
       "├─────────────────────┼───────────────────┼────────────┼───────────────────┤\n",
       "│ dense_24 (\u001b[38;5;33mDense\u001b[0m)    │ (\u001b[38;5;45mNone\u001b[0m, \u001b[38;5;34m128\u001b[0m)       │     \u001b[38;5;34m32,896\u001b[0m │ dropout_16[\u001b[38;5;34m0\u001b[0m][\u001b[38;5;34m0\u001b[0m]  │\n",
       "├─────────────────────┼───────────────────┼────────────┼───────────────────┤\n",
       "│ dense_22 (\u001b[38;5;33mDense\u001b[0m)    │ (\u001b[38;5;45mNone\u001b[0m, \u001b[38;5;34m16\u001b[0m)        │        \u001b[38;5;34m528\u001b[0m │ dropout_15[\u001b[38;5;34m0\u001b[0m][\u001b[38;5;34m0\u001b[0m]  │\n",
       "├─────────────────────┼───────────────────┼────────────┼───────────────────┤\n",
       "│ dense_25 (\u001b[38;5;33mDense\u001b[0m)    │ (\u001b[38;5;45mNone\u001b[0m, \u001b[38;5;34m64\u001b[0m)        │      \u001b[38;5;34m8,256\u001b[0m │ dense_24[\u001b[38;5;34m0\u001b[0m][\u001b[38;5;34m0\u001b[0m]    │\n",
       "├─────────────────────┼───────────────────┼────────────┼───────────────────┤\n",
       "│ SOC_output (\u001b[38;5;33mDense\u001b[0m)  │ (\u001b[38;5;45mNone\u001b[0m, \u001b[38;5;34m1\u001b[0m)         │         \u001b[38;5;34m17\u001b[0m │ dense_22[\u001b[38;5;34m0\u001b[0m][\u001b[38;5;34m0\u001b[0m]    │\n",
       "├─────────────────────┼───────────────────┼────────────┼───────────────────┤\n",
       "│ exCa_output (\u001b[38;5;33mDense\u001b[0m) │ (\u001b[38;5;45mNone\u001b[0m, \u001b[38;5;34m1\u001b[0m)         │         \u001b[38;5;34m65\u001b[0m │ dense_25[\u001b[38;5;34m0\u001b[0m][\u001b[38;5;34m0\u001b[0m]    │\n",
       "└─────────────────────┴───────────────────┴────────────┴───────────────────┘\n"
      ]
     },
     "metadata": {},
     "output_type": "display_data"
    },
    {
     "data": {
      "text/html": [
       "<pre style=\"white-space:pre;overflow-x:auto;line-height:normal;font-family:Menlo,'DejaVu Sans Mono',consolas,'Courier New',monospace\"><span style=\"font-weight: bold\"> Total params: </span><span style=\"color: #00af00; text-decoration-color: #00af00\">3,567,074</span> (13.61 MB)\n",
       "</pre>\n"
      ],
      "text/plain": [
       "\u001b[1m Total params: \u001b[0m\u001b[38;5;34m3,567,074\u001b[0m (13.61 MB)\n"
      ]
     },
     "metadata": {},
     "output_type": "display_data"
    },
    {
     "data": {
      "text/html": [
       "<pre style=\"white-space:pre;overflow-x:auto;line-height:normal;font-family:Menlo,'DejaVu Sans Mono',consolas,'Courier New',monospace\"><span style=\"font-weight: bold\"> Trainable params: </span><span style=\"color: #00af00; text-decoration-color: #00af00\">3,567,074</span> (13.61 MB)\n",
       "</pre>\n"
      ],
      "text/plain": [
       "\u001b[1m Trainable params: \u001b[0m\u001b[38;5;34m3,567,074\u001b[0m (13.61 MB)\n"
      ]
     },
     "metadata": {},
     "output_type": "display_data"
    },
    {
     "data": {
      "text/html": [
       "<pre style=\"white-space:pre;overflow-x:auto;line-height:normal;font-family:Menlo,'DejaVu Sans Mono',consolas,'Courier New',monospace\"><span style=\"font-weight: bold\"> Non-trainable params: </span><span style=\"color: #00af00; text-decoration-color: #00af00\">0</span> (0.00 B)\n",
       "</pre>\n"
      ],
      "text/plain": [
       "\u001b[1m Non-trainable params: \u001b[0m\u001b[38;5;34m0\u001b[0m (0.00 B)\n"
      ]
     },
     "metadata": {},
     "output_type": "display_data"
    }
   ],
   "source": [
    "from tensorflow.keras.models import Model\n",
    "from tensorflow.keras.layers import Input, Dense, Dropout, Conv1D, MaxPooling1D, Flatten\n",
    "\n",
    "Input_size = XRFcal_prep.shape[1] # extraindo dimensão dos dados de entrada (número de variáveis espectrais)\n",
    "\n",
    "# Definindo o modelo com a API funcional\n",
    "\n",
    "#camadas comuns\n",
    "Camada_input = Input(shape=(Input_size,1), name='Input')\n",
    "Conv1 = Conv1D(filters=32, kernel_size=4, activation='relu')(Camada_input)\n",
    "MaxP1 = MaxPooling1D(pool_size=2, strides=2)(Conv1)\n",
    "Conv2 = Conv1D(filters=64, kernel_size=4, activation='relu')(MaxP1)\n",
    "MaxP2 = MaxPooling1D(pool_size=2, strides=2)(Conv2)\n",
    "Conv3 = Conv1D(filters=128, kernel_size=4, activation='relu')(MaxP2)\n",
    "MaxP3 = MaxPooling1D(pool_size=2, strides=2)(Conv3)\n",
    "Dropout1 = Dropout(0.2)(MaxP3)  # Dropout layer para prevenir overfitting\n",
    "Camada_flatten = Flatten()(Dropout1)  # Flatten layer para converter a saída multi-dimensional em 1D\n",
    "\n",
    "# Camada SOC\n",
    "Camada_SOC1 = Dense(units=64, activation='relu')(Camada_flatten)\n",
    "Camada_SOC2 = Dropout(0.05)(Camada_SOC1)  # Dropout Camada para prevenir overfitting\n",
    "Camada_SOC3 = Dense(units=32, activation='relu')(Camada_SOC2)\n",
    "Camada_SOC4 = Dropout(0.05)(Camada_SOC3)  # Dropout Camada para prevenir overfitting\n",
    "Camada_SOC5 = Dense(units=16, activation='relu')(Camada_SOC4)\n",
    "Output_SOC = Dense(units=1, activation='linear', name='SOC_output')(Camada_SOC5)  # a última camada deve conter o número de variáveis de resposta\n",
    "\n",
    "# Camada exCa\n",
    "Camada_exCa1 = Dense(units=256, activation='relu')(Camada_flatten)\n",
    "Camada_exCa2 = Dropout(0.15)(Camada_exCa1)  # Dropout Camada para prevenir overfitting\n",
    "Camada_exCa3 = Dense(units=128, activation='relu')(Camada_exCa2)\n",
    "Camada_exCa4 = Dense(units=64, activation='relu')(Camada_exCa3)\n",
    "Output_exCa = Dense(units=1, activation='linear', name='exCa_output')(Camada_exCa4)  # a última camada deve conter o número de variáveis de resposta\n",
    "\n",
    "\n",
    "cnn1d_mt = Model(inputs=Camada_input, outputs=[Output_SOC, Output_exCa])\n",
    "cnn1d_mt.summary()"
   ]
  },
  {
   "cell_type": "code",
   "execution_count": 32,
   "id": "733abc13",
   "metadata": {},
   "outputs": [
    {
     "data": {
      "image/png": "[encoded data removed]",
      "text/plain": [
       "<IPython.core.display.Image object>"
      ]
     },
     "execution_count": 32,
     "metadata": {},
     "output_type": "execute_result"
    }
   ],
   "source": [
    "import keras\n",
    "keras.utils.plot_model(cnn1d_mt, \"cnn1d_mt.png\", show_shapes=False, show_layer_names=True, dpi=50, rankdir=\"TB\")  # TB ou rankidir=\"LR\"     \n"
   ]
  },
  {
   "cell_type": "code",
   "execution_count": 33,
   "id": "d75f5508",
   "metadata": {},
   "outputs": [
    {
     "name": "stdout",
     "output_type": "stream",
     "text": [
      "Epoch 1/40\n",
      "\u001b[1m31/31\u001b[0m \u001b[32m━━━━━━━━━━━━━━━━━━━━\u001b[0m\u001b[37m\u001b[0m \u001b[1m6s\u001b[0m 88ms/step - SOC_output_loss: 15.4972 - SOC_output_r2_score: -7.5664 - exCa_output_loss: 3.7863 - exCa_output_r2_score: -3.8223 - loss: 19.2943 - val_SOC_output_loss: 6.2185 - val_SOC_output_r2_score: -0.8206 - val_exCa_output_loss: 1.6878 - val_exCa_output_r2_score: 0.2066 - val_loss: 7.4874\n",
      "Epoch 2/40\n",
      "\u001b[1m31/31\u001b[0m \u001b[32m━━━━━━━━━━━━━━━━━━━━\u001b[0m\u001b[37m\u001b[0m \u001b[1m2s\u001b[0m 76ms/step - SOC_output_loss: 6.5556 - SOC_output_r2_score: -0.4155 - exCa_output_loss: 1.8238 - exCa_output_r2_score: 0.0322 - loss: 8.3831 - val_SOC_output_loss: 4.6102 - val_SOC_output_r2_score: 0.1175 - val_exCa_output_loss: 1.1105 - val_exCa_output_r2_score: 0.6829 - val_loss: 5.0807\n",
      "Epoch 3/40\n",
      "\u001b[1m31/31\u001b[0m \u001b[32m━━━━━━━━━━━━━━━━━━━━\u001b[0m\u001b[37m\u001b[0m \u001b[1m3s\u001b[0m 80ms/step - SOC_output_loss: 5.9012 - SOC_output_r2_score: -0.1496 - exCa_output_loss: 1.3755 - exCa_output_r2_score: 0.4594 - loss: 7.2801 - val_SOC_output_loss: 4.1065 - val_SOC_output_r2_score: 0.2741 - val_exCa_output_loss: 0.9008 - val_exCa_output_r2_score: 0.7578 - val_loss: 4.5868\n",
      "Epoch 4/40\n",
      "\u001b[1m31/31\u001b[0m \u001b[32m━━━━━━━━━━━━━━━━━━━━\u001b[0m\u001b[37m\u001b[0m \u001b[1m2s\u001b[0m 78ms/step - SOC_output_loss: 5.4350 - SOC_output_r2_score: 0.0182 - exCa_output_loss: 1.2349 - exCa_output_r2_score: 0.5566 - loss: 6.6718 - val_SOC_output_loss: 3.8055 - val_SOC_output_r2_score: 0.3362 - val_exCa_output_loss: 0.8621 - val_exCa_output_r2_score: 0.7756 - val_loss: 4.3966\n",
      "Epoch 5/40\n",
      "\u001b[1m31/31\u001b[0m \u001b[32m━━━━━━━━━━━━━━━━━━━━\u001b[0m\u001b[37m\u001b[0m \u001b[1m3s\u001b[0m 83ms/step - SOC_output_loss: 5.0915 - SOC_output_r2_score: 0.1361 - exCa_output_loss: 1.1981 - exCa_output_r2_score: 0.5781 - loss: 6.2898 - val_SOC_output_loss: 3.6125 - val_SOC_output_r2_score: 0.3951 - val_exCa_output_loss: 0.9355 - val_exCa_output_r2_score: 0.7650 - val_loss: 4.2576\n",
      "Epoch 6/40\n",
      "\u001b[1m31/31\u001b[0m \u001b[32m━━━━━━━━━━━━━━━━━━━━\u001b[0m\u001b[37m\u001b[0m \u001b[1m3s\u001b[0m 105ms/step - SOC_output_loss: 5.0488 - SOC_output_r2_score: 0.1541 - exCa_output_loss: 1.1340 - exCa_output_r2_score: 0.6338 - loss: 6.1835 - val_SOC_output_loss: 3.5613 - val_SOC_output_r2_score: 0.4174 - val_exCa_output_loss: 0.8114 - val_exCa_output_r2_score: 0.8231 - val_loss: 4.0805\n",
      "Epoch 7/40\n",
      "\u001b[1m31/31\u001b[0m \u001b[32m━━━━━━━━━━━━━━━━━━━━\u001b[0m\u001b[37m\u001b[0m \u001b[1m3s\u001b[0m 97ms/step - SOC_output_loss: 4.8318 - SOC_output_r2_score: 0.2224 - exCa_output_loss: 1.1026 - exCa_output_r2_score: 0.6484 - loss: 5.9356 - val_SOC_output_loss: 3.8222 - val_SOC_output_r2_score: 0.3345 - val_exCa_output_loss: 1.1086 - val_exCa_output_r2_score: 0.6736 - val_loss: 4.5976\n",
      "Epoch 8/40\n",
      "\u001b[1m31/31\u001b[0m \u001b[32m━━━━━━━━━━━━━━━━━━━━\u001b[0m\u001b[37m\u001b[0m \u001b[1m3s\u001b[0m 83ms/step - SOC_output_loss: 4.5938 - SOC_output_r2_score: 0.2933 - exCa_output_loss: 1.0643 - exCa_output_r2_score: 0.6701 - loss: 5.6603 - val_SOC_output_loss: 3.7007 - val_SOC_output_r2_score: 0.3633 - val_exCa_output_loss: 0.7445 - val_exCa_output_r2_score: 0.8494 - val_loss: 4.1728\n",
      "Epoch 9/40\n",
      "\u001b[1m31/31\u001b[0m \u001b[32m━━━━━━━━━━━━━━━━━━━━\u001b[0m\u001b[37m\u001b[0m \u001b[1m3s\u001b[0m 83ms/step - SOC_output_loss: 4.6527 - SOC_output_r2_score: 0.2715 - exCa_output_loss: 1.0707 - exCa_output_r2_score: 0.6687 - loss: 5.7245 - val_SOC_output_loss: 3.6750 - val_SOC_output_r2_score: 0.3621 - val_exCa_output_loss: 0.7979 - val_exCa_output_r2_score: 0.8267 - val_loss: 4.2334\n",
      "Epoch 10/40\n",
      "\u001b[1m31/31\u001b[0m \u001b[32m━━━━━━━━━━━━━━━━━━━━\u001b[0m\u001b[37m\u001b[0m \u001b[1m3s\u001b[0m 81ms/step - SOC_output_loss: 4.4901 - SOC_output_r2_score: 0.3202 - exCa_output_loss: 0.9338 - exCa_output_r2_score: 0.7429 - loss: 5.4251 - val_SOC_output_loss: 3.3823 - val_SOC_output_r2_score: 0.4496 - val_exCa_output_loss: 0.8313 - val_exCa_output_r2_score: 0.8094 - val_loss: 4.0234\n",
      "Epoch 11/40\n",
      "\u001b[1m31/31\u001b[0m \u001b[32m━━━━━━━━━━━━━━━━━━━━\u001b[0m\u001b[37m\u001b[0m \u001b[1m3s\u001b[0m 82ms/step - SOC_output_loss: 4.2261 - SOC_output_r2_score: 0.4073 - exCa_output_loss: 1.0257 - exCa_output_r2_score: 0.7002 - loss: 5.2542 - val_SOC_output_loss: 3.4960 - val_SOC_output_r2_score: 0.4275 - val_exCa_output_loss: 0.7511 - val_exCa_output_r2_score: 0.8475 - val_loss: 4.0087\n",
      "Epoch 12/40\n",
      "\u001b[1m31/31\u001b[0m \u001b[32m━━━━━━━━━━━━━━━━━━━━\u001b[0m\u001b[37m\u001b[0m \u001b[1m2s\u001b[0m 79ms/step - SOC_output_loss: 4.2587 - SOC_output_r2_score: 0.3915 - exCa_output_loss: 0.9458 - exCa_output_r2_score: 0.7407 - loss: 5.2045 - val_SOC_output_loss: 3.2563 - val_SOC_output_r2_score: 0.4687 - val_exCa_output_loss: 0.6776 - val_exCa_output_r2_score: 0.8712 - val_loss: 3.8276\n",
      "Epoch 13/40\n",
      "\u001b[1m31/31\u001b[0m \u001b[32m━━━━━━━━━━━━━━━━━━━━\u001b[0m\u001b[37m\u001b[0m \u001b[1m2s\u001b[0m 77ms/step - SOC_output_loss: 3.9488 - SOC_output_r2_score: 0.4786 - exCa_output_loss: 1.0007 - exCa_output_r2_score: 0.7076 - loss: 4.9503 - val_SOC_output_loss: 3.0086 - val_SOC_output_r2_score: 0.5413 - val_exCa_output_loss: 0.6778 - val_exCa_output_r2_score: 0.8736 - val_loss: 3.5941\n",
      "Epoch 14/40\n",
      "\u001b[1m31/31\u001b[0m \u001b[32m━━━━━━━━━━━━━━━━━━━━\u001b[0m\u001b[37m\u001b[0m \u001b[1m3s\u001b[0m 91ms/step - SOC_output_loss: 4.0168 - SOC_output_r2_score: 0.4614 - exCa_output_loss: 0.8915 - exCa_output_r2_score: 0.7635 - loss: 4.9095 - val_SOC_output_loss: 2.8967 - val_SOC_output_r2_score: 0.5711 - val_exCa_output_loss: 0.6726 - val_exCa_output_r2_score: 0.8714 - val_loss: 3.4983\n",
      "Epoch 15/40\n",
      "\u001b[1m31/31\u001b[0m \u001b[32m━━━━━━━━━━━━━━━━━━━━\u001b[0m\u001b[37m\u001b[0m \u001b[1m3s\u001b[0m 84ms/step - SOC_output_loss: 3.7703 - SOC_output_r2_score: 0.5208 - exCa_output_loss: 0.8757 - exCa_output_r2_score: 0.7669 - loss: 4.6464 - val_SOC_output_loss: 3.3562 - val_SOC_output_r2_score: 0.4536 - val_exCa_output_loss: 0.6665 - val_exCa_output_r2_score: 0.8743 - val_loss: 3.8667\n",
      "Epoch 16/40\n",
      "\u001b[1m31/31\u001b[0m \u001b[32m━━━━━━━━━━━━━━━━━━━━\u001b[0m\u001b[37m\u001b[0m \u001b[1m2s\u001b[0m 76ms/step - SOC_output_loss: 3.8035 - SOC_output_r2_score: 0.5174 - exCa_output_loss: 0.9867 - exCa_output_r2_score: 0.7116 - loss: 4.7909 - val_SOC_output_loss: 3.2278 - val_SOC_output_r2_score: 0.4883 - val_exCa_output_loss: 0.8816 - val_exCa_output_r2_score: 0.7929 - val_loss: 3.9534\n",
      "Epoch 17/40\n",
      "\u001b[1m31/31\u001b[0m \u001b[32m━━━━━━━━━━━━━━━━━━━━\u001b[0m\u001b[37m\u001b[0m \u001b[1m3s\u001b[0m 109ms/step - SOC_output_loss: 3.8332 - SOC_output_r2_score: 0.5111 - exCa_output_loss: 0.9026 - exCa_output_r2_score: 0.7645 - loss: 4.7368 - val_SOC_output_loss: 2.9123 - val_SOC_output_r2_score: 0.5805 - val_exCa_output_loss: 0.6639 - val_exCa_output_r2_score: 0.8738 - val_loss: 3.4638\n",
      "Epoch 18/40\n",
      "\u001b[1m31/31\u001b[0m \u001b[32m━━━━━━━━━━━━━━━━━━━━\u001b[0m\u001b[37m\u001b[0m \u001b[1m3s\u001b[0m 102ms/step - SOC_output_loss: 3.5127 - SOC_output_r2_score: 0.5818 - exCa_output_loss: 1.0002 - exCa_output_r2_score: 0.6966 - loss: 4.5134 - val_SOC_output_loss: 2.7910 - val_SOC_output_r2_score: 0.6116 - val_exCa_output_loss: 0.6765 - val_exCa_output_r2_score: 0.8787 - val_loss: 3.3384\n",
      "Epoch 19/40\n",
      "\u001b[1m31/31\u001b[0m \u001b[32m━━━━━━━━━━━━━━━━━━━━\u001b[0m\u001b[37m\u001b[0m \u001b[1m2s\u001b[0m 80ms/step - SOC_output_loss: 3.4318 - SOC_output_r2_score: 0.5998 - exCa_output_loss: 0.8926 - exCa_output_r2_score: 0.7660 - loss: 4.3254 - val_SOC_output_loss: 2.9684 - val_SOC_output_r2_score: 0.5806 - val_exCa_output_loss: 0.6804 - val_exCa_output_r2_score: 0.8671 - val_loss: 3.4827\n",
      "Epoch 20/40\n",
      "\u001b[1m31/31\u001b[0m \u001b[32m━━━━━━━━━━━━━━━━━━━━\u001b[0m\u001b[37m\u001b[0m \u001b[1m2s\u001b[0m 79ms/step - SOC_output_loss: 3.4359 - SOC_output_r2_score: 0.6076 - exCa_output_loss: 0.9482 - exCa_output_r2_score: 0.7134 - loss: 4.3861 - val_SOC_output_loss: 2.8439 - val_SOC_output_r2_score: 0.5876 - val_exCa_output_loss: 0.6954 - val_exCa_output_r2_score: 0.8580 - val_loss: 3.4636\n",
      "Epoch 21/40\n",
      "\u001b[1m31/31\u001b[0m \u001b[32m━━━━━━━━━━━━━━━━━━━━\u001b[0m\u001b[37m\u001b[0m \u001b[1m2s\u001b[0m 74ms/step - SOC_output_loss: 3.3385 - SOC_output_r2_score: 0.6320 - exCa_output_loss: 0.9373 - exCa_output_r2_score: 0.7304 - loss: 4.2763 - val_SOC_output_loss: 3.1670 - val_SOC_output_r2_score: 0.5200 - val_exCa_output_loss: 0.6625 - val_exCa_output_r2_score: 0.8793 - val_loss: 3.6476\n",
      "Epoch 22/40\n",
      "\u001b[1m31/31\u001b[0m \u001b[32m━━━━━━━━━━━━━━━━━━━━\u001b[0m\u001b[37m\u001b[0m \u001b[1m2s\u001b[0m 74ms/step - SOC_output_loss: 3.3852 - SOC_output_r2_score: 0.6198 - exCa_output_loss: 0.8880 - exCa_output_r2_score: 0.7635 - loss: 4.2751 - val_SOC_output_loss: 2.7323 - val_SOC_output_r2_score: 0.6286 - val_exCa_output_loss: 0.6665 - val_exCa_output_r2_score: 0.8735 - val_loss: 3.2974\n",
      "Epoch 23/40\n",
      "\u001b[1m31/31\u001b[0m \u001b[32m━━━━━━━━━━━━━━━━━━━━\u001b[0m\u001b[37m\u001b[0m \u001b[1m2s\u001b[0m 77ms/step - SOC_output_loss: 3.2091 - SOC_output_r2_score: 0.6561 - exCa_output_loss: 0.8740 - exCa_output_r2_score: 0.7724 - loss: 4.0833 - val_SOC_output_loss: 3.0219 - val_SOC_output_r2_score: 0.5518 - val_exCa_output_loss: 0.6637 - val_exCa_output_r2_score: 0.8719 - val_loss: 3.5524\n",
      "Epoch 24/40\n",
      "\u001b[1m31/31\u001b[0m \u001b[32m━━━━━━━━━━━━━━━━━━━━\u001b[0m\u001b[37m\u001b[0m \u001b[1m2s\u001b[0m 74ms/step - SOC_output_loss: 3.4264 - SOC_output_r2_score: 0.6072 - exCa_output_loss: 0.8900 - exCa_output_r2_score: 0.7669 - loss: 4.3183 - val_SOC_output_loss: 2.6766 - val_SOC_output_r2_score: 0.6404 - val_exCa_output_loss: 0.6382 - val_exCa_output_r2_score: 0.8837 - val_loss: 3.2143\n",
      "Epoch 25/40\n",
      "\u001b[1m31/31\u001b[0m \u001b[32m━━━━━━━━━━━━━━━━━━━━\u001b[0m\u001b[37m\u001b[0m \u001b[1m2s\u001b[0m 72ms/step - SOC_output_loss: 3.2017 - SOC_output_r2_score: 0.6632 - exCa_output_loss: 0.8577 - exCa_output_r2_score: 0.7802 - loss: 4.0611 - val_SOC_output_loss: 2.8615 - val_SOC_output_r2_score: 0.5807 - val_exCa_output_loss: 0.6544 - val_exCa_output_r2_score: 0.8740 - val_loss: 3.4470\n",
      "Epoch 26/40\n",
      "\u001b[1m31/31\u001b[0m \u001b[32m━━━━━━━━━━━━━━━━━━━━\u001b[0m\u001b[37m\u001b[0m \u001b[1m2s\u001b[0m 73ms/step - SOC_output_loss: 3.1531 - SOC_output_r2_score: 0.6721 - exCa_output_loss: 0.8818 - exCa_output_r2_score: 0.7664 - loss: 4.0350 - val_SOC_output_loss: 3.0554 - val_SOC_output_r2_score: 0.5436 - val_exCa_output_loss: 0.6506 - val_exCa_output_r2_score: 0.8847 - val_loss: 3.5521\n",
      "Epoch 27/40\n",
      "\u001b[1m31/31\u001b[0m \u001b[32m━━━━━━━━━━━━━━━━━━━━\u001b[0m\u001b[37m\u001b[0m \u001b[1m2s\u001b[0m 77ms/step - SOC_output_loss: 3.1846 - SOC_output_r2_score: 0.6653 - exCa_output_loss: 0.8875 - exCa_output_r2_score: 0.7615 - loss: 4.0745 - val_SOC_output_loss: 3.2845 - val_SOC_output_r2_score: 0.4927 - val_exCa_output_loss: 0.6542 - val_exCa_output_r2_score: 0.8703 - val_loss: 3.7476\n",
      "Epoch 28/40\n",
      "\u001b[1m31/31\u001b[0m \u001b[32m━━━━━━━━━━━━━━━━━━━━\u001b[0m\u001b[37m\u001b[0m \u001b[1m2s\u001b[0m 75ms/step - SOC_output_loss: 3.1201 - SOC_output_r2_score: 0.6765 - exCa_output_loss: 0.8639 - exCa_output_r2_score: 0.7747 - loss: 3.9871 - val_SOC_output_loss: 2.7477 - val_SOC_output_r2_score: 0.6167 - val_exCa_output_loss: 0.6404 - val_exCa_output_r2_score: 0.8859 - val_loss: 3.3074\n",
      "Epoch 29/40\n",
      "\u001b[1m31/31\u001b[0m \u001b[32m━━━━━━━━━━━━━━━━━━━━\u001b[0m\u001b[37m\u001b[0m \u001b[1m2s\u001b[0m 75ms/step - SOC_output_loss: 3.1448 - SOC_output_r2_score: 0.6713 - exCa_output_loss: 0.9359 - exCa_output_r2_score: 0.7338 - loss: 4.0828 - val_SOC_output_loss: 3.7659 - val_SOC_output_r2_score: 0.3279 - val_exCa_output_loss: 0.7747 - val_exCa_output_r2_score: 0.8389 - val_loss: 4.3078\n",
      "Epoch 30/40\n",
      "\u001b[1m31/31\u001b[0m \u001b[32m━━━━━━━━━━━━━━━━━━━━\u001b[0m\u001b[37m\u001b[0m \u001b[1m2s\u001b[0m 79ms/step - SOC_output_loss: 3.2186 - SOC_output_r2_score: 0.6474 - exCa_output_loss: 0.8329 - exCa_output_r2_score: 0.7965 - loss: 4.0526 - val_SOC_output_loss: 2.8330 - val_SOC_output_r2_score: 0.6138 - val_exCa_output_loss: 0.7194 - val_exCa_output_r2_score: 0.8577 - val_loss: 3.3913\n",
      "Epoch 31/40\n",
      "\u001b[1m31/31\u001b[0m \u001b[32m━━━━━━━━━━━━━━━━━━━━\u001b[0m\u001b[37m\u001b[0m \u001b[1m2s\u001b[0m 75ms/step - SOC_output_loss: 3.0243 - SOC_output_r2_score: 0.6972 - exCa_output_loss: 0.8305 - exCa_output_r2_score: 0.7973 - loss: 3.8568 - val_SOC_output_loss: 2.9062 - val_SOC_output_r2_score: 0.5959 - val_exCa_output_loss: 0.6326 - val_exCa_output_r2_score: 0.8783 - val_loss: 3.4003\n",
      "Epoch 32/40\n",
      "\u001b[1m31/31\u001b[0m \u001b[32m━━━━━━━━━━━━━━━━━━━━\u001b[0m\u001b[37m\u001b[0m \u001b[1m2s\u001b[0m 74ms/step - SOC_output_loss: 2.8983 - SOC_output_r2_score: 0.7224 - exCa_output_loss: 0.8515 - exCa_output_r2_score: 0.7802 - loss: 3.7519 - val_SOC_output_loss: 3.4513 - val_SOC_output_r2_score: 0.4412 - val_exCa_output_loss: 0.6513 - val_exCa_output_r2_score: 0.8856 - val_loss: 3.8710\n",
      "Epoch 33/40\n",
      "\u001b[1m31/31\u001b[0m \u001b[32m━━━━━━━━━━━━━━━━━━━━\u001b[0m\u001b[37m\u001b[0m \u001b[1m2s\u001b[0m 76ms/step - SOC_output_loss: 3.1001 - SOC_output_r2_score: 0.6813 - exCa_output_loss: 0.8221 - exCa_output_r2_score: 0.7983 - loss: 3.9232 - val_SOC_output_loss: 3.5117 - val_SOC_output_r2_score: 0.4056 - val_exCa_output_loss: 0.6822 - val_exCa_output_r2_score: 0.8777 - val_loss: 3.9997\n",
      "Epoch 34/40\n",
      "\u001b[1m31/31\u001b[0m \u001b[32m━━━━━━━━━━━━━━━━━━━━\u001b[0m\u001b[37m\u001b[0m \u001b[1m2s\u001b[0m 71ms/step - SOC_output_loss: 3.2051 - SOC_output_r2_score: 0.6584 - exCa_output_loss: 0.8222 - exCa_output_r2_score: 0.8022 - loss: 4.0300 - val_SOC_output_loss: 2.8553 - val_SOC_output_r2_score: 0.6039 - val_exCa_output_loss: 0.6174 - val_exCa_output_r2_score: 0.8885 - val_loss: 3.3433\n",
      "Epoch 35/40\n",
      "\u001b[1m31/31\u001b[0m \u001b[32m━━━━━━━━━━━━━━━━━━━━\u001b[0m\u001b[37m\u001b[0m \u001b[1m2s\u001b[0m 72ms/step - SOC_output_loss: 2.9378 - SOC_output_r2_score: 0.7148 - exCa_output_loss: 0.7896 - exCa_output_r2_score: 0.8130 - loss: 3.7290 - val_SOC_output_loss: 3.5386 - val_SOC_output_r2_score: 0.4061 - val_exCa_output_loss: 0.6448 - val_exCa_output_r2_score: 0.8846 - val_loss: 3.9755\n",
      "Epoch 36/40\n",
      "\u001b[1m31/31\u001b[0m \u001b[32m━━━━━━━━━━━━━━━━━━━━\u001b[0m\u001b[37m\u001b[0m \u001b[1m3s\u001b[0m 88ms/step - SOC_output_loss: 2.9549 - SOC_output_r2_score: 0.7094 - exCa_output_loss: 0.7387 - exCa_output_r2_score: 0.8338 - loss: 3.6944 - val_SOC_output_loss: 3.0258 - val_SOC_output_r2_score: 0.5687 - val_exCa_output_loss: 0.6288 - val_exCa_output_r2_score: 0.8759 - val_loss: 3.4945\n",
      "Epoch 37/40\n",
      "\u001b[1m31/31\u001b[0m \u001b[32m━━━━━━━━━━━━━━━━━━━━\u001b[0m\u001b[37m\u001b[0m \u001b[1m2s\u001b[0m 74ms/step - SOC_output_loss: 2.8368 - SOC_output_r2_score: 0.7329 - exCa_output_loss: 0.7740 - exCa_output_r2_score: 0.8120 - loss: 3.6114 - val_SOC_output_loss: 3.3088 - val_SOC_output_r2_score: 0.4742 - val_exCa_output_loss: 0.6080 - val_exCa_output_r2_score: 0.8890 - val_loss: 3.7647\n",
      "Epoch 38/40\n",
      "\u001b[1m31/31\u001b[0m \u001b[32m━━━━━━━━━━━━━━━━━━━━\u001b[0m\u001b[37m\u001b[0m \u001b[1m3s\u001b[0m 82ms/step - SOC_output_loss: 2.7734 - SOC_output_r2_score: 0.7470 - exCa_output_loss: 0.8234 - exCa_output_r2_score: 0.7889 - loss: 3.5979 - val_SOC_output_loss: 3.4857 - val_SOC_output_r2_score: 0.4189 - val_exCa_output_loss: 0.5986 - val_exCa_output_r2_score: 0.8914 - val_loss: 3.9140\n",
      "Epoch 39/40\n",
      "\u001b[1m31/31\u001b[0m \u001b[32m━━━━━━━━━━━━━━━━━━━━\u001b[0m\u001b[37m\u001b[0m \u001b[1m2s\u001b[0m 77ms/step - SOC_output_loss: 2.9182 - SOC_output_r2_score: 0.7131 - exCa_output_loss: 0.8037 - exCa_output_r2_score: 0.8015 - loss: 3.7237 - val_SOC_output_loss: 3.3761 - val_SOC_output_r2_score: 0.4554 - val_exCa_output_loss: 0.6428 - val_exCa_output_r2_score: 0.8848 - val_loss: 3.8346\n",
      "Epoch 40/40\n",
      "\u001b[1m31/31\u001b[0m \u001b[32m━━━━━━━━━━━━━━━━━━━━\u001b[0m\u001b[37m\u001b[0m \u001b[1m3s\u001b[0m 88ms/step - SOC_output_loss: 2.7993 - SOC_output_r2_score: 0.7399 - exCa_output_loss: 0.7926 - exCa_output_r2_score: 0.8083 - loss: 3.5932 - val_SOC_output_loss: 3.6864 - val_SOC_output_r2_score: 0.3419 - val_exCa_output_loss: 0.6114 - val_exCa_output_r2_score: 0.8930 - val_loss: 4.1240\n",
      "Restoring model weights from the end of the best epoch: 24.\n"
     ]
    }
   ],
   "source": [
    "cnn1d_mt.compile(optimizer='Adam', \n",
    "             loss={\n",
    "                   'SOC_output': rmse,\n",
    "                   'exCa_output': rmse},\n",
    "             metrics={\n",
    "                 'SOC_output': ['r2_score'],\n",
    "                 'exCa_output': ['r2_score']})\n",
    "\n",
    "from tensorflow.keras.callbacks import EarlyStopping\n",
    "# early stopping para o modelo multi-target\n",
    "\n",
    "early_stopping = EarlyStopping(\n",
    "    monitor='val_loss',    # prefixo \"val_\" para validação, caso contrario ele atua no treino (val_r2_score para o r2_score da validação por exemplo)\n",
    "    mode='min',                # queremos minimizar o erro de validação\n",
    "    patience=20,             # número de épocas sem melhoria antes de parar o treinamento\n",
    "    restore_best_weights=True,\n",
    "    verbose=1)                  # para ver quando o callback aciona\n",
    "\n",
    "historico_cnn1d_mt = cnn1d_mt.fit(XRFcal_prep, \n",
    "                    Ycal_dict, \n",
    "                    epochs=40, \n",
    "                    batch_size=20, # o batch_size é o numero de amostras que serão incorporadas no erro medio para atualizar os pesos do modelo. se = 10, a cada 10 amostras o modelo atualiza os pesos\n",
    "                    callbacks=[early_stopping], # aplica o early stopping\n",
    "                    validation_data=(XRFval_prep, Yval_dict),\n",
    "                    verbose=1)  \n"
   ]
  },
  {
   "cell_type": "code",
   "execution_count": 34,
   "id": "7de73a37",
   "metadata": {},
   "outputs": [
    {
     "name": "stdout",
     "output_type": "stream",
     "text": [
      "\u001b[1m19/19\u001b[0m \u001b[32m━━━━━━━━━━━━━━━━━━━━\u001b[0m\u001b[37m\u001b[0m \u001b[1m1s\u001b[0m 25ms/step\n",
      "\u001b[1m19/19\u001b[0m \u001b[32m━━━━━━━━━━━━━━━━━━━━\u001b[0m\u001b[37m\u001b[0m \u001b[1m0s\u001b[0m 18ms/step\n",
      "\u001b[1m9/9\u001b[0m \u001b[32m━━━━━━━━━━━━━━━━━━━━\u001b[0m\u001b[37m\u001b[0m \u001b[1m0s\u001b[0m 14ms/step\n",
      "\u001b[1m9/9\u001b[0m \u001b[32m━━━━━━━━━━━━━━━━━━━━\u001b[0m\u001b[37m\u001b[0m \u001b[1m0s\u001b[0m 15ms/step\n"
     ]
    }
   ],
   "source": [
    "# transformando os resultados em dataframes\n",
    "calres_cnn1d_mt = pd.DataFrame({\n",
    "\t'SOC': cnn1d_mt.predict(XRFcal_prep)[0].flatten(), # predição dos dados de calibração\n",
    "\t'exCa': cnn1d_mt.predict(XRFcal_prep)[1].flatten()\n",
    "})\n",
    "predres_cnn1d_mt = pd.DataFrame({\n",
    "\t'SOC': cnn1d_mt.predict(XRFval_prep)[0].flatten(),\n",
    "\t'exCa': cnn1d_mt.predict(XRFval_prep)[1].flatten()\n",
    "})\n",
    "\n",
    "# inserindo os dados de referência nos dataframes\n",
    "# A função enumerate() em Python é usada para percorrer uma sequência (como uma lista, tupla, string, etc.) e, ao mesmo tempo, obter tanto o índice como o valor de cada elemento.\n",
    "# Nesse caso ela extrai o índice e o nome da coluna do dataframe Ycal e Yval simultaneamente\n",
    "\n",
    "for i, col in enumerate(Ycal.columns):\n",
    "    calres_cnn1d_mt.insert(i * 2, f\"Ref_{col}\", Ycal[col])\n",
    "    \n",
    "for i, col in enumerate(Yval.columns):\n",
    "    predres_cnn1d_mt.insert(i * 2, f\"Ref_{col}\", Yval[col])\t"
   ]
  },
  {
   "cell_type": "code",
   "execution_count": 38,
   "id": "6c397425",
   "metadata": {},
   "outputs": [],
   "source": [
    "resumo_cnn1d_mt = {'Cal': pd.DataFrame(resumo_multitarget(calres_cnn1d_mt)),\n",
    "           'Pred': pd.DataFrame(resumo_multitarget(predres_cnn1d_mt))}"
   ]
  },
  {
   "cell_type": "code",
   "execution_count": 39,
   "id": "47c0c0c0",
   "metadata": {},
   "outputs": [
    {
     "name": "stdout",
     "output_type": "stream",
     "text": [
      "R2 Calibração:\n",
      "SOC: 0.7412823923211977\n",
      "exCa: 0.8618607097137814\n",
      "\n",
      "R2 Predição:\n",
      "SOC: 0.640428528877537\n",
      "exCa: 0.8836865659519866\n",
      "\n",
      "RMSEC:\n",
      "SOC: 2.7754114003650785\n",
      "exCa: 0.7104140033156008\n",
      "\n",
      "RMSEP:\n",
      "SOC: 2.6122719993023233\n",
      "exCa: 0.6456200992189218\n",
      "\n",
      "RPIQ:\n",
      "SOC: 2.4308341557448596\n",
      "exCa: 4.631206499948397\n"
     ]
    }
   ],
   "source": [
    "#printando as metricas \n",
    "print(\"R2 Calibração:\")\n",
    "for key, value in resumo_cnn1d_mt['Cal']['R2'].items():\n",
    "    print(f\"{key}: {value}\")\n",
    "\n",
    "print(\"\\nR2 Predição:\")\n",
    "for key, value in resumo_cnn1d_mt['Pred']['R2'].items():\n",
    "    print(f\"{key}: {value}\")\n",
    "\n",
    "print(\"\\nRMSEC:\")\n",
    "for key, value in resumo_cnn1d_mt['Cal']['RMSE'].items():\n",
    "    print(f\"{key}: {value}\")  \n",
    "\n",
    "print(\"\\nRMSEP:\")\n",
    "for key, value in resumo_cnn1d_mt['Pred']['RMSE'].items():\n",
    "    print(f\"{key}: {value}\")  \n",
    "\n",
    "print(\"\\nRPIQ:\")\n",
    "for key, value in resumo_cnn1d_mt['Pred']['RPIQ'].items():\n",
    "    print(f\"{key}: {value}\")  "
   ]
  },
  {
   "cell_type": "code",
   "execution_count": 40,
   "id": "0281c446",
   "metadata": {},
   "outputs": [],
   "source": [
    "# Organizando os dicionarios com as métricas de performance\n",
    "resumo_mlp_mt['Completo'] = pd.concat([resumo_mlp_mt['Cal'], resumo_mlp_mt['Pred']], axis=0)\n",
    "resumo_mlp_mt['Completo']['Grupo'] = ['Cal'] * len(resumo_mlp_mt['Cal']) + ['Pred'] * len(resumo_mlp_mt['Pred'])\n",
    "\n",
    "resumo_cnn1d_mt['Completo'] = pd.concat([resumo_cnn1d_mt['Cal'], resumo_cnn1d_mt['Pred']], axis=0)\n",
    "resumo_cnn1d_mt['Completo']['Grupo'] = ['Cal'] * len(resumo_cnn1d_mt['Cal']) + ['Pred'] * len(resumo_cnn1d_mt['Pred'])"
   ]
  },
  {
   "cell_type": "code",
   "execution_count": 42,
   "id": "6e9ed6d7",
   "metadata": {},
   "outputs": [],
   "source": [
    "# salvando os resultados\n",
    "resumo_mlp_mt['Completo'].to_csv('resumo_mlp_mt.csv', sep=';', index=True) # salva o resumo do modelo mlp_mt\n",
    "resumo_cnn1d_mt['Completo'].to_csv('resumo_cnn1d_mt.csv', sep=';', index=True) # salva o resumo do modelo cnn1d_mt\n",
    "resumo_mlptf.to_csv('resumo_mlptf.csv', sep=';', index=True) # salva o resumo do modelo mlptf\n",
    "resumo_cnn1d.to_csv('resumo_cnn1d.csv', sep=';', index=True) # salva o resumo do modelo cnn1d"
   ]
  }
 ],
 "metadata": {
  "kernelspec": {
   "display_name": "Python 3",
   "language": "python",
   "name": "python3"
  },
  "language_info": {
   "codemirror_mode": {
    "name": "ipython",
    "version": 3
   },
   "file_extension": ".py",
   "mimetype": "text/x-python",
   "name": "python",
   "nbconvert_exporter": "python",
   "pygments_lexer": "ipython3",
   "version": "3.9.13"
  }
 },
 "nbformat": 4,
 "nbformat_minor": 5
}
